{
 "cells": [
  {
   "cell_type": "markdown",
   "metadata": {},
   "source": [
    "## 3. Analyze Data\n",
    "\n",
    "[Data Science Playlist on YouTube](https://www.youtube.com/watch?v=5yv_ID4YNTI&list=PLLBUgWXdTBDg1Qgmwt4jKtVn9BWh5-zgy)\n",
    "[![Python Data Science](https://apmonitor.com/che263/uploads/Begin_Python/DataScience03.png)](https://www.youtube.com/watch?v=5yv_ID4YNTI&list=PLLBUgWXdTBDg1Qgmwt4jKtVn9BWh5-zgy \"Python Data Science\")\n",
    "\n",
    "Once data is read into Python, a first step is to analyze the data with summary statistics. This is especially true if the data set is large. Summary statistics include the count, mean, standard deviation, maximum, minimum, and quartile information for the data columns. \n",
    "\n",
    "![idea](https://apmonitor.com/che263/uploads/Begin_Python/idea.png)\n",
    "\n",
    "### Generate Data\n",
    "\n",
    "Run the next cell to:\n",
    "\n",
    "- Generate `n` linearly spaced values betweeen `0` and `n-1` with `np.linspace(start,end,count)`\n",
    "- Draw random samples from a uniform distribution between 0 and 1 with `np.random.rand(count)`\n",
    "- Draw random samples from a normal (Gaussian) distribution with `np.random.normal(mean,std,count)`\n",
    "- Combine `time`, `x`, and `y` with a vertical stack `np.vstack` and transpose `.T` for column oriented data.\n",
    "- Save CSV text file `03-data.csv` with header `time,x,y`."
   ]
  },
  {
   "cell_type": "code",
   "execution_count": 1,
   "metadata": {},
   "outputs": [],
   "source": [
    "import numpy as np\n",
    "np.random.seed(0)\n",
    "n = 1000\n",
    "time = np.linspace(0,n-1,n)\n",
    "x = np.random.rand(n)\n",
    "y = np.random.normal(1,1,n)\n",
    "data = np.vstack((time,x,y)).T\n",
    "np.savetxt('03-data.csv',data,header='time,x,y',delimiter=',',comments='')"
   ]
  },
  {
   "cell_type": "markdown",
   "metadata": {},
   "source": [
    "![idea](https://apmonitor.com/che263/uploads/Begin_Python/idea.png)\n",
    "\n",
    "### Display Data Distributions\n",
    "\n",
    "The histogram is a preview of how to create graphics so that data can be evaluated visually. [04. Visualize](https://github.com/APMonitor/data_science/blob/master/04.%20Visualize.ipynb) shows how to create plots to analyze data. "
   ]
  },
  {
   "cell_type": "code",
   "execution_count": 2,
   "metadata": {},
   "outputs": [
    {
     "data": {
      "image/png": "[encoded data removed]",
      "text/plain": [
       "<Figure size 432x288 with 1 Axes>"
      ]
     },
     "metadata": {
      "needs_background": "light"
     },
     "output_type": "display_data"
    }
   ],
   "source": [
    "import matplotlib.pyplot as plt\n",
    "%matplotlib inline\n",
    "plt.hist(x,10,label='x')\n",
    "plt.hist(y,60,label='y',alpha=0.7)\n",
    "plt.ylabel('Count'); plt.legend()\n",
    "plt.show()"
   ]
  },
  {
   "cell_type": "markdown",
   "metadata": {},
   "source": [
    "![idea](https://apmonitor.com/che263/uploads/Begin_Python/idea.png)\n",
    "\n",
    "### Data Analysis with `numpy`\n",
    "\n",
    "The `np.loadtxt` function reads the CSV data file `03-data.csv`. Numpy calculates `size` (dimensions), `mean` (average), `std` (standard deviation), and `median` as summary statistics. If you don't specify the `axis` then `numpy` gives a statistic across both the rows (`axis=0`) and columns (`axis=1`)."
   ]
  },
  {
   "cell_type": "code",
   "execution_count": 3,
   "metadata": {},
   "outputs": [
    {
     "name": "stdout",
     "output_type": "stream",
     "text": [
      "Dimension (rows,columns):\n",
      "1000 3\n",
      "Average:\n",
      "[4.99500000e+02 4.95921534e-01 1.02904418e+00]\n",
      "Standard Deviation:\n",
      "[288.67499026   0.29059884   0.96616883]\n",
      "Median:\n",
      "[4.99500000e+02 4.81322565e-01 1.03093469e+00]\n"
     ]
    }
   ],
   "source": [
    "import numpy as np\n",
    "data = np.loadtxt('03-data.csv',delimiter=',',skiprows=1)\n",
    "\n",
    "print('Dimension (rows,columns):')\n",
    "print(np.size(data,0),np.size(data,1))\n",
    "\n",
    "print('Average:')\n",
    "print(np.mean(data,axis=0))\n",
    "\n",
    "print('Standard Deviation:')\n",
    "print(np.std(data,0))\n",
    "\n",
    "print('Median:')\n",
    "print(np.median(data,0))"
   ]
  },
  {
   "cell_type": "markdown",
   "metadata": {},
   "source": [
    "![expert](https://apmonitor.com/che263/uploads/Begin_Python/expert.png)\n",
    "\n",
    "### Analyze data\n",
    "\n",
    "1. Calculate the mean, standard deviation, and median of `x*y`\n",
    "2. Calculate the `skew` of `x*y` with the `scipy.stats` [skew function](https://docs.scipy.org/doc/scipy-0.15.1/reference/generated/scipy.stats.skew.html)."
   ]
  },
  {
   "cell_type": "code",
   "execution_count": 4,
   "metadata": {},
   "outputs": [
    {
     "name": "stdout",
     "output_type": "stream",
     "text": [
      "0.5021305639783985 0.628181267249509 0.35459902459887327\n"
     ]
    },
    {
     "data": {
      "text/plain": [
       "1.1973986839553572"
      ]
     },
     "execution_count": 4,
     "metadata": {},
     "output_type": "execute_result"
    }
   ],
   "source": [
    "print(np.mean(x*y), np.std(x*y), np.median(x*y))\n",
    "\n",
    "from scipy.stats import skew\n",
    "skew(x*y)"
   ]
  },
  {
   "cell_type": "markdown",
   "metadata": {},
   "source": [
    "![idea](https://apmonitor.com/che263/uploads/Begin_Python/idea.png)\n",
    "\n",
    "### Data Analysis with `pandas`\n",
    "\n",
    "Pandas simplifies the data analysis with the `.describe()` function that is a method of `DataFrame` that is created with `pd.read_csv()`. Note that the data file can either be a local file name or a web-address such as \n",
    "\n",
    "```python\n",
    "url='http://apmonitor.com/pdc/uploads/Main/tclab_data2.txt'\n",
    "data = pd.read_csv(url)\n",
    "data.describe()\n",
    "```"
   ]
  },
  {
   "cell_type": "code",
   "execution_count": 5,
   "metadata": {},
   "outputs": [
    {
     "data": {
      "text/html": [
       "<div>\n",
       "<style scoped>\n",
       "    .dataframe tbody tr th:only-of-type {\n",
       "        vertical-align: middle;\n",
       "    }\n",
       "\n",
       "    .dataframe tbody tr th {\n",
       "        vertical-align: top;\n",
       "    }\n",
       "\n",
       "    .dataframe thead th {\n",
       "        text-align: right;\n",
       "    }\n",
       "</style>\n",
       "<table border=\"1\" class=\"dataframe\">\n",
       "  <thead>\n",
       "    <tr style=\"text-align: right;\">\n",
       "      <th></th>\n",
       "      <th>time</th>\n",
       "      <th>x</th>\n",
       "      <th>y</th>\n",
       "    </tr>\n",
       "  </thead>\n",
       "  <tbody>\n",
       "    <tr>\n",
       "      <th>count</th>\n",
       "      <td>1000.000000</td>\n",
       "      <td>1000.000000</td>\n",
       "      <td>1000.000000</td>\n",
       "    </tr>\n",
       "    <tr>\n",
       "      <th>mean</th>\n",
       "      <td>499.500000</td>\n",
       "      <td>0.495922</td>\n",
       "      <td>1.029044</td>\n",
       "    </tr>\n",
       "    <tr>\n",
       "      <th>std</th>\n",
       "      <td>288.819436</td>\n",
       "      <td>0.290744</td>\n",
       "      <td>0.966652</td>\n",
       "    </tr>\n",
       "    <tr>\n",
       "      <th>min</th>\n",
       "      <td>0.000000</td>\n",
       "      <td>0.000546</td>\n",
       "      <td>-1.994613</td>\n",
       "    </tr>\n",
       "    <tr>\n",
       "      <th>25%</th>\n",
       "      <td>249.750000</td>\n",
       "      <td>0.247613</td>\n",
       "      <td>0.352914</td>\n",
       "    </tr>\n",
       "    <tr>\n",
       "      <th>50%</th>\n",
       "      <td>499.500000</td>\n",
       "      <td>0.481323</td>\n",
       "      <td>1.030935</td>\n",
       "    </tr>\n",
       "    <tr>\n",
       "      <th>75%</th>\n",
       "      <td>749.250000</td>\n",
       "      <td>0.737260</td>\n",
       "      <td>1.637332</td>\n",
       "    </tr>\n",
       "    <tr>\n",
       "      <th>max</th>\n",
       "      <td>999.000000</td>\n",
       "      <td>0.999809</td>\n",
       "      <td>4.170975</td>\n",
       "    </tr>\n",
       "  </tbody>\n",
       "</table>\n",
       "</div>"
      ],
      "text/plain": [
       "              time            x            y\n",
       "count  1000.000000  1000.000000  1000.000000\n",
       "mean    499.500000     0.495922     1.029044\n",
       "std     288.819436     0.290744     0.966652\n",
       "min       0.000000     0.000546    -1.994613\n",
       "25%     249.750000     0.247613     0.352914\n",
       "50%     499.500000     0.481323     1.030935\n",
       "75%     749.250000     0.737260     1.637332\n",
       "max     999.000000     0.999809     4.170975"
      ]
     },
     "execution_count": 5,
     "metadata": {},
     "output_type": "execute_result"
    }
   ],
   "source": [
    "import pandas as pd\n",
    "data = pd.read_csv('03-data.csv')\n",
    "data.describe()"
   ]
  },
  {
   "cell_type": "markdown",
   "metadata": {},
   "source": [
    "![idea](https://apmonitor.com/che263/uploads/Begin_Python/idea.png)\n",
    "\n",
    "### Data Analysis with `pandas-profiling`\n",
    "\n",
    "Pandas Profiling is a data analysis tool for a more in-depth summary of the data than the `descibe()` function. [Install the package](https://pandas-profiling.github.io/pandas-profiling/docs/master/rtd/pages/installation.html) with:\n",
    "\n",
    "```python\n",
    "pip install --user pandas-profiling[notebook]\n",
    "jupyter nbextension enable --py widgetsnbextension\n",
    "```\n",
    "\n",
    "You need to restart the Kernel before proceeding. The install only needs to run once."
   ]
  },
  {
   "cell_type": "code",
   "execution_count": 6,
   "metadata": {},
   "outputs": [],
   "source": [
    "try:\n",
    "    import pandas as pd\n",
    "    from pandas_profiling import ProfileReport\n",
    "    import os\n",
    "except:\n",
    "    !pip install --user pandas-profiling\n",
    "    !jupyter nbextension enable --py widgetsnbextension\n",
    "    print('Restart the Kernel before proceeding')\n",
    "    \n",
    "# import data\n",
    "url='http://apmonitor.com/pdc/uploads/Main/tclab_data2.txt'\n",
    "data = pd.read_csv(url)"
   ]
  },
  {
   "cell_type": "markdown",
   "metadata": {},
   "source": [
    "After you install `pandas-profiling` and enable the widget extension, you can now import and analysis data. Some of the functions take a long time with a large data set. Two methods for dealing with large data sets are to:\n",
    "\n",
    "1. Sub-sample the data sets such as with `data = data[::10]` to take every 10th row.\n",
    "2. Use the `minimal` option to avoid the correlation and other analysis that is slow with large data sets. "
   ]
  },
  {
   "cell_type": "code",
   "execution_count": 7,
   "metadata": {},
   "outputs": [],
   "source": [
    "profile = ProfileReport(data, explorative=True, minimal=False)"
   ]
  },
  {
   "cell_type": "markdown",
   "metadata": {},
   "source": [
    "The profile report can be saved as an interactive web-page. The web-page is saved to the current working directory that is displayed with `os.getcwd()`."
   ]
  },
  {
   "cell_type": "code",
   "execution_count": 8,
   "metadata": {},
   "outputs": [
    {
     "name": "stderr",
     "output_type": "stream",
     "text": [
      "Summarize dataset: 100%|██████████| 27/27 [00:01<00:00, 16.48it/s, Completed]                    \n",
      "Generate report structure: 100%|██████████| 1/1 [00:01<00:00,  1.02s/it]\n",
      "Render HTML: 100%|██████████| 1/1 [00:00<00:00,  3.28it/s]\n",
      "Export report to file: 100%|██████████| 1/1 [00:00<00:00, 909.63it/s]"
     ]
    },
    {
     "name": "stdout",
     "output_type": "stream",
     "text": [
      "File report.html saved to /home/curtis/classes/dynamic_optmization/data_science-master\n"
     ]
    },
    {
     "name": "stderr",
     "output_type": "stream",
     "text": [
      "\n"
     ]
    }
   ],
   "source": [
    "profile.to_file('report.html')\n",
    "print('File report.html saved to '+os.getcwd())"
   ]
  },
  {
   "cell_type": "markdown",
   "metadata": {},
   "source": [
    "The profile report can also be viewed in the Jupyter Notebook."
   ]
  },
  {
   "cell_type": "markdown",
   "metadata": {},
   "source": [
    "![expert](https://apmonitor.com/che263/uploads/Begin_Python/expert.png)\n",
    "\n",
    "### TCLab Activity\n",
    "\n",
    "![connections](https://apmonitor.com/che263/uploads/Begin_Python/connections.png)\n",
    "\n",
    "### Generate Data Set 1 \n",
    "\n",
    "Generate a file from the TCLab data with seconds (`t`), heater levels (`Q1` and `Q2`), and temperatures (`lab.T1` and `lab.T2`). Record data every second for 120 seconds and change the heater levels every 30 seconds to a random number between 0 and 80 with `np.random.randint()`. There is no need to change this program, only run it for 2 minutes to collect the data. If you do not have a TCLab device, read a data file 1 from [an online link](https://apmonitor.com/do/uploads/Main/tclab_dyn_data2.txt)."
   ]
  },
  {
   "cell_type": "code",
   "execution_count": 10,
   "metadata": {},
   "outputs": [
    {
     "name": "stdout",
     "output_type": "stream",
     "text": [
      "TCLab version 0.4.9\n",
      "Arduino Leonardo connected on port /dev/ttyACM1 at 115200 baud.\n",
      "TCLab Firmware 2.0.1 Arduino Leonardo/Micro.\n",
      "t Q1 Q2 T1    T2\n",
      "0 52 75 25.152 25.088\n",
      "5 52 75 25.281 25.185\n",
      "10 52 75 25.7 25.571\n",
      "15 52 75 26.28 26.087\n",
      "20 52 75 27.021 26.538\n",
      "25 52 75 27.827 27.021\n",
      "30 53 67 28.923 27.505\n",
      "35 53 67 29.922 28.536\n",
      "40 53 67 31.211 29.632\n",
      "45 53 67 32.5 30.244\n",
      "50 53 67 33.467 31.082\n",
      "55 53 67 34.595 31.823\n",
      "60 44 2 35.723 32.468\n",
      "65 44 2 36.754 33.145\n",
      "70 44 2 37.656 33.563\n",
      "75 44 2 38.623 33.982\n",
      "80 44 2 39.332 34.079\n",
      "85 44 2 40.234 34.401\n",
      "90 60 66 40.879 34.724\n",
      "95 60 66 41.523 34.724\n",
      "100 60 66 42.458 35.11\n",
      "105 60 66 43.103 35.271\n",
      "110 60 66 43.779 35.852\n",
      "115 60 66 44.746 36.464\n",
      "TCLab disconnected successfully.\n"
     ]
    }
   ],
   "source": [
    "import tclab, time, csv\n",
    "import pandas as pd\n",
    "import numpy as np\n",
    "try:\n",
    "    # connect to TCLab if available\n",
    "    n = 120 \n",
    "    with open('03-tclab1.csv',mode='w',newline='') as f:\n",
    "        cw = csv.writer(f)\n",
    "        cw.writerow(['Time','Q1','Q2','T1','T2'])\n",
    "        with tclab.TCLab() as lab:\n",
    "            print('t Q1 Q2 T1    T2')\n",
    "            for t in range(n):\n",
    "                if t%30==0:\n",
    "                    Q1 = np.random.randint(0,81)\n",
    "                    Q2 = np.random.randint(0,81)\n",
    "                    lab.Q1(Q1); lab.Q2(Q2)\n",
    "                cw.writerow([t,Q1,Q2,lab.T1,lab.T2])\n",
    "                if t%5==0:\n",
    "                    print(t,Q1,Q2,lab.T1,lab.T2)\n",
    "                time.sleep(1)\n",
    "    file = '03-tclab1.csv'\n",
    "    data1=pd.read_csv(file)\n",
    "except:\n",
    "    print('No TCLab device found, reading online file')\n",
    "    url = 'http://apmonitor.com/do/uploads/Main/tclab_dyn_data2.txt'\n",
    "    data1=pd.read_csv(url)"
   ]
  },
  {
   "cell_type": "markdown",
   "metadata": {},
   "source": [
    "### Read Data Set 2\n",
    "\n",
    "Use `requests` to download a sample TCLab data file for the analysis. It is saved as `03-tclab2.csv`."
   ]
  },
  {
   "cell_type": "code",
   "execution_count": 11,
   "metadata": {},
   "outputs": [
    {
     "name": "stdout",
     "output_type": "stream",
     "text": [
      "File 03-tclab2.csv retrieved to current working directory: \n",
      "/home/curtis/classes/dynamic_optmization/data_science-master\n"
     ]
    }
   ],
   "source": [
    "import requests\n",
    "import os\n",
    "url = 'http://apmonitor.com/pdc/uploads/Main/tclab_data2.txt'\n",
    "r = requests.get(url)\n",
    "with open('03-tclab2.csv', 'wb') as f:\n",
    "    f.write(r.content)\n",
    "    \n",
    "print('File 03-tclab2.csv retrieved to current working directory: ')\n",
    "print(os.getcwd())"
   ]
  },
  {
   "cell_type": "markdown",
   "metadata": {},
   "source": [
    "### Data Analysis\n",
    "\n",
    "Read the files `03-tclab1.csv` and `03-tclab2.csv` and display summary statistics for each with `data.describe()`. Use the summary statistics to compare the number of samples and differences in average and standard deviation value for `T1` and `T2`."
   ]
  },
  {
   "cell_type": "code",
   "execution_count": 31,
   "metadata": {},
   "outputs": [
    {
     "data": {
      "text/html": [
       "<div>\n",
       "<style scoped>\n",
       "    .dataframe tbody tr th:only-of-type {\n",
       "        vertical-align: middle;\n",
       "    }\n",
       "\n",
       "    .dataframe tbody tr th {\n",
       "        vertical-align: top;\n",
       "    }\n",
       "\n",
       "    .dataframe thead th {\n",
       "        text-align: right;\n",
       "    }\n",
       "</style>\n",
       "<table border=\"1\" class=\"dataframe\">\n",
       "  <thead>\n",
       "    <tr style=\"text-align: right;\">\n",
       "      <th></th>\n",
       "      <th>Time</th>\n",
       "      <th>Q1</th>\n",
       "      <th>Q2</th>\n",
       "      <th>T1</th>\n",
       "      <th>T2</th>\n",
       "    </tr>\n",
       "  </thead>\n",
       "  <tbody>\n",
       "    <tr>\n",
       "      <th>0</th>\n",
       "      <td>0</td>\n",
       "      <td>52</td>\n",
       "      <td>75</td>\n",
       "      <td>25.185</td>\n",
       "      <td>25.346</td>\n",
       "    </tr>\n",
       "    <tr>\n",
       "      <th>1</th>\n",
       "      <td>1</td>\n",
       "      <td>52</td>\n",
       "      <td>75</td>\n",
       "      <td>25.120</td>\n",
       "      <td>25.346</td>\n",
       "    </tr>\n",
       "    <tr>\n",
       "      <th>2</th>\n",
       "      <td>2</td>\n",
       "      <td>52</td>\n",
       "      <td>75</td>\n",
       "      <td>25.120</td>\n",
       "      <td>25.056</td>\n",
       "    </tr>\n",
       "    <tr>\n",
       "      <th>3</th>\n",
       "      <td>3</td>\n",
       "      <td>52</td>\n",
       "      <td>75</td>\n",
       "      <td>25.088</td>\n",
       "      <td>25.410</td>\n",
       "    </tr>\n",
       "    <tr>\n",
       "      <th>4</th>\n",
       "      <td>4</td>\n",
       "      <td>52</td>\n",
       "      <td>75</td>\n",
       "      <td>25.120</td>\n",
       "      <td>25.088</td>\n",
       "    </tr>\n",
       "    <tr>\n",
       "      <th>...</th>\n",
       "      <td>...</td>\n",
       "      <td>...</td>\n",
       "      <td>...</td>\n",
       "      <td>...</td>\n",
       "      <td>...</td>\n",
       "    </tr>\n",
       "    <tr>\n",
       "      <th>115</th>\n",
       "      <td>115</td>\n",
       "      <td>60</td>\n",
       "      <td>66</td>\n",
       "      <td>44.714</td>\n",
       "      <td>36.271</td>\n",
       "    </tr>\n",
       "    <tr>\n",
       "      <th>116</th>\n",
       "      <td>116</td>\n",
       "      <td>60</td>\n",
       "      <td>66</td>\n",
       "      <td>44.746</td>\n",
       "      <td>36.432</td>\n",
       "    </tr>\n",
       "    <tr>\n",
       "      <th>117</th>\n",
       "      <td>117</td>\n",
       "      <td>60</td>\n",
       "      <td>66</td>\n",
       "      <td>45.068</td>\n",
       "      <td>36.625</td>\n",
       "    </tr>\n",
       "    <tr>\n",
       "      <th>118</th>\n",
       "      <td>118</td>\n",
       "      <td>60</td>\n",
       "      <td>66</td>\n",
       "      <td>45.068</td>\n",
       "      <td>36.851</td>\n",
       "    </tr>\n",
       "    <tr>\n",
       "      <th>119</th>\n",
       "      <td>119</td>\n",
       "      <td>60</td>\n",
       "      <td>66</td>\n",
       "      <td>45.391</td>\n",
       "      <td>37.044</td>\n",
       "    </tr>\n",
       "  </tbody>\n",
       "</table>\n",
       "<p>120 rows × 5 columns</p>\n",
       "</div>"
      ],
      "text/plain": [
       "     Time  Q1  Q2      T1      T2\n",
       "0       0  52  75  25.185  25.346\n",
       "1       1  52  75  25.120  25.346\n",
       "2       2  52  75  25.120  25.056\n",
       "3       3  52  75  25.088  25.410\n",
       "4       4  52  75  25.120  25.088\n",
       "..    ...  ..  ..     ...     ...\n",
       "115   115  60  66  44.714  36.271\n",
       "116   116  60  66  44.746  36.432\n",
       "117   117  60  66  45.068  36.625\n",
       "118   118  60  66  45.068  36.851\n",
       "119   119  60  66  45.391  37.044\n",
       "\n",
       "[120 rows x 5 columns]"
      ]
     },
     "execution_count": 31,
     "metadata": {},
     "output_type": "execute_result"
    }
   ],
   "source": [
    "data1 = pd.read_csv('03-tclab1.csv')\n",
    "data2 = pd.read_csv('03-tclab2.csv')\n",
    "data1"
   ]
  },
  {
   "cell_type": "code",
   "execution_count": 28,
   "metadata": {},
   "outputs": [
    {
     "data": {
      "text/html": [
       "<div>\n",
       "<style scoped>\n",
       "    .dataframe tbody tr th:only-of-type {\n",
       "        vertical-align: middle;\n",
       "    }\n",
       "\n",
       "    .dataframe tbody tr th {\n",
       "        vertical-align: top;\n",
       "    }\n",
       "\n",
       "    .dataframe thead th {\n",
       "        text-align: right;\n",
       "    }\n",
       "</style>\n",
       "<table border=\"1\" class=\"dataframe\">\n",
       "  <thead>\n",
       "    <tr style=\"text-align: right;\">\n",
       "      <th></th>\n",
       "      <th>Time</th>\n",
       "      <th>Q1</th>\n",
       "      <th>Q2</th>\n",
       "      <th>T1</th>\n",
       "      <th>T2</th>\n",
       "    </tr>\n",
       "  </thead>\n",
       "  <tbody>\n",
       "    <tr>\n",
       "      <th>count</th>\n",
       "      <td>120.000000</td>\n",
       "      <td>120.000000</td>\n",
       "      <td>120.000000</td>\n",
       "      <td>120.000000</td>\n",
       "      <td>120.000000</td>\n",
       "    </tr>\n",
       "    <tr>\n",
       "      <th>mean</th>\n",
       "      <td>59.500000</td>\n",
       "      <td>52.250000</td>\n",
       "      <td>52.500000</td>\n",
       "      <td>35.001350</td>\n",
       "      <td>31.313842</td>\n",
       "    </tr>\n",
       "    <tr>\n",
       "      <th>std</th>\n",
       "      <td>34.785054</td>\n",
       "      <td>5.697191</td>\n",
       "      <td>29.487214</td>\n",
       "      <td>6.496461</td>\n",
       "      <td>3.761548</td>\n",
       "    </tr>\n",
       "    <tr>\n",
       "      <th>min</th>\n",
       "      <td>0.000000</td>\n",
       "      <td>44.000000</td>\n",
       "      <td>2.000000</td>\n",
       "      <td>25.088000</td>\n",
       "      <td>25.056000</td>\n",
       "    </tr>\n",
       "    <tr>\n",
       "      <th>25%</th>\n",
       "      <td>29.750000</td>\n",
       "      <td>50.000000</td>\n",
       "      <td>50.000000</td>\n",
       "      <td>28.785500</td>\n",
       "      <td>27.762750</td>\n",
       "    </tr>\n",
       "    <tr>\n",
       "      <th>50%</th>\n",
       "      <td>59.500000</td>\n",
       "      <td>52.500000</td>\n",
       "      <td>66.500000</td>\n",
       "      <td>35.545500</td>\n",
       "      <td>32.387000</td>\n",
       "    </tr>\n",
       "    <tr>\n",
       "      <th>75%</th>\n",
       "      <td>89.250000</td>\n",
       "      <td>54.750000</td>\n",
       "      <td>69.000000</td>\n",
       "      <td>40.782250</td>\n",
       "      <td>34.434000</td>\n",
       "    </tr>\n",
       "    <tr>\n",
       "      <th>max</th>\n",
       "      <td>119.000000</td>\n",
       "      <td>60.000000</td>\n",
       "      <td>75.000000</td>\n",
       "      <td>45.391000</td>\n",
       "      <td>37.044000</td>\n",
       "    </tr>\n",
       "  </tbody>\n",
       "</table>\n",
       "</div>"
      ],
      "text/plain": [
       "             Time          Q1          Q2          T1          T2\n",
       "count  120.000000  120.000000  120.000000  120.000000  120.000000\n",
       "mean    59.500000   52.250000   52.500000   35.001350   31.313842\n",
       "std     34.785054    5.697191   29.487214    6.496461    3.761548\n",
       "min      0.000000   44.000000    2.000000   25.088000   25.056000\n",
       "25%     29.750000   50.000000   50.000000   28.785500   27.762750\n",
       "50%     59.500000   52.500000   66.500000   35.545500   32.387000\n",
       "75%     89.250000   54.750000   69.000000   40.782250   34.434000\n",
       "max    119.000000   60.000000   75.000000   45.391000   37.044000"
      ]
     },
     "execution_count": 28,
     "metadata": {},
     "output_type": "execute_result"
    }
   ],
   "source": [
    "sum1 = data1.describe()\n",
    "sum2 = data2.describe()\n",
    "sum1"
   ]
  },
  {
   "cell_type": "code",
   "execution_count": 26,
   "metadata": {},
   "outputs": [
    {
     "name": "stdout",
     "output_type": "stream",
     "text": [
      "-481.0\n",
      "-481.0\n"
     ]
    }
   ],
   "source": [
    "print(sum1['T1']['count'] - sum2['T1']['count'])\n",
    "print(sum1['T2']['count'] - sum2['T2']['count'])"
   ]
  },
  {
   "cell_type": "code",
   "execution_count": 27,
   "metadata": {},
   "outputs": [
    {
     "name": "stdout",
     "output_type": "stream",
     "text": [
      "-25.96761838602329\n",
      "-10.481965321686083\n"
     ]
    }
   ],
   "source": [
    "print(sum1['T1']['mean'] - sum2['T1']['mean'])\n",
    "print(sum1['T2']['mean'] - sum2['T2']['mean'])\n"
   ]
  },
  {
   "cell_type": "code",
   "execution_count": 29,
   "metadata": {},
   "outputs": [
    {
     "name": "stdout",
     "output_type": "stream",
     "text": [
      "-8.452731722923627\n",
      "-9.677721691051412\n"
     ]
    }
   ],
   "source": [
    "print(sum1['T1']['std'] - sum2['T1']['std'])\n",
    "print(sum1['T2']['std'] - sum2['T2']['std'])\n"
   ]
  },
  {
   "cell_type": "markdown",
   "metadata": {},
   "source": [
    "Use the `pandas-profiling` package to generate a data analysis report. View the distribution and correlation of the variables `Q1` and `T1`. "
   ]
  },
  {
   "cell_type": "code",
   "execution_count": 30,
   "metadata": {},
   "outputs": [
    {
     "name": "stderr",
     "output_type": "stream",
     "text": [
      "Summarize dataset: 100%|██████████| 27/27 [00:01<00:00, 21.00it/s, Completed]                     \n",
      "Generate report structure: 100%|██████████| 1/1 [00:01<00:00,  1.01s/it]\n",
      "Render HTML: 100%|██████████| 1/1 [00:00<00:00,  6.95it/s]\n",
      "Export report to file: 100%|██████████| 1/1 [00:00<00:00, 1091.13it/s]"
     ]
    },
    {
     "name": "stdout",
     "output_type": "stream",
     "text": [
      "File report.html saved to /home/curtis/classes/dynamic_optmization/data_science-master\n"
     ]
    },
    {
     "name": "stderr",
     "output_type": "stream",
     "text": [
      "\n"
     ]
    }
   ],
   "source": [
    "profile = ProfileReport(data1, explorative=True, minimal=False)\n",
    "profile.to_file('report.html')\n",
    "print('File report.html saved to '+os.getcwd())"
   ]
  }
 ],
 "metadata": {
  "kernelspec": {
   "display_name": "Python 3",
   "language": "python",
   "name": "python3"
  },
  "language_info": {
   "codemirror_mode": {
    "name": "ipython",
    "version": 3
   },
   "file_extension": ".py",
   "mimetype": "text/x-python",
   "name": "python",
   "nbconvert_exporter": "python",
   "pygments_lexer": "ipython3",
   "version": "3.8.10"
  }
 },
 "nbformat": 4,
 "nbformat_minor": 2
}
