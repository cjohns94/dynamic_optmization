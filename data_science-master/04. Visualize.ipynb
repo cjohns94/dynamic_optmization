{
 "cells": [
  {
   "cell_type": "markdown",
   "metadata": {},
   "source": [
    "## 4. Visualize Data\n",
    "\n",
    "[Data Science Playlist on YouTube](https://www.youtube.com/watch?v=w97CsaLuEvI&list=PLLBUgWXdTBDg1Qgmwt4jKtVn9BWh5-zgy)\n",
    "[![Python Data Science](https://apmonitor.com/che263/uploads/Begin_Python/DataScience04.png)](https://www.youtube.com/watch?v=w97CsaLuEvI&list=PLLBUgWXdTBDg1Qgmwt4jKtVn9BWh5-zgy \"Python Data Science\")\n",
    "\n",
    "In addition to summary statistics, data visualization helps to understand the data characteristics and how different variables are related.\n",
    "\n",
    "![analyze](https://apmonitor.com/che263/uploads/Begin_Python/analyze.png)\n",
    "\n",
    "There are many examples of data visualization with [Matplotlib](https://matplotlib.org/gallery/index.html), [Seaborn](https://seaborn.pydata.org/examples/index.html), and [Plotly](https://plot.ly/python/). In this tutorial, we go through a few examples for showing:\n",
    "\n",
    "- time series: line\n",
    "- correlated variables: scatter, pair plot\n",
    "- data distributions: bar, box, violin, distribution, joint plot\n",
    "\n",
    "Each plot is shown with one of the graphing packages. Matplotlib is a base-level Python package, Seaborn is uses matplotlib and automates more complex plots, and Plotly creates engaging interactive plots."
   ]
  },
  {
   "cell_type": "code",
   "execution_count": 2,
   "metadata": {},
   "outputs": [],
   "source": [
    "import matplotlib.pyplot as plt\n",
    "%matplotlib inline\n",
    "import seaborn as sns\n",
    "import plotly.express as px"
   ]
  },
  {
   "cell_type": "markdown",
   "metadata": {},
   "source": [
    "![idea](https://apmonitor.com/che263/uploads/Begin_Python/idea.png)\n",
    "\n",
    "### Generate Data\n",
    "\n",
    "Run the next cell to:\n",
    "\n",
    "- Generate `n` linearly spaced values betweeen `0` and `n-1` with `np.linspace(start,end,count)`\n",
    "- Select random samples from a uniform distribution between 0 and 1 with `np.random.rand(count)`\n",
    "- Select random samples from a normal (Gaussian) distribution with `np.random.normal(mean,std,count)`\n",
    "- Create a time series that changes based on `y[i]*0.1` staying within the range `-3` to `3`\n",
    "- Combine `tt`, `x`, `y`, and `z` with a vertical stack `np.vstack` and transpose `.T` for column oriented data\n",
    "- Create pandas DataFrame with columns `tt`, `x`, `y`, and `z`"
   ]
  },
  {
   "cell_type": "code",
   "execution_count": 3,
   "metadata": {},
   "outputs": [
    {
     "data": {
      "text/html": [
       "<div>\n",
       "<style scoped>\n",
       "    .dataframe tbody tr th:only-of-type {\n",
       "        vertical-align: middle;\n",
       "    }\n",
       "\n",
       "    .dataframe tbody tr th {\n",
       "        vertical-align: top;\n",
       "    }\n",
       "\n",
       "    .dataframe thead th {\n",
       "        text-align: right;\n",
       "    }\n",
       "</style>\n",
       "<table border=\"1\" class=\"dataframe\">\n",
       "  <thead>\n",
       "    <tr style=\"text-align: right;\">\n",
       "      <th></th>\n",
       "      <th>time</th>\n",
       "      <th>x</th>\n",
       "      <th>y</th>\n",
       "      <th>z</th>\n",
       "      <th>w</th>\n",
       "    </tr>\n",
       "  </thead>\n",
       "  <tbody>\n",
       "    <tr>\n",
       "      <th>0</th>\n",
       "      <td>0.0</td>\n",
       "      <td>0.548814</td>\n",
       "      <td>-0.055813</td>\n",
       "      <td>0.000000</td>\n",
       "      <td>0-499</td>\n",
       "    </tr>\n",
       "    <tr>\n",
       "      <th>1</th>\n",
       "      <td>1.0</td>\n",
       "      <td>0.717189</td>\n",
       "      <td>0.013827</td>\n",
       "      <td>0.001383</td>\n",
       "      <td>0-499</td>\n",
       "    </tr>\n",
       "    <tr>\n",
       "      <th>2</th>\n",
       "      <td>2.0</td>\n",
       "      <td>0.606763</td>\n",
       "      <td>1.122264</td>\n",
       "      <td>0.113609</td>\n",
       "      <td>0-499</td>\n",
       "    </tr>\n",
       "    <tr>\n",
       "      <th>3</th>\n",
       "      <td>3.0</td>\n",
       "      <td>0.550883</td>\n",
       "      <td>-0.117981</td>\n",
       "      <td>0.101811</td>\n",
       "      <td>0-499</td>\n",
       "    </tr>\n",
       "    <tr>\n",
       "      <th>4</th>\n",
       "      <td>4.0</td>\n",
       "      <td>0.431655</td>\n",
       "      <td>-0.215403</td>\n",
       "      <td>0.080271</td>\n",
       "      <td>0-499</td>\n",
       "    </tr>\n",
       "  </tbody>\n",
       "</table>\n",
       "</div>"
      ],
      "text/plain": [
       "   time         x         y         z      w\n",
       "0   0.0  0.548814 -0.055813  0.000000  0-499\n",
       "1   1.0  0.717189  0.013827  0.001383  0-499\n",
       "2   2.0  0.606763  1.122264  0.113609  0-499\n",
       "3   3.0  0.550883 -0.117981  0.101811  0-499\n",
       "4   4.0  0.431655 -0.215403  0.080271  0-499"
      ]
     },
     "execution_count": 3,
     "metadata": {},
     "output_type": "execute_result"
    }
   ],
   "source": [
    "import numpy as np\n",
    "import pandas as pd\n",
    "np.random.seed(0) # change seed for different answer\n",
    "n = 1000\n",
    "tt = np.linspace(0,n-1,n)\n",
    "x = np.random.rand(n)+tt/500\n",
    "y = np.random.normal(0,x,n)\n",
    "z = [0]\n",
    "for i in range(1,n):\n",
    "    z.append(min(max(-3,z[i-1]+y[i]*0.1),3))\n",
    "data = pd.DataFrame(np.vstack((tt,x,y,z)).T,\\\n",
    "                    columns=['time','x','y','z'])\n",
    "data['w'] = '0-499'\n",
    "for i in range(int(n/2),n):\n",
    "    data.at[i,'w'] = '500-999'\n",
    "data.head()"
   ]
  },
  {
   "cell_type": "markdown",
   "metadata": {},
   "source": [
    "![idea](https://apmonitor.com/che263/uploads/Begin_Python/idea.png)\n",
    "\n",
    "### Plot\n",
    "\n",
    "A line plot is the most basic type. There is an introductory tutorial on plots in the [Begin Python Course, Lesson 12](https://github.com/APMonitor/begin_python/blob/master/12.%20Plotting.ipynb). Visit that course module if you need additional information on basic plots such as `plt.plot()`"
   ]
  },
  {
   "cell_type": "code",
   "execution_count": 4,
   "metadata": {},
   "outputs": [
    {
     "data": {
      "image/png": "[encoded data removed]",
      "text/plain": [
       "<Figure size 432x288 with 1 Axes>"
      ]
     },
     "metadata": {
      "needs_background": "light"
     },
     "output_type": "display_data"
    }
   ],
   "source": [
    "plt.plot(tt,z)\n",
    "plt.show()"
   ]
  },
  {
   "cell_type": "markdown",
   "metadata": {},
   "source": [
    "The line plot can also be improved with customized trend styles. Below is an example with common options.\n",
    "\n",
    "**c=Colors**\n",
    "\n",
    "    =============    ===============================\n",
    "    character        color\n",
    "    =============    ===============================\n",
    "    ``'b'``          blue\n",
    "    ``'g'``          green\n",
    "    ``'r'``          red\n",
    "    ``'y'``          yellow\n",
    "    ``'k'``          black\n",
    "    =============    ===============================\n",
    "\n",
    "**m=Markers**\n",
    "\n",
    "    =============    ===============================\n",
    "    character        description\n",
    "    =============    ===============================\n",
    "    ``'.'``          point marker\n",
    "    ``'o'``          circle marker\n",
    "    ``'s'``          square marker\n",
    "    ``'^'``          triangle marker\n",
    "    ``'*'``          star marker\n",
    "    =============    ===============================\n",
    "\n",
    "**ln=Line Styles**\n",
    "\n",
    "    =============    ===============================\n",
    "    character        description\n",
    "    =============    ===============================\n",
    "    ``'-'``          solid line style\n",
    "    ``'--'``         dashed line style\n",
    "    ``'-.'``         dash-dot line style\n",
    "    ``':'``          dotted line style\n",
    "    =============    ==============================="
   ]
  },
  {
   "cell_type": "code",
   "execution_count": 5,
   "metadata": {},
   "outputs": [
    {
     "data": {
      "image/png": "[encoded data removed]",
      "text/plain": [
       "<Figure size 720x432 with 2 Axes>"
      ]
     },
     "metadata": {
      "needs_background": "light"
     },
     "output_type": "display_data"
    }
   ],
   "source": [
    "plt.figure(1,figsize=(10,6))                         # adjust figure size\n",
    "ax=plt.subplot(2,1,1)                                # subplot 1\n",
    "plt.plot(tt,z,'r-',linewidth=3,label='z')            # plot red line\n",
    "ax.grid()                                            # add grid\n",
    "plt.ylabel('z'); plt.legend()                        # add ylabel, legend\n",
    "plt.subplot(2,1,2)                                   # subplot 2\n",
    "plt.plot(tt,x,'b.',label='x')                        # plot blue dots\n",
    "plt.plot(tt,y,color='orange',label='y',alpha=0.7)    # plot orange line\n",
    "plt.xlabel('time'); plt.legend()                      # labels\n",
    "plt.savefig('04-myFig.png',transparent=True,dpi=600) # save figure\n",
    "plt.show()                                           # show plot"
   ]
  },
  {
   "cell_type": "markdown",
   "metadata": {},
   "source": [
    "![expert](https://apmonitor.com/che263/uploads/Begin_Python/expert.png)\n",
    "\n",
    "### Plot Activity\n",
    "\n",
    "Create a plot that displays the data:\n",
    "\n",
    "```python\n",
    "xt = [0,0.1,0.2,0.3,0.5,0.8,1.0]\n",
    "yt = [1.0,2.1,3.5,6.5,7.2,5.9,6.3]\n",
    "```"
   ]
  },
  {
   "cell_type": "markdown",
   "metadata": {},
   "source": [
    "![idea](https://apmonitor.com/che263/uploads/Begin_Python/idea.png)\n",
    "\n",
    "### Scatter Plot\n",
    "\n",
    "Scatter plots are similar to regular plots but they show individuals points instead of values connected in series. Matplotlib and Plotly are used in this example. Matplotlib is fast and simple while Plotly has features for interactive plots."
   ]
  },
  {
   "cell_type": "code",
   "execution_count": 6,
   "metadata": {},
   "outputs": [
    {
     "data": {
      "image/png": "[encoded data removed]",
      "text/plain": [
       "<Figure size 432x288 with 1 Axes>"
      ]
     },
     "metadata": {
      "needs_background": "light"
     },
     "output_type": "display_data"
    }
   ],
   "source": [
    "# matplotlib\n",
    "plt.scatter(x,y)\n",
    "plt.show()"
   ]
  },
  {
   "cell_type": "code",
   "execution_count": 7,
   "metadata": {},
   "outputs": [
    {
     "data": {
      "application/vnd.plotly.v1+json": {
       "config": {
        "plotlyServerURL": "https://plot.ly"
       },
       "data": [
        {
         "customdata": [
          [
           "0-499"
          ],
          [
           "0-499"
          ],
          [
           "0-499"
          ],
          [
           "0-499"
          ],
          [
           "0-499"
          ],
          [
           "0-499"
          ],
          [
           "0-499"
          ],
          [
           "0-499"
          ],
          [
           "0-499"
          ],
          [
           "0-499"
          ],
          [
           "0-499"
          ],
          [
           "0-499"
          ],
          [
           "0-499"
          ],
          [
           "0-499"
          ],
          [
           "0-499"
          ],
          [
           "0-499"
          ],
          [
           "0-499"
          ],
          [
           "0-499"
          ],
          [
           "0-499"
          ],
          [
           "0-499"
          ],
          [
           "0-499"
          ],
          [
           "0-499"
          ],
          [
           "0-499"
          ],
          [
           "0-499"
          ],
          [
           "0-499"
          ],
          [
           "0-499"
          ],
          [
           "0-499"
          ],
          [
           "0-499"
          ],
          [
           "0-499"
          ],
          [
           "0-499"
          ],
          [
           "0-499"
          ],
          [
           "0-499"
          ],
          [
           "0-499"
          ],
          [
           "0-499"
          ],
          [
           "0-499"
          ],
          [
           "0-499"
          ],
          [
           "0-499"
          ],
          [
           "0-499"
          ],
          [
           "0-499"
          ],
          [
           "0-499"
          ],
          [
           "0-499"
          ],
          [
           "0-499"
          ],
          [
           "0-499"
          ],
          [
           "0-499"
          ],
          [
           "0-499"
          ],
          [
           "0-499"
          ],
          [
           "0-499"
          ],
          [
           "0-499"
          ],
          [
           "0-499"
          ],
          [
           "0-499"
          ],
          [
           "0-499"
          ],
          [
           "0-499"
          ],
          [
           "0-499"
          ],
          [
           "0-499"
          ],
          [
           "0-499"
          ],
          [
           "0-499"
          ],
          [
           "0-499"
          ],
          [
           "0-499"
          ],
          [
           "0-499"
          ],
          [
           "0-499"
          ],
          [
           "0-499"
          ],
          [
           "0-499"
          ],
          [
           "0-499"
          ],
          [
           "0-499"
          ],
          [
           "0-499"
          ],
          [
           "0-499"
          ],
          [
           "0-499"
          ],
          [
           "0-499"
          ],
          [
           "0-499"
          ],
          [
           "0-499"
          ],
          [
           "0-499"
          ],
          [
           "0-499"
          ],
          [
           "0-499"
          ],
          [
           "0-499"
          ],
          [
           "0-499"
          ],
          [
           "0-499"
          ],
          [
           "0-499"
          ],
          [
           "0-499"
          ],
          [
           "0-499"
          ],
          [
           "0-499"
          ],
          [
           "0-499"
          ],
          [
           "0-499"
          ],
          [
           "0-499"
          ],
          [
           "0-499"
          ],
          [
           "0-499"
          ],
          [
           "0-499"
          ],
          [
           "0-499"
          ],
          [
           "0-499"
          ],
          [
           "0-499"
          ],
          [
           "0-499"
          ],
          [
           "0-499"
          ],
          [
           "0-499"
          ],
          [
           "0-499"
          ],
          [
           "0-499"
          ],
          [
           "0-499"
          ],
          [
           "0-499"
          ],
          [
           "0-499"
          ],
          [
           "0-499"
          ],
          [
           "0-499"
          ],
          [
           "0-499"
          ],
          [
           "0-499"
          ],
          [
           "0-499"
          ],
          [
           "0-499"
          ],
          [
           "0-499"
          ],
          [
           "0-499"
          ],
          [
           "0-499"
          ],
          [
           "0-499"
          ],
          [
           "0-499"
          ],
          [
           "0-499"
          ],
          [
           "0-499"
          ],
          [
           "0-499"
          ],
          [
           "0-499"
          ],
          [
           "0-499"
          ],
          [
           "0-499"
          ],
          [
           "0-499"
          ],
          [
           "0-499"
          ],
          [
           "0-499"
          ],
          [
           "0-499"
          ],
          [
           "0-499"
          ],
          [
           "0-499"
          ],
          [
           "0-499"
          ],
          [
           "0-499"
          ],
          [
           "0-499"
          ],
          [
           "0-499"
          ],
          [
           "0-499"
          ],
          [
           "0-499"
          ],
          [
           "0-499"
          ],
          [
           "0-499"
          ],
          [
           "0-499"
          ],
          [
           "0-499"
          ],
          [
           "0-499"
          ],
          [
           "0-499"
          ],
          [
           "0-499"
          ],
          [
           "0-499"
          ],
          [
           "0-499"
          ],
          [
           "0-499"
          ],
          [
           "0-499"
          ],
          [
           "0-499"
          ],
          [
           "0-499"
          ],
          [
           "0-499"
          ],
          [
           "0-499"
          ],
          [
           "0-499"
          ],
          [
           "0-499"
          ],
          [
           "0-499"
          ],
          [
           "0-499"
          ],
          [
           "0-499"
          ],
          [
           "0-499"
          ],
          [
           "0-499"
          ],
          [
           "0-499"
          ],
          [
           "0-499"
          ],
          [
           "0-499"
          ],
          [
           "0-499"
          ],
          [
           "0-499"
          ],
          [
           "0-499"
          ],
          [
           "0-499"
          ],
          [
           "0-499"
          ],
          [
           "0-499"
          ],
          [
           "0-499"
          ],
          [
           "0-499"
          ],
          [
           "0-499"
          ],
          [
           "0-499"
          ],
          [
           "0-499"
          ],
          [
           "0-499"
          ],
          [
           "0-499"
          ],
          [
           "0-499"
          ],
          [
           "0-499"
          ],
          [
           "0-499"
          ],
          [
           "0-499"
          ],
          [
           "0-499"
          ],
          [
           "0-499"
          ],
          [
           "0-499"
          ],
          [
           "0-499"
          ],
          [
           "0-499"
          ],
          [
           "0-499"
          ],
          [
           "0-499"
          ],
          [
           "0-499"
          ],
          [
           "0-499"
          ],
          [
           "0-499"
          ],
          [
           "0-499"
          ],
          [
           "0-499"
          ],
          [
           "0-499"
          ],
          [
           "0-499"
          ],
          [
           "0-499"
          ],
          [
           "0-499"
          ],
          [
           "0-499"
          ],
          [
           "0-499"
          ],
          [
           "0-499"
          ],
          [
           "0-499"
          ],
          [
           "0-499"
          ],
          [
           "0-499"
          ],
          [
           "0-499"
          ],
          [
           "0-499"
          ],
          [
           "0-499"
          ],
          [
           "0-499"
          ],
          [
           "0-499"
          ],
          [
           "0-499"
          ],
          [
           "0-499"
          ],
          [
           "0-499"
          ],
          [
           "0-499"
          ],
          [
           "0-499"
          ],
          [
           "0-499"
          ],
          [
           "0-499"
          ],
          [
           "0-499"
          ],
          [
           "0-499"
          ],
          [
           "0-499"
          ],
          [
           "0-499"
          ],
          [
           "0-499"
          ],
          [
           "0-499"
          ],
          [
           "0-499"
          ],
          [
           "0-499"
          ],
          [
           "0-499"
          ],
          [
           "0-499"
          ],
          [
           "0-499"
          ],
          [
           "0-499"
          ],
          [
           "0-499"
          ],
          [
           "0-499"
          ],
          [
           "0-499"
          ],
          [
           "0-499"
          ],
          [
           "0-499"
          ],
          [
           "0-499"
          ],
          [
           "0-499"
          ],
          [
           "0-499"
          ],
          [
           "0-499"
          ],
          [
           "0-499"
          ],
          [
           "0-499"
          ],
          [
           "0-499"
          ],
          [
           "0-499"
          ],
          [
           "0-499"
          ],
          [
           "0-499"
          ],
          [
           "0-499"
          ],
          [
           "0-499"
          ],
          [
           "0-499"
          ],
          [
           "0-499"
          ],
          [
           "0-499"
          ],
          [
           "0-499"
          ],
          [
           "0-499"
          ],
          [
           "0-499"
          ],
          [
           "0-499"
          ],
          [
           "0-499"
          ],
          [
           "0-499"
          ],
          [
           "0-499"
          ],
          [
           "0-499"
          ],
          [
           "0-499"
          ],
          [
           "0-499"
          ],
          [
           "0-499"
          ],
          [
           "0-499"
          ],
          [
           "0-499"
          ],
          [
           "0-499"
          ],
          [
           "0-499"
          ],
          [
           "0-499"
          ],
          [
           "0-499"
          ],
          [
           "0-499"
          ],
          [
           "0-499"
          ],
          [
           "0-499"
          ],
          [
           "0-499"
          ],
          [
           "0-499"
          ],
          [
           "0-499"
          ],
          [
           "0-499"
          ],
          [
           "0-499"
          ],
          [
           "0-499"
          ],
          [
           "0-499"
          ],
          [
           "0-499"
          ],
          [
           "0-499"
          ],
          [
           "0-499"
          ],
          [
           "0-499"
          ],
          [
           "0-499"
          ],
          [
           "0-499"
          ],
          [
           "0-499"
          ],
          [
           "0-499"
          ],
          [
           "0-499"
          ],
          [
           "0-499"
          ],
          [
           "0-499"
          ],
          [
           "0-499"
          ],
          [
           "0-499"
          ],
          [
           "0-499"
          ],
          [
           "0-499"
          ],
          [
           "0-499"
          ],
          [
           "0-499"
          ],
          [
           "0-499"
          ],
          [
           "0-499"
          ],
          [
           "0-499"
          ],
          [
           "0-499"
          ],
          [
           "0-499"
          ],
          [
           "0-499"
          ],
          [
           "0-499"
          ],
          [
           "0-499"
          ],
          [
           "0-499"
          ],
          [
           "0-499"
          ],
          [
           "0-499"
          ],
          [
           "0-499"
          ],
          [
           "0-499"
          ],
          [
           "0-499"
          ],
          [
           "0-499"
          ],
          [
           "0-499"
          ],
          [
           "0-499"
          ],
          [
           "0-499"
          ],
          [
           "0-499"
          ],
          [
           "0-499"
          ],
          [
           "0-499"
          ],
          [
           "0-499"
          ],
          [
           "0-499"
          ],
          [
           "0-499"
          ],
          [
           "0-499"
          ],
          [
           "0-499"
          ],
          [
           "0-499"
          ],
          [
           "0-499"
          ],
          [
           "0-499"
          ],
          [
           "0-499"
          ],
          [
           "0-499"
          ],
          [
           "0-499"
          ],
          [
           "0-499"
          ],
          [
           "0-499"
          ],
          [
           "0-499"
          ],
          [
           "0-499"
          ],
          [
           "0-499"
          ],
          [
           "0-499"
          ],
          [
           "0-499"
          ],
          [
           "0-499"
          ],
          [
           "0-499"
          ],
          [
           "0-499"
          ],
          [
           "0-499"
          ],
          [
           "0-499"
          ],
          [
           "0-499"
          ],
          [
           "0-499"
          ],
          [
           "0-499"
          ],
          [
           "0-499"
          ],
          [
           "0-499"
          ],
          [
           "0-499"
          ],
          [
           "0-499"
          ],
          [
           "0-499"
          ],
          [
           "0-499"
          ],
          [
           "0-499"
          ],
          [
           "0-499"
          ],
          [
           "0-499"
          ],
          [
           "0-499"
          ],
          [
           "0-499"
          ],
          [
           "0-499"
          ],
          [
           "0-499"
          ],
          [
           "0-499"
          ],
          [
           "0-499"
          ],
          [
           "0-499"
          ],
          [
           "0-499"
          ],
          [
           "0-499"
          ],
          [
           "0-499"
          ],
          [
           "0-499"
          ],
          [
           "0-499"
          ],
          [
           "0-499"
          ],
          [
           "0-499"
          ],
          [
           "0-499"
          ],
          [
           "0-499"
          ],
          [
           "0-499"
          ],
          [
           "0-499"
          ],
          [
           "0-499"
          ],
          [
           "0-499"
          ],
          [
           "0-499"
          ],
          [
           "0-499"
          ],
          [
           "0-499"
          ],
          [
           "0-499"
          ],
          [
           "0-499"
          ],
          [
           "0-499"
          ],
          [
           "0-499"
          ],
          [
           "0-499"
          ],
          [
           "0-499"
          ],
          [
           "0-499"
          ],
          [
           "0-499"
          ],
          [
           "0-499"
          ],
          [
           "0-499"
          ],
          [
           "0-499"
          ],
          [
           "0-499"
          ],
          [
           "0-499"
          ],
          [
           "0-499"
          ],
          [
           "0-499"
          ],
          [
           "0-499"
          ],
          [
           "0-499"
          ],
          [
           "0-499"
          ],
          [
           "0-499"
          ],
          [
           "0-499"
          ],
          [
           "0-499"
          ],
          [
           "0-499"
          ],
          [
           "0-499"
          ],
          [
           "0-499"
          ],
          [
           "0-499"
          ],
          [
           "0-499"
          ],
          [
           "0-499"
          ],
          [
           "0-499"
          ],
          [
           "0-499"
          ],
          [
           "0-499"
          ],
          [
           "0-499"
          ],
          [
           "0-499"
          ],
          [
           "0-499"
          ],
          [
           "0-499"
          ],
          [
           "0-499"
          ],
          [
           "0-499"
          ],
          [
           "0-499"
          ],
          [
           "0-499"
          ],
          [
           "0-499"
          ],
          [
           "0-499"
          ],
          [
           "0-499"
          ],
          [
           "0-499"
          ],
          [
           "0-499"
          ],
          [
           "0-499"
          ],
          [
           "0-499"
          ],
          [
           "0-499"
          ],
          [
           "0-499"
          ],
          [
           "0-499"
          ],
          [
           "0-499"
          ],
          [
           "0-499"
          ],
          [
           "0-499"
          ],
          [
           "0-499"
          ],
          [
           "0-499"
          ],
          [
           "0-499"
          ],
          [
           "0-499"
          ],
          [
           "0-499"
          ],
          [
           "0-499"
          ],
          [
           "0-499"
          ],
          [
           "0-499"
          ],
          [
           "0-499"
          ],
          [
           "0-499"
          ],
          [
           "0-499"
          ],
          [
           "0-499"
          ],
          [
           "0-499"
          ],
          [
           "0-499"
          ],
          [
           "0-499"
          ],
          [
           "0-499"
          ],
          [
           "0-499"
          ],
          [
           "0-499"
          ],
          [
           "0-499"
          ],
          [
           "0-499"
          ],
          [
           "0-499"
          ],
          [
           "0-499"
          ],
          [
           "0-499"
          ],
          [
           "0-499"
          ],
          [
           "0-499"
          ],
          [
           "0-499"
          ],
          [
           "0-499"
          ],
          [
           "0-499"
          ],
          [
           "0-499"
          ],
          [
           "0-499"
          ],
          [
           "0-499"
          ],
          [
           "0-499"
          ],
          [
           "0-499"
          ],
          [
           "0-499"
          ],
          [
           "0-499"
          ],
          [
           "0-499"
          ],
          [
           "0-499"
          ],
          [
           "0-499"
          ],
          [
           "0-499"
          ],
          [
           "0-499"
          ],
          [
           "0-499"
          ],
          [
           "0-499"
          ],
          [
           "0-499"
          ],
          [
           "0-499"
          ],
          [
           "0-499"
          ],
          [
           "0-499"
          ],
          [
           "0-499"
          ],
          [
           "0-499"
          ],
          [
           "0-499"
          ],
          [
           "0-499"
          ],
          [
           "0-499"
          ],
          [
           "0-499"
          ],
          [
           "0-499"
          ],
          [
           "0-499"
          ],
          [
           "0-499"
          ],
          [
           "0-499"
          ],
          [
           "0-499"
          ],
          [
           "0-499"
          ],
          [
           "0-499"
          ],
          [
           "0-499"
          ],
          [
           "0-499"
          ],
          [
           "0-499"
          ],
          [
           "0-499"
          ],
          [
           "0-499"
          ],
          [
           "0-499"
          ],
          [
           "0-499"
          ],
          [
           "0-499"
          ],
          [
           "0-499"
          ],
          [
           "0-499"
          ],
          [
           "0-499"
          ],
          [
           "0-499"
          ],
          [
           "0-499"
          ],
          [
           "0-499"
          ],
          [
           "0-499"
          ],
          [
           "0-499"
          ],
          [
           "0-499"
          ],
          [
           "0-499"
          ],
          [
           "0-499"
          ],
          [
           "0-499"
          ],
          [
           "0-499"
          ],
          [
           "0-499"
          ],
          [
           "0-499"
          ],
          [
           "0-499"
          ],
          [
           "0-499"
          ],
          [
           "0-499"
          ],
          [
           "0-499"
          ],
          [
           "0-499"
          ],
          [
           "0-499"
          ],
          [
           "0-499"
          ],
          [
           "0-499"
          ],
          [
           "0-499"
          ],
          [
           "0-499"
          ]
         ],
         "hovertemplate": "w=%{customdata[0]}<br>x=%{marker.size}<br>y=%{y}<extra></extra>",
         "legendgroup": "0-499",
         "marker": {
          "color": "#636efa",
          "size": [
           0.5488135039273248,
           0.7171893663724195,
           0.6067633760716439,
           0.5508831829968969,
           0.4316547993389047,
           0.6558941130666561,
           0.4495872112626925,
           0.9057730007820798,
           0.9796627605010293,
           0.4014415188257777,
           0.8117250380826646,
           0.5508949197529045,
           0.5920445610939323,
           0.9515966382926611,
           0.09903605819788694,
           0.1171292997015407,
           0.05221839744032572,
           0.866619845547938,
           0.8141567509498505,
           0.9080121482468192,
           1.018618342232764,
           0.8411585642167236,
           0.5054793622529319,
           0.8265291762864555,
           0.1662744258689332,
           0.6899210213275239,
           0.1953532874090464,
           0.9986689170495839,
           0.5778483217500717,
           0.4726619399905236,
           0.32455561210462697,
           0.8362336894342166,
           0.5201503322165486,
           0.6344339488686486,
           0.08678980043635515,
           0.6876354970758771,
           0.6840957227224214,
           0.6909339968747569,
           1.0197480785146242,
           0.7598202991034834,
           0.439507900573786,
           0.5190319537993414,
           0.7816311959272648,
           0.14622547162926983,
           0.7547667154456676,
           0.7606378696181594,
           0.30238256107384087,
           0.2229262976548533,
           0.41142835092418384,
           0.4617107709426226,
           0.6701967704178796,
           0.5406015134623203,
           1.0923738380592263,
           0.20804481074802805,
           0.3168767560948347,
           0.27130951788499624,
           0.7651083254653984,
           0.3672916025397821,
           0.5823107728563063,
           0.36242559200160274,
           0.2789695836455197,
           0.23237514116430513,
           0.7803295894652734,
           0.2641829513486138,
           0.3245823616800535,
           0.4987251706609641,
           0.9529932298479351,
           0.23110127579306128,
           0.9739449074988039,
           0.23409840789396308,
           1.1164594650133957,
           0.6106512016477016,
           1.1207610881903372,
           0.750845519745046,
           0.8872635793983017,
           0.18918779225432067,
           0.4348069625764096,
           0.27419656121316893,
           0.45214019752214496,
           0.2767277189542441,
           0.47798317939397605,
           0.57626299451467,
           0.22814749634878437,
           0.8584721193700199,
           0.7346014542065752,
           0.43538949093944546,
           0.6952480534666996,
           0.26794051075844166,
           0.7519464955561792,
           1.1072961975762141,
           0.49856895245132365,
           0.8494103799636816,
           0.31579786240439217,
           0.9023272041185655,
           0.4774060929472011,
           0.37319136200711683,
           0.7785129348100832,
           0.21410754618749356,
           1.0249400292173632,
           0.20269547619254707,
           0.8778165367962301,
           0.47200797319216486,
           0.9391940221225948,
           1.1681885451174383,
           0.456753143519958,
           0.7861573344178369,
           0.804041931271839,
           0.7862519057908733,
           0.4390816326406183,
           1.170749011516985,
           0.6671253786176273,
           1.068408672471128,
           0.9234792753175043,
           0.5234369508551336,
           1.0417978197024773,
           0.6265057408469846,
           1.1131031971111616,
           0.8152728726358587,
           1.117735361854853,
           0.9305315900777659,
           0.9652542798196405,
           0.7433243819267022,
           1.200083634723224,
           0.8899901992296374,
           0.6718550485581797,
           0.8563932141279244,
           0.2711931983093335,
           0.5555748166745493,
           0.916173537492685,
           0.5480776072104441,
           0.8780154289988416,
           0.6907687009457661,
           0.39947406422245024,
           0.5642823259560308,
           0.8379649107012649,
           0.8608727612481732,
           0.8463252488495788,
           0.9272008198571337,
           0.9281032700016889,
           0.709418435433974,
           1.176546595851063,
           0.6495618700478965,
           0.7198649252656268,
           1.177923355015672,
           1.0941939890460857,
           0.9938885835403664,
           0.3922268873123011,
           1.2134826137446735,
           1.0102412995491115,
           1.2968470065678666,
           0.44944830465799374,
           1.1701260573682142,
           0.4664929346763748,
           0.9215595642838441,
           0.4318199828494415,
           1.1580082293222345,
           1.1193189587250107,
           0.8831007386145933,
           0.7231832972259997,
           0.38716699545513805,
           1.0174287731445637,
           0.7755426826780689,
           1.046055599470348,
           1.1923823259286292,
           1.3035215050028859,
           1.185803342392611,
           0.343714084185002,
           0.693978064478364,
           1.065990562424058,
           0.5096296772614406,
           0.8610366062041293,
           0.39633798833925366,
           0.5439965248964,
           0.36452179446061395,
           1.1416977033574205,
           0.5739246880603801,
           0.6973516806969027,
           1.2820812934655907,
           1.0604144019235329,
           0.38983892953130783,
           0.5246941564979127,
           0.9834784014997635,
           0.9412285886041676,
           0.6038928213745086,
           1.3022139979247938,
           0.983965955965896,
           0.9076328030249583,
           0.963909976354571,
           1.1061220295167695,
           0.6899449954796019,
           0.7782210622160919,
           0.5918437489751222,
           0.5701930058803362,
           1.3303723899839337,
           1.1275507950492876,
           0.8804588086175671,
           0.6194146279733233,
           0.648356481770393,
           0.45402916032387564,
           0.8324166255581208,
           0.7117958819941026,
           1.0983434888154595,
           0.7817518392924809,
           0.5856036775596348,
           0.4326787283913312,
           0.47724963146324856,
           1.0913927734985673,
           0.8676968445560453,
           0.9525792111087221,
           1.3146712930403421,
           1.4103389473967043,
           0.638896984398474,
           1.0870782031001007,
           0.6893223767371506,
           0.4486509994657287,
           1.1883786538361414,
           0.7520171508224678,
           0.8174638941718979,
           1.0243171135536058,
           1.2690484552361905,
           1.0689818435911487,
           1.3146506554473953,
           0.7175420348156358,
           1.2440468339125637,
           0.6336359443059523,
           1.4027916569719445,
           1.1394882763878154,
           0.6695076771135584,
           1.4033705904889242,
           1.1888558067701578,
           0.7139416425950258,
           0.675311977367482,
           0.9822007139306632,
           0.4916627180545316,
           0.6754700754411094,
           0.8946854687515062,
           0.8461699803342255,
           0.9375754243648107,
           0.7536287062947319,
           1.0647843464581688,
           1.3438556059232314,
           0.5995318559620331,
           1.001379107154114,
           0.6180681063451533,
           1.2048596811925938,
           0.8860597028072937,
           1.057421311858509,
           0.6772798362140786,
           0.6408477593433772,
           0.9860562806489546,
           0.8556127378499556,
           1.442431945252813,
           1.2693252538069653,
           1.2546636198505472,
           1.4117197397459336,
           0.5934224354420186,
           1.0641924699224066,
           1.0984760689557689,
           1.477936378547229,
           0.8101475267925489,
           0.7608287799154468,
           0.6222939422654978,
           0.5404296295914742,
           1.4555293167921906,
           1.19791654659091,
           1.3151529120231378,
           0.8137301057539491,
           1.1204101661863266,
           0.5999552661209812,
           1.0236275959346228,
           1.517495139744447,
           1.4185052453165907,
           0.8821589518368457,
           1.5075701545414986,
           0.7797016264712046,
           1.4993188224156815,
           1.4933777047064987,
           1.3532025873523916,
           1.186447936866791,
           1.432287966624947,
           0.8530202845077968,
           1.4109435553129184,
           1.1818766919175236,
           0.5792368577588994,
           0.9152335179322195,
           0.718140860948165,
           1.5538293898182531,
           1.052370307039988,
           1.0733913654986627,
           1.2174725163987237,
           0.9485846061296175,
           0.7189002716855989,
           1.4061177331942454,
           0.7758479119027579,
           1.099318982546456,
           0.8143170289747392,
           0.689844484494034,
           1.4561915174216833,
           1.5689194890231302,
           1.5588346580630001,
           1.506555499221179,
           1.3760473326986387,
           0.9371451520286419,
           0.6871013899879967,
           1.0152411714138072,
           0.8422341421709427,
           0.744487634757983,
           0.6674271817868253,
           1.3415943642105788,
           0.629427458625031,
           1.3905807485027761,
           0.768946645400375,
           0.7035220825867557,
           0.7156030342386054,
           1.3000478073539146,
           0.8753672098528448,
           1.0525394666800985,
           1.1913687913239168,
           1.4965511738287938,
           1.3650442627113284,
           0.9103279052387147,
           0.7734827992911276,
           0.699374320421198,
           0.9475986344809425,
           0.9101181492396783,
           1.1061405668004798,
           1.3352813355476805,
           1.3496254456388572,
           0.9395188465821667,
           1.0379269559001205,
           0.8411509617369031,
           1.4505455123065187,
           0.7208480764332403,
           1.3629972417249874,
           1.4466953959411035,
           1.4474075618487532,
           0.931422564345355,
           1.0478131379325615,
           1.263599635196389,
           0.9508219024244671,
           1.0508527992178887,
           0.8790542801856397,
           1.1438558837560073,
           0.7306123012541141,
           1.4877958845706178,
           0.7669564469866327,
           1.210835148831526,
           1.000810099545196,
           1.2735429488313754,
           1.6574333408334252,
           1.3455702444560038,
           0.7373624357554909,
           1.1344024395080612,
           1.2160168523182502,
           1.244177494703452,
           1.3913925106038378,
           0.989596097731766,
           0.8428605654663202,
           1.1086756765470942,
           1.6744057227959488,
           0.9071308917508447,
           1.625983954928237,
           1.2678059500773262,
           1.1829114216457657,
           1.6100414102298894,
           1.1886039617685857,
           1.4561676366115432,
           1.1330253217031019,
           1.6400443929009576,
           1.4280250201912272,
           1.4396220542505167,
           1.069720401557119,
           1.5007786427368892,
           1.3820610554471413,
           0.9880202733797095,
           0.9105388224852564,
           1.5483914745173317,
           1.7131666030352224,
           1.2141388272600429,
           1.348984165323685,
           1.6177226441935546,
           1.219223453353857,
           1.7158744768327363,
           1.3417511620448725,
           1.588767120701315,
           1.6788437184127383,
           1.587523818768569,
           0.933414463448956,
           1.4048984390617005,
           1.1764342586196772,
           0.8427129520233457,
           1.2060322518898419,
           1.0426840668894077,
           1.635038308428511,
           0.8213046265466962,
           1.7489827218634737,
           1.1473688484719298,
           1.1507068904025428,
           0.8123285026837079,
           0.983232325236184,
           1.2012595008036087,
           1.7312914173027139,
           0.9036149302212714,
           1.7513015334790796,
           1.6774885305466323,
           1.264162396907552,
           1.1387008817682602,
           1.0467441292790567,
           1.4304647064768743,
           0.8510745914755056,
           0.8356060644468282,
           1.2507957224982378,
           0.8920740739747202,
           1.0779409882460929,
           1.049160915346084,
           1.0831911937228518,
           0.9630552312152577,
           0.8460362228976542,
           0.951484297138748,
           1.4564802595127477,
           1.8142562128180502,
           1.8323450015608937,
           1.2530540953730616,
           1.0089544260466052,
           1.4867617573665293,
           1.3403053465487371,
           1.8414097772844316,
           0.9193042071517802,
           1.639234438313813,
           1.1463984973314938,
           1.1014186200765739,
           1.524504571532676,
           1.1100631849909646,
           1.5318591175591876,
           1.3853085172022888,
           1.2940889884358493,
           1.426687808661419,
           1.1610515199196296,
           1.582574706272979,
           1.292856869333564,
           1.2405455604858924,
           1.7106569145557378,
           1.8089669119531921,
           0.9320073108872969,
           1.1206269928297656,
           1.2385193694925634,
           1.7069664793702475,
           1.8794914276432975,
           1.8649717046703518,
           1.802948345549927,
           1.19655626506403,
           1.8940112434144742,
           1.1534200410564512,
           1.0119061548822321,
           1.8589526110553942,
           1.1434202554680963,
           1.6017682650777505,
           0.9723563589805887,
           1.6467090991274762,
           1.7997202123338396,
           1.1924368954659625,
           1.3010568960774287,
           1.2982961833209161,
           1.6747882575401332,
           1.165807242539039,
           1.1018530990476432,
           1.3812916486877382,
           1.2384684073773196,
           1.7751891222586524,
           1.1757418260156387,
           1.4423894574892615,
           1.8845835996979303,
           1.5779976977446606,
           1.8132894054624646,
           1.8882096893547673,
           1.700764861886352,
           1.6515750602247512,
           1.921965566604227,
           1.9504007896476794,
           1.4098216826697596,
           1.0308697781842082,
           1.2547940314405188,
           1.1163547056877303,
           1.3834863747960118,
           1.0992893284732559,
           1.574117804020882,
           1.354808059157854,
           1.86938588428821,
           1.9437946717985017,
           1.5248849016694221,
           1.2548235698675967,
           1.5742304187618368,
           1.8807611582244097,
           1.3927333458357483,
           1.540078276691971,
           1.261652767606146,
           1.447444149450027,
           1.3957135353795986,
           1.244413465082971,
           1.5038663838253084
          ],
          "sizemode": "area",
          "sizeref": 0.007369521445292413,
          "symbol": "circle"
         },
         "mode": "markers",
         "name": "0-499",
         "orientation": "v",
         "showlegend": true,
         "type": "scatter",
         "x": [
          0.5488135039273248,
          0.7171893663724195,
          0.6067633760716439,
          0.5508831829968969,
          0.4316547993389047,
          0.6558941130666561,
          0.4495872112626925,
          0.9057730007820798,
          0.9796627605010293,
          0.4014415188257777,
          0.8117250380826646,
          0.5508949197529045,
          0.5920445610939323,
          0.9515966382926611,
          0.09903605819788694,
          0.1171292997015407,
          0.05221839744032572,
          0.866619845547938,
          0.8141567509498505,
          0.9080121482468192,
          1.018618342232764,
          0.8411585642167236,
          0.5054793622529319,
          0.8265291762864555,
          0.1662744258689332,
          0.6899210213275239,
          0.1953532874090464,
          0.9986689170495839,
          0.5778483217500717,
          0.4726619399905236,
          0.32455561210462697,
          0.8362336894342166,
          0.5201503322165486,
          0.6344339488686486,
          0.08678980043635515,
          0.6876354970758771,
          0.6840957227224214,
          0.6909339968747569,
          1.0197480785146242,
          0.7598202991034834,
          0.439507900573786,
          0.5190319537993414,
          0.7816311959272648,
          0.14622547162926983,
          0.7547667154456676,
          0.7606378696181594,
          0.30238256107384087,
          0.2229262976548533,
          0.41142835092418384,
          0.4617107709426226,
          0.6701967704178796,
          0.5406015134623203,
          1.0923738380592263,
          0.20804481074802805,
          0.3168767560948347,
          0.27130951788499624,
          0.7651083254653984,
          0.3672916025397821,
          0.5823107728563063,
          0.36242559200160274,
          0.2789695836455197,
          0.23237514116430513,
          0.7803295894652734,
          0.2641829513486138,
          0.3245823616800535,
          0.4987251706609641,
          0.9529932298479351,
          0.23110127579306128,
          0.9739449074988039,
          0.23409840789396308,
          1.1164594650133957,
          0.6106512016477016,
          1.1207610881903372,
          0.750845519745046,
          0.8872635793983017,
          0.18918779225432067,
          0.4348069625764096,
          0.27419656121316893,
          0.45214019752214496,
          0.2767277189542441,
          0.47798317939397605,
          0.57626299451467,
          0.22814749634878437,
          0.8584721193700199,
          0.7346014542065752,
          0.43538949093944546,
          0.6952480534666996,
          0.26794051075844166,
          0.7519464955561792,
          1.1072961975762141,
          0.49856895245132365,
          0.8494103799636816,
          0.31579786240439217,
          0.9023272041185655,
          0.4774060929472011,
          0.37319136200711683,
          0.7785129348100832,
          0.21410754618749356,
          1.0249400292173632,
          0.20269547619254707,
          0.8778165367962301,
          0.47200797319216486,
          0.9391940221225948,
          1.1681885451174383,
          0.456753143519958,
          0.7861573344178369,
          0.804041931271839,
          0.7862519057908733,
          0.4390816326406183,
          1.170749011516985,
          0.6671253786176273,
          1.068408672471128,
          0.9234792753175043,
          0.5234369508551336,
          1.0417978197024773,
          0.6265057408469846,
          1.1131031971111616,
          0.8152728726358587,
          1.117735361854853,
          0.9305315900777659,
          0.9652542798196405,
          0.7433243819267022,
          1.200083634723224,
          0.8899901992296374,
          0.6718550485581797,
          0.8563932141279244,
          0.2711931983093335,
          0.5555748166745493,
          0.916173537492685,
          0.5480776072104441,
          0.8780154289988416,
          0.6907687009457661,
          0.39947406422245024,
          0.5642823259560308,
          0.8379649107012649,
          0.8608727612481732,
          0.8463252488495788,
          0.9272008198571337,
          0.9281032700016889,
          0.709418435433974,
          1.176546595851063,
          0.6495618700478965,
          0.7198649252656268,
          1.177923355015672,
          1.0941939890460857,
          0.9938885835403664,
          0.3922268873123011,
          1.2134826137446735,
          1.0102412995491115,
          1.2968470065678666,
          0.44944830465799374,
          1.1701260573682142,
          0.4664929346763748,
          0.9215595642838441,
          0.4318199828494415,
          1.1580082293222345,
          1.1193189587250107,
          0.8831007386145933,
          0.7231832972259997,
          0.38716699545513805,
          1.0174287731445637,
          0.7755426826780689,
          1.046055599470348,
          1.1923823259286292,
          1.3035215050028859,
          1.185803342392611,
          0.343714084185002,
          0.693978064478364,
          1.065990562424058,
          0.5096296772614406,
          0.8610366062041293,
          0.39633798833925366,
          0.5439965248964,
          0.36452179446061395,
          1.1416977033574205,
          0.5739246880603801,
          0.6973516806969027,
          1.2820812934655907,
          1.0604144019235329,
          0.38983892953130783,
          0.5246941564979127,
          0.9834784014997635,
          0.9412285886041676,
          0.6038928213745086,
          1.3022139979247938,
          0.983965955965896,
          0.9076328030249583,
          0.963909976354571,
          1.1061220295167695,
          0.6899449954796019,
          0.7782210622160919,
          0.5918437489751222,
          0.5701930058803362,
          1.3303723899839337,
          1.1275507950492876,
          0.8804588086175671,
          0.6194146279733233,
          0.648356481770393,
          0.45402916032387564,
          0.8324166255581208,
          0.7117958819941026,
          1.0983434888154595,
          0.7817518392924809,
          0.5856036775596348,
          0.4326787283913312,
          0.47724963146324856,
          1.0913927734985673,
          0.8676968445560453,
          0.9525792111087221,
          1.3146712930403421,
          1.4103389473967043,
          0.638896984398474,
          1.0870782031001007,
          0.6893223767371506,
          0.4486509994657287,
          1.1883786538361414,
          0.7520171508224678,
          0.8174638941718979,
          1.0243171135536058,
          1.2690484552361905,
          1.0689818435911487,
          1.3146506554473953,
          0.7175420348156358,
          1.2440468339125637,
          0.6336359443059523,
          1.4027916569719445,
          1.1394882763878154,
          0.6695076771135584,
          1.4033705904889242,
          1.1888558067701578,
          0.7139416425950258,
          0.675311977367482,
          0.9822007139306632,
          0.4916627180545316,
          0.6754700754411094,
          0.8946854687515062,
          0.8461699803342255,
          0.9375754243648107,
          0.7536287062947319,
          1.0647843464581688,
          1.3438556059232314,
          0.5995318559620331,
          1.001379107154114,
          0.6180681063451533,
          1.2048596811925938,
          0.8860597028072937,
          1.057421311858509,
          0.6772798362140786,
          0.6408477593433772,
          0.9860562806489546,
          0.8556127378499556,
          1.442431945252813,
          1.2693252538069653,
          1.2546636198505472,
          1.4117197397459336,
          0.5934224354420186,
          1.0641924699224066,
          1.0984760689557689,
          1.477936378547229,
          0.8101475267925489,
          0.7608287799154468,
          0.6222939422654978,
          0.5404296295914742,
          1.4555293167921906,
          1.19791654659091,
          1.3151529120231378,
          0.8137301057539491,
          1.1204101661863266,
          0.5999552661209812,
          1.0236275959346228,
          1.517495139744447,
          1.4185052453165907,
          0.8821589518368457,
          1.5075701545414986,
          0.7797016264712046,
          1.4993188224156815,
          1.4933777047064987,
          1.3532025873523916,
          1.186447936866791,
          1.432287966624947,
          0.8530202845077968,
          1.4109435553129184,
          1.1818766919175236,
          0.5792368577588994,
          0.9152335179322195,
          0.718140860948165,
          1.5538293898182531,
          1.052370307039988,
          1.0733913654986627,
          1.2174725163987237,
          0.9485846061296175,
          0.7189002716855989,
          1.4061177331942454,
          0.7758479119027579,
          1.099318982546456,
          0.8143170289747392,
          0.689844484494034,
          1.4561915174216833,
          1.5689194890231302,
          1.5588346580630001,
          1.506555499221179,
          1.3760473326986387,
          0.9371451520286419,
          0.6871013899879967,
          1.0152411714138072,
          0.8422341421709427,
          0.744487634757983,
          0.6674271817868253,
          1.3415943642105788,
          0.629427458625031,
          1.3905807485027761,
          0.768946645400375,
          0.7035220825867557,
          0.7156030342386054,
          1.3000478073539146,
          0.8753672098528448,
          1.0525394666800985,
          1.1913687913239168,
          1.4965511738287938,
          1.3650442627113284,
          0.9103279052387147,
          0.7734827992911276,
          0.699374320421198,
          0.9475986344809425,
          0.9101181492396783,
          1.1061405668004798,
          1.3352813355476805,
          1.3496254456388572,
          0.9395188465821667,
          1.0379269559001205,
          0.8411509617369031,
          1.4505455123065187,
          0.7208480764332403,
          1.3629972417249874,
          1.4466953959411035,
          1.4474075618487532,
          0.931422564345355,
          1.0478131379325615,
          1.263599635196389,
          0.9508219024244671,
          1.0508527992178887,
          0.8790542801856397,
          1.1438558837560073,
          0.7306123012541141,
          1.4877958845706178,
          0.7669564469866327,
          1.210835148831526,
          1.000810099545196,
          1.2735429488313754,
          1.6574333408334252,
          1.3455702444560038,
          0.7373624357554909,
          1.1344024395080612,
          1.2160168523182502,
          1.244177494703452,
          1.3913925106038378,
          0.989596097731766,
          0.8428605654663202,
          1.1086756765470942,
          1.6744057227959488,
          0.9071308917508447,
          1.625983954928237,
          1.2678059500773262,
          1.1829114216457657,
          1.6100414102298894,
          1.1886039617685857,
          1.4561676366115432,
          1.1330253217031019,
          1.6400443929009576,
          1.4280250201912272,
          1.4396220542505167,
          1.069720401557119,
          1.5007786427368892,
          1.3820610554471413,
          0.9880202733797095,
          0.9105388224852564,
          1.5483914745173317,
          1.7131666030352224,
          1.2141388272600429,
          1.348984165323685,
          1.6177226441935546,
          1.219223453353857,
          1.7158744768327363,
          1.3417511620448725,
          1.588767120701315,
          1.6788437184127383,
          1.587523818768569,
          0.933414463448956,
          1.4048984390617005,
          1.1764342586196772,
          0.8427129520233457,
          1.2060322518898419,
          1.0426840668894077,
          1.635038308428511,
          0.8213046265466962,
          1.7489827218634737,
          1.1473688484719298,
          1.1507068904025428,
          0.8123285026837079,
          0.983232325236184,
          1.2012595008036087,
          1.7312914173027139,
          0.9036149302212714,
          1.7513015334790796,
          1.6774885305466323,
          1.264162396907552,
          1.1387008817682602,
          1.0467441292790567,
          1.4304647064768743,
          0.8510745914755056,
          0.8356060644468282,
          1.2507957224982378,
          0.8920740739747202,
          1.0779409882460929,
          1.049160915346084,
          1.0831911937228518,
          0.9630552312152577,
          0.8460362228976542,
          0.951484297138748,
          1.4564802595127477,
          1.8142562128180502,
          1.8323450015608937,
          1.2530540953730616,
          1.0089544260466052,
          1.4867617573665293,
          1.3403053465487371,
          1.8414097772844316,
          0.9193042071517802,
          1.639234438313813,
          1.1463984973314938,
          1.1014186200765739,
          1.524504571532676,
          1.1100631849909646,
          1.5318591175591876,
          1.3853085172022888,
          1.2940889884358493,
          1.426687808661419,
          1.1610515199196296,
          1.582574706272979,
          1.292856869333564,
          1.2405455604858924,
          1.7106569145557378,
          1.8089669119531921,
          0.9320073108872969,
          1.1206269928297656,
          1.2385193694925634,
          1.7069664793702475,
          1.8794914276432975,
          1.8649717046703518,
          1.802948345549927,
          1.19655626506403,
          1.8940112434144742,
          1.1534200410564512,
          1.0119061548822321,
          1.8589526110553942,
          1.1434202554680963,
          1.6017682650777505,
          0.9723563589805887,
          1.6467090991274762,
          1.7997202123338396,
          1.1924368954659625,
          1.3010568960774287,
          1.2982961833209161,
          1.6747882575401332,
          1.165807242539039,
          1.1018530990476432,
          1.3812916486877382,
          1.2384684073773196,
          1.7751891222586524,
          1.1757418260156387,
          1.4423894574892615,
          1.8845835996979303,
          1.5779976977446606,
          1.8132894054624646,
          1.8882096893547673,
          1.700764861886352,
          1.6515750602247512,
          1.921965566604227,
          1.9504007896476794,
          1.4098216826697596,
          1.0308697781842082,
          1.2547940314405188,
          1.1163547056877303,
          1.3834863747960118,
          1.0992893284732559,
          1.574117804020882,
          1.354808059157854,
          1.86938588428821,
          1.9437946717985017,
          1.5248849016694221,
          1.2548235698675967,
          1.5742304187618368,
          1.8807611582244097,
          1.3927333458357483,
          1.540078276691971,
          1.261652767606146,
          1.447444149450027,
          1.3957135353795986,
          1.244413465082971,
          1.5038663838253084
         ],
         "xaxis": "x",
         "y": [
          -0.055812837588318245,
          0.013826969562984086,
          1.1222642291878968,
          -0.1179808092593045,
          -0.21540292674015388,
          0.014004142025751955,
          -0.4132216505131245,
          0.17459123228009693,
          -0.3576310011770078,
          -0.7191132516001091,
          -0.047556170450265174,
          -0.17493287724876613,
          -0.9664673373923469,
          -0.06388463584579865,
          0.14749994373737813,
          0.0610599429673226,
          0.0319538573545784,
          -1.162567685127841,
          0.38827002657499976,
          0.1347940232952657,
          0.5388951836383562,
          0.35549768463348863,
          -0.6873410939314968,
          -0.03421897867459759,
          -0.1260145421999889,
          -0.03455406948124846,
          -0.17531022119419792,
          1.3107233602123687,
          -0.4963557530922139,
          -0.424895743614265,
          0.02420743683042757,
          -0.9007065286938639,
          -0.22088875784063175,
          -0.5265577170371878,
          0.12247534180633882,
          0.5403466050671798,
          -0.03931465176909369,
          -0.27030516150415335,
          0.9594989295035357,
          0.3078822855088887,
          0.21889796675788803,
          -0.013594608123162401,
          -1.319573255607304,
          -0.01644539134201983,
          -0.401905667329357,
          0.49065346899048,
          0.3059635062919691,
          -0.14667459044675,
          0.19270696453584488,
          0.8014740302845776,
          -0.4474989088933247,
          0.9092494382087175,
          -0.9313424741487766,
          0.004776658010277234,
          -0.0035317853251348313,
          0.0031197609799544688,
          -0.6409144439233219,
          -0.21713658957607967,
          -0.388820716001776,
          0.11849961220184098,
          0.09206975848334306,
          0.5172541283115627,
          1.0698232884405539,
          -0.13469189243328936,
          0.10544694713321769,
          0.4972878351394862,
          0.029163331415603237,
          -0.016094257627329373,
          0.050231152865275686,
          0.20302807800769654,
          -0.947115477051014,
          -0.19887045247500804,
          0.5272431633389455,
          0.23384863831415242,
          0.2125730570723055,
          -0.06996186622608941,
          0.42286533247391805,
          0.5850993354654564,
          0.18375678158681993,
          -0.053457347974991985,
          0.36123114608193546,
          -0.3106821876958678,
          -0.171039975180823,
          0.028165395097819252,
          -1.8973261624995672,
          -0.5024178613998364,
          -0.24191980300962823,
          -0.3626277019068825,
          -0.7764923616280494,
          -0.4836097733649848,
          -0.8191314853094372,
          -0.34492159875359857,
          -0.1690371737683196,
          0.02292381065210104,
          0.551014488540203,
          0.06437715814321558,
          0.01639705604804256,
          0.02129394975225521,
          0.2330639575764667,
          -0.2060883245433239,
          -0.10075167809996462,
          0.1457330478798637,
          -1.287409581369315,
          1.0112458284809098,
          0.4939219030659246,
          -0.49636086409479846,
          -0.1940457039288345,
          -0.6904788306815604,
          0.3070851245707239,
          -1.2424249440270918,
          -0.14842005969202596,
          -0.917677478459818,
          0.047055218808712995,
          -0.9391658990036074,
          1.3819048469355466,
          -0.6043314624231061,
          0.06666896326668678,
          -0.17326427321120919,
          -0.8518423397585281,
          -0.8261074621832931,
          0.9038627017808897,
          -0.3907214689830845,
          0.3254269008081118,
          -0.7133243727140735,
          -0.4348121123200295,
          0.40442925472648505,
          0.25232045579455076,
          -0.09740137808287565,
          -1.3027253588319636,
          1.0950349875009417,
          -0.7520635083279205,
          -1.0648803254656423,
          1.0364053343943986,
          -0.22798828253555734,
          -1.2248807015880907,
          -0.5883546791821801,
          0.3110625255894394,
          0.176457032229389,
          -0.7904926531269704,
          1.2930737246313573,
          -0.6136627946081967,
          -0.7695272370883941,
          0.6915694814860639,
          1.565534167222702,
          -0.89449603349834,
          -1.392783076126967,
          0.4041655941959032,
          -2.484391609154764,
          -1.2391838592439244,
          1.2546296437082545,
          -0.024878108867163178,
          -0.3088399691009818,
          0.16458645416612228,
          -0.1407907311962223,
          -0.560798878091263,
          1.477705751910383,
          1.4831133499732765,
          0.18132933873394427,
          0.032640166097170346,
          0.905825506639096,
          -0.2812507303613246,
          -0.2013130288530473,
          0.3812676516699784,
          1.754378296254862,
          2.0762109309228602,
          -0.3066162908935689,
          0.10597779183053695,
          -0.9563596971627615,
          -0.3325635867404724,
          -0.42823692305400723,
          -0.8669189950180736,
          0.6664727329635205,
          -0.4310011907443122,
          -0.19378193953419962,
          0.41768872094077303,
          0.7448539615046945,
          0.33550644199595714,
          3.5377175737156827,
          -0.07917899950003213,
          0.10085774011131478,
          0.1446060631663207,
          1.4113400769926134,
          0.47742780203796154,
          -0.07019028169430928,
          -1.233832911161833,
          0.2405240388248952,
          1.2719065372300586,
          -0.3955711050211045,
          0.5850761887028937,
          0.16982843495147878,
          0.6720091857899835,
          -0.4762884708608697,
          1.338041724076105,
          -1.7017606191316783,
          -0.41217742214489,
          0.825951840938811,
          0.18380086764778517,
          0.5381269060199457,
          -0.2252449261328177,
          -0.06226891125770318,
          0.008706675582729454,
          1.7235860798865683,
          0.5397441597123617,
          0.4665341164675395,
          -0.28467062509429786,
          0.46239888218535585,
          0.2461981974527772,
          1.205357007043549,
          1.918551833497745,
          -0.40329615942994607,
          -0.5730251293158753,
          -0.5520357391999102,
          -0.1560821575985676,
          -0.2633386904445554,
          0.1612920081798604,
          -0.171800119297089,
          -0.27192886087284723,
          0.8702599110565937,
          -0.9606867712320436,
          0.549634978897221,
          -0.4339443359205201,
          0.9522915297127484,
          0.9939833889869242,
          -0.3770684225366455,
          0.27945430267002275,
          0.25080914037660973,
          -0.9109324521611746,
          0.16120908632528352,
          0.40574321421558274,
          0.49084387233339394,
          -0.1416452342847445,
          0.06360918857523677,
          -1.1271842893395705,
          -0.17607133972401207,
          0.3755361532060186,
          0.7984834182356891,
          -0.35735012642493225,
          0.09817730058286082,
          0.17186753237946265,
          0.21453269337610623,
          0.7267216141411341,
          -1.0899954560269165,
          -0.04939209332558313,
          0.14773904527545045,
          -1.2052577053276377,
          1.4832512780575673,
          0.170836212305883,
          1.0588625096495066,
          -0.5066049072510832,
          -0.8946489832636084,
          0.1918730567493803,
          -2.421393720668199,
          0.27286125288123037,
          0.1219774335438713,
          1.4338347269275955,
          0.41601366001973095,
          -0.44427625211081506,
          -1.205573811024125,
          2.530678177799623,
          -0.6417300248460853,
          -0.7954651731267997,
          -0.675099354032876,
          0.6038248978160649,
          -0.755274460029833,
          -0.9028750512772107,
          0.1810831754927461,
          -0.1683971412070048,
          -0.7597450479097126,
          0.4523611512240227,
          1.09048633608818,
          1.4952145309213536,
          1.0878795741508778,
          0.3551797165244251,
          -2.677275746550847,
          1.3015175687204923,
          0.4527781072555278,
          0.9082072499527499,
          1.5087699002128574,
          1.7005981198471904,
          0.599266436857965,
          0.3715297087186566,
          -0.8454716324688312,
          0.039108005612252014,
          -0.4947616847334865,
          -0.6589137059342204,
          -0.6417122905991552,
          -0.24243450734538466,
          1.1040345202849409,
          3.403696941863758,
          0.23071060058210427,
          -1.2790838977491605,
          0.909396859511416,
          -0.4229375425718491,
          -0.5125317982220661,
          0.23069151455827813,
          -1.0102617379836027,
          0.15346498669442907,
          -0.12869168723031266,
          0.15434701529210118,
          0.5945648762098232,
          0.10168083130098793,
          0.022481977064951718,
          0.2664439731302789,
          0.2854223476440655,
          -1.0472034613032581,
          -1.2043874610708853,
          -0.045888767672781314,
          -0.9562466102926881,
          0.11743172807957579,
          0.5908730602529043,
          0.844237803157787,
          -0.8059871181363939,
          -0.6052136317723426,
          0.23493340284700404,
          -0.5217063316597582,
          -0.27718966211489215,
          0.6282676294306155,
          -1.1762225546748297,
          -0.6004682760984357,
          -1.0921479936751586,
          -0.9495898908392372,
          -0.6629352365847417,
          0.4737996442977172,
          0.04910493031181327,
          -0.80014004439977,
          -0.25563086321141926,
          -2.1882688097593994,
          -0.9896976247277863,
          2.0195657876409108,
          -0.09366652417228062,
          0.6154356101350053,
          -0.09499386867407555,
          0.2509771234972901,
          0.9040189467844985,
          -1.5980437459216723,
          -0.04477737271362666,
          1.4705906681390328,
          -0.8335359275784175,
          -0.7157531925367282,
          -0.292559605705507,
          0.28270470035425693,
          0.46143129478381517,
          1.4497362785052583,
          0.3649395538269021,
          -0.09232238518750421,
          0.9657263478886665,
          0.8525623742887206,
          -1.4968911655528951,
          3.217438458656911,
          2.933526719451446,
          -0.22634405284966858,
          0.2786567131144873,
          1.5023557967791263,
          -0.20939906590197074,
          0.9086872608034607,
          1.5369022155015717,
          -1.0042677581711001,
          -0.5076817667092279,
          1.0215430788188202,
          0.7715903976852247,
          0.8380043975539536,
          -0.21555346476363693,
          -0.36640252605112944,
          -2.364213463419675,
          -1.8451081428180987,
          0.05594294657606087,
          1.2006935376638395,
          0.6018385396258343,
          -0.21032253043868293,
          -0.3880965967252786,
          0.3126565888800934,
          0.08366409604415358,
          2.107911911573406,
          0.20239008580766257,
          -1.4635010405127657,
          -1.1587135858163597,
          2.351634009198003,
          -2.0063929893515975,
          0.9282060410694242,
          -0.3620305702020614,
          -0.2746218360857154,
          -0.1635378346148759,
          2.095743278323425,
          -0.2587457475397227,
          -0.052936581069726374,
          -2.5699798357333887,
          0.328126110449919,
          0.495682756719514,
          0.3359752529690094,
          1.6445330515387921,
          0.04649361525397642,
          0.3605764546675152,
          1.7188688657099227,
          -2.5343325782083355,
          -0.37437146704487856,
          2.494327015916071,
          1.074085422918695,
          0.7806166540476873,
          0.6763859284476619,
          0.3215820693002465,
          1.9599719113098686,
          0.654011208362191,
          0.21674749815594047,
          0.27838456975604037,
          0.32352707339162806,
          -1.4626577389796456,
          0.8775660866724475,
          -0.13653702556242092,
          2.6061852456866714,
          -0.06438419335097176,
          0.351721870893732,
          0.3084489597343908,
          -0.5580432128134587,
          1.0694649534085825,
          1.998718312922491,
          -0.016006554203252057,
          -0.2893776663272487,
          -0.3003671666422358,
          -1.8005526259952012,
          -0.2589813336853412,
          0.4553748913737274,
          1.9326804120608303,
          1.202991753801574,
          -0.42022859266885076,
          -0.4115698421894918,
          1.506376290129525,
          -0.3194181160758599,
          -0.46887230166902477,
          2.2826641983000115,
          1.1894866495595424,
          0.020697629364769342,
          -0.9052164336115833,
          -2.2333142750014203,
          0.9033428448571678,
          -1.2417486112137877,
          -2.539949880279618,
          2.261044125285205,
          0.7523239886109958,
          -1.802565556664598,
          -1.5700471700870582,
          1.0804677722258835,
          -1.5019065059538506,
          2.3446922232904543,
          0.5745445862321344,
          0.6013245452057149,
          0.5012231605239289,
          0.3268002209910205,
          1.6549132507972992,
          -0.8468470277380594,
          0.15496696830027512,
          0.8997464004786675,
          1.0663088569288768,
          -1.3783217299948958,
          -0.5063676223077548,
          0.4699497364828938,
          -0.4665322828451399,
          2.842591764315633,
          -0.38228500897269546,
          -0.2671265936708703,
          1.3847590436453214,
          0.3941394381928911,
          -0.18901033437017029,
          -0.9821526612528467,
          0.5049722028113858,
          1.2113861558896648,
          0.5278925574115583,
          -1.074898399333757,
          2.15094091493976,
          -2.5679493348915927,
          -1.8608297065019443,
          1.3854976138722523,
          0.4256152621225611,
          -0.8671074409818134,
          -1.9920266614272708,
          4.382156743582046,
          0.19914404100960273,
          0.8822733309117377,
          0.6109642110284215,
          0.8480497841039453,
          0.7614368811376979,
          0.7550337764727976,
          -0.4708268289372745,
          -0.3255759038399985,
          -2.408681333573628,
          -0.8577803070277997,
          0.4267634797846632,
          1.4158060911393895,
          1.1198360347383334,
          -0.6622359627524641,
          -1.926193301836448,
          -3.4850957176696697,
          1.8130946574214122,
          -1.1081989911282244,
          -0.6245921685808291,
          0.20263420975338317,
          -1.7733287238286035,
          -0.5062901701843197,
          2.8241871887549,
          0.6289103114427057,
          0.5402627298981839
         ],
         "yaxis": "y"
        },
        {
         "customdata": [
          [
           "500-999"
          ],
          [
           "500-999"
          ],
          [
           "500-999"
          ],
          [
           "500-999"
          ],
          [
           "500-999"
          ],
          [
           "500-999"
          ],
          [
           "500-999"
          ],
          [
           "500-999"
          ],
          [
           "500-999"
          ],
          [
           "500-999"
          ],
          [
           "500-999"
          ],
          [
           "500-999"
          ],
          [
           "500-999"
          ],
          [
           "500-999"
          ],
          [
           "500-999"
          ],
          [
           "500-999"
          ],
          [
           "500-999"
          ],
          [
           "500-999"
          ],
          [
           "500-999"
          ],
          [
           "500-999"
          ],
          [
           "500-999"
          ],
          [
           "500-999"
          ],
          [
           "500-999"
          ],
          [
           "500-999"
          ],
          [
           "500-999"
          ],
          [
           "500-999"
          ],
          [
           "500-999"
          ],
          [
           "500-999"
          ],
          [
           "500-999"
          ],
          [
           "500-999"
          ],
          [
           "500-999"
          ],
          [
           "500-999"
          ],
          [
           "500-999"
          ],
          [
           "500-999"
          ],
          [
           "500-999"
          ],
          [
           "500-999"
          ],
          [
           "500-999"
          ],
          [
           "500-999"
          ],
          [
           "500-999"
          ],
          [
           "500-999"
          ],
          [
           "500-999"
          ],
          [
           "500-999"
          ],
          [
           "500-999"
          ],
          [
           "500-999"
          ],
          [
           "500-999"
          ],
          [
           "500-999"
          ],
          [
           "500-999"
          ],
          [
           "500-999"
          ],
          [
           "500-999"
          ],
          [
           "500-999"
          ],
          [
           "500-999"
          ],
          [
           "500-999"
          ],
          [
           "500-999"
          ],
          [
           "500-999"
          ],
          [
           "500-999"
          ],
          [
           "500-999"
          ],
          [
           "500-999"
          ],
          [
           "500-999"
          ],
          [
           "500-999"
          ],
          [
           "500-999"
          ],
          [
           "500-999"
          ],
          [
           "500-999"
          ],
          [
           "500-999"
          ],
          [
           "500-999"
          ],
          [
           "500-999"
          ],
          [
           "500-999"
          ],
          [
           "500-999"
          ],
          [
           "500-999"
          ],
          [
           "500-999"
          ],
          [
           "500-999"
          ],
          [
           "500-999"
          ],
          [
           "500-999"
          ],
          [
           "500-999"
          ],
          [
           "500-999"
          ],
          [
           "500-999"
          ],
          [
           "500-999"
          ],
          [
           "500-999"
          ],
          [
           "500-999"
          ],
          [
           "500-999"
          ],
          [
           "500-999"
          ],
          [
           "500-999"
          ],
          [
           "500-999"
          ],
          [
           "500-999"
          ],
          [
           "500-999"
          ],
          [
           "500-999"
          ],
          [
           "500-999"
          ],
          [
           "500-999"
          ],
          [
           "500-999"
          ],
          [
           "500-999"
          ],
          [
           "500-999"
          ],
          [
           "500-999"
          ],
          [
           "500-999"
          ],
          [
           "500-999"
          ],
          [
           "500-999"
          ],
          [
           "500-999"
          ],
          [
           "500-999"
          ],
          [
           "500-999"
          ],
          [
           "500-999"
          ],
          [
           "500-999"
          ],
          [
           "500-999"
          ],
          [
           "500-999"
          ],
          [
           "500-999"
          ],
          [
           "500-999"
          ],
          [
           "500-999"
          ],
          [
           "500-999"
          ],
          [
           "500-999"
          ],
          [
           "500-999"
          ],
          [
           "500-999"
          ],
          [
           "500-999"
          ],
          [
           "500-999"
          ],
          [
           "500-999"
          ],
          [
           "500-999"
          ],
          [
           "500-999"
          ],
          [
           "500-999"
          ],
          [
           "500-999"
          ],
          [
           "500-999"
          ],
          [
           "500-999"
          ],
          [
           "500-999"
          ],
          [
           "500-999"
          ],
          [
           "500-999"
          ],
          [
           "500-999"
          ],
          [
           "500-999"
          ],
          [
           "500-999"
          ],
          [
           "500-999"
          ],
          [
           "500-999"
          ],
          [
           "500-999"
          ],
          [
           "500-999"
          ],
          [
           "500-999"
          ],
          [
           "500-999"
          ],
          [
           "500-999"
          ],
          [
           "500-999"
          ],
          [
           "500-999"
          ],
          [
           "500-999"
          ],
          [
           "500-999"
          ],
          [
           "500-999"
          ],
          [
           "500-999"
          ],
          [
           "500-999"
          ],
          [
           "500-999"
          ],
          [
           "500-999"
          ],
          [
           "500-999"
          ],
          [
           "500-999"
          ],
          [
           "500-999"
          ],
          [
           "500-999"
          ],
          [
           "500-999"
          ],
          [
           "500-999"
          ],
          [
           "500-999"
          ],
          [
           "500-999"
          ],
          [
           "500-999"
          ],
          [
           "500-999"
          ],
          [
           "500-999"
          ],
          [
           "500-999"
          ],
          [
           "500-999"
          ],
          [
           "500-999"
          ],
          [
           "500-999"
          ],
          [
           "500-999"
          ],
          [
           "500-999"
          ],
          [
           "500-999"
          ],
          [
           "500-999"
          ],
          [
           "500-999"
          ],
          [
           "500-999"
          ],
          [
           "500-999"
          ],
          [
           "500-999"
          ],
          [
           "500-999"
          ],
          [
           "500-999"
          ],
          [
           "500-999"
          ],
          [
           "500-999"
          ],
          [
           "500-999"
          ],
          [
           "500-999"
          ],
          [
           "500-999"
          ],
          [
           "500-999"
          ],
          [
           "500-999"
          ],
          [
           "500-999"
          ],
          [
           "500-999"
          ],
          [
           "500-999"
          ],
          [
           "500-999"
          ],
          [
           "500-999"
          ],
          [
           "500-999"
          ],
          [
           "500-999"
          ],
          [
           "500-999"
          ],
          [
           "500-999"
          ],
          [
           "500-999"
          ],
          [
           "500-999"
          ],
          [
           "500-999"
          ],
          [
           "500-999"
          ],
          [
           "500-999"
          ],
          [
           "500-999"
          ],
          [
           "500-999"
          ],
          [
           "500-999"
          ],
          [
           "500-999"
          ],
          [
           "500-999"
          ],
          [
           "500-999"
          ],
          [
           "500-999"
          ],
          [
           "500-999"
          ],
          [
           "500-999"
          ],
          [
           "500-999"
          ],
          [
           "500-999"
          ],
          [
           "500-999"
          ],
          [
           "500-999"
          ],
          [
           "500-999"
          ],
          [
           "500-999"
          ],
          [
           "500-999"
          ],
          [
           "500-999"
          ],
          [
           "500-999"
          ],
          [
           "500-999"
          ],
          [
           "500-999"
          ],
          [
           "500-999"
          ],
          [
           "500-999"
          ],
          [
           "500-999"
          ],
          [
           "500-999"
          ],
          [
           "500-999"
          ],
          [
           "500-999"
          ],
          [
           "500-999"
          ],
          [
           "500-999"
          ],
          [
           "500-999"
          ],
          [
           "500-999"
          ],
          [
           "500-999"
          ],
          [
           "500-999"
          ],
          [
           "500-999"
          ],
          [
           "500-999"
          ],
          [
           "500-999"
          ],
          [
           "500-999"
          ],
          [
           "500-999"
          ],
          [
           "500-999"
          ],
          [
           "500-999"
          ],
          [
           "500-999"
          ],
          [
           "500-999"
          ],
          [
           "500-999"
          ],
          [
           "500-999"
          ],
          [
           "500-999"
          ],
          [
           "500-999"
          ],
          [
           "500-999"
          ],
          [
           "500-999"
          ],
          [
           "500-999"
          ],
          [
           "500-999"
          ],
          [
           "500-999"
          ],
          [
           "500-999"
          ],
          [
           "500-999"
          ],
          [
           "500-999"
          ],
          [
           "500-999"
          ],
          [
           "500-999"
          ],
          [
           "500-999"
          ],
          [
           "500-999"
          ],
          [
           "500-999"
          ],
          [
           "500-999"
          ],
          [
           "500-999"
          ],
          [
           "500-999"
          ],
          [
           "500-999"
          ],
          [
           "500-999"
          ],
          [
           "500-999"
          ],
          [
           "500-999"
          ],
          [
           "500-999"
          ],
          [
           "500-999"
          ],
          [
           "500-999"
          ],
          [
           "500-999"
          ],
          [
           "500-999"
          ],
          [
           "500-999"
          ],
          [
           "500-999"
          ],
          [
           "500-999"
          ],
          [
           "500-999"
          ],
          [
           "500-999"
          ],
          [
           "500-999"
          ],
          [
           "500-999"
          ],
          [
           "500-999"
          ],
          [
           "500-999"
          ],
          [
           "500-999"
          ],
          [
           "500-999"
          ],
          [
           "500-999"
          ],
          [
           "500-999"
          ],
          [
           "500-999"
          ],
          [
           "500-999"
          ],
          [
           "500-999"
          ],
          [
           "500-999"
          ],
          [
           "500-999"
          ],
          [
           "500-999"
          ],
          [
           "500-999"
          ],
          [
           "500-999"
          ],
          [
           "500-999"
          ],
          [
           "500-999"
          ],
          [
           "500-999"
          ],
          [
           "500-999"
          ],
          [
           "500-999"
          ],
          [
           "500-999"
          ],
          [
           "500-999"
          ],
          [
           "500-999"
          ],
          [
           "500-999"
          ],
          [
           "500-999"
          ],
          [
           "500-999"
          ],
          [
           "500-999"
          ],
          [
           "500-999"
          ],
          [
           "500-999"
          ],
          [
           "500-999"
          ],
          [
           "500-999"
          ],
          [
           "500-999"
          ],
          [
           "500-999"
          ],
          [
           "500-999"
          ],
          [
           "500-999"
          ],
          [
           "500-999"
          ],
          [
           "500-999"
          ],
          [
           "500-999"
          ],
          [
           "500-999"
          ],
          [
           "500-999"
          ],
          [
           "500-999"
          ],
          [
           "500-999"
          ],
          [
           "500-999"
          ],
          [
           "500-999"
          ],
          [
           "500-999"
          ],
          [
           "500-999"
          ],
          [
           "500-999"
          ],
          [
           "500-999"
          ],
          [
           "500-999"
          ],
          [
           "500-999"
          ],
          [
           "500-999"
          ],
          [
           "500-999"
          ],
          [
           "500-999"
          ],
          [
           "500-999"
          ],
          [
           "500-999"
          ],
          [
           "500-999"
          ],
          [
           "500-999"
          ],
          [
           "500-999"
          ],
          [
           "500-999"
          ],
          [
           "500-999"
          ],
          [
           "500-999"
          ],
          [
           "500-999"
          ],
          [
           "500-999"
          ],
          [
           "500-999"
          ],
          [
           "500-999"
          ],
          [
           "500-999"
          ],
          [
           "500-999"
          ],
          [
           "500-999"
          ],
          [
           "500-999"
          ],
          [
           "500-999"
          ],
          [
           "500-999"
          ],
          [
           "500-999"
          ],
          [
           "500-999"
          ],
          [
           "500-999"
          ],
          [
           "500-999"
          ],
          [
           "500-999"
          ],
          [
           "500-999"
          ],
          [
           "500-999"
          ],
          [
           "500-999"
          ],
          [
           "500-999"
          ],
          [
           "500-999"
          ],
          [
           "500-999"
          ],
          [
           "500-999"
          ],
          [
           "500-999"
          ],
          [
           "500-999"
          ],
          [
           "500-999"
          ],
          [
           "500-999"
          ],
          [
           "500-999"
          ],
          [
           "500-999"
          ],
          [
           "500-999"
          ],
          [
           "500-999"
          ],
          [
           "500-999"
          ],
          [
           "500-999"
          ],
          [
           "500-999"
          ],
          [
           "500-999"
          ],
          [
           "500-999"
          ],
          [
           "500-999"
          ],
          [
           "500-999"
          ],
          [
           "500-999"
          ],
          [
           "500-999"
          ],
          [
           "500-999"
          ],
          [
           "500-999"
          ],
          [
           "500-999"
          ],
          [
           "500-999"
          ],
          [
           "500-999"
          ],
          [
           "500-999"
          ],
          [
           "500-999"
          ],
          [
           "500-999"
          ],
          [
           "500-999"
          ],
          [
           "500-999"
          ],
          [
           "500-999"
          ],
          [
           "500-999"
          ],
          [
           "500-999"
          ],
          [
           "500-999"
          ],
          [
           "500-999"
          ],
          [
           "500-999"
          ],
          [
           "500-999"
          ],
          [
           "500-999"
          ],
          [
           "500-999"
          ],
          [
           "500-999"
          ],
          [
           "500-999"
          ],
          [
           "500-999"
          ],
          [
           "500-999"
          ],
          [
           "500-999"
          ],
          [
           "500-999"
          ],
          [
           "500-999"
          ],
          [
           "500-999"
          ],
          [
           "500-999"
          ],
          [
           "500-999"
          ],
          [
           "500-999"
          ],
          [
           "500-999"
          ],
          [
           "500-999"
          ],
          [
           "500-999"
          ],
          [
           "500-999"
          ],
          [
           "500-999"
          ],
          [
           "500-999"
          ],
          [
           "500-999"
          ],
          [
           "500-999"
          ],
          [
           "500-999"
          ],
          [
           "500-999"
          ],
          [
           "500-999"
          ],
          [
           "500-999"
          ],
          [
           "500-999"
          ],
          [
           "500-999"
          ],
          [
           "500-999"
          ],
          [
           "500-999"
          ],
          [
           "500-999"
          ],
          [
           "500-999"
          ],
          [
           "500-999"
          ],
          [
           "500-999"
          ],
          [
           "500-999"
          ],
          [
           "500-999"
          ],
          [
           "500-999"
          ],
          [
           "500-999"
          ],
          [
           "500-999"
          ],
          [
           "500-999"
          ],
          [
           "500-999"
          ],
          [
           "500-999"
          ],
          [
           "500-999"
          ],
          [
           "500-999"
          ],
          [
           "500-999"
          ],
          [
           "500-999"
          ],
          [
           "500-999"
          ],
          [
           "500-999"
          ],
          [
           "500-999"
          ],
          [
           "500-999"
          ],
          [
           "500-999"
          ],
          [
           "500-999"
          ],
          [
           "500-999"
          ],
          [
           "500-999"
          ],
          [
           "500-999"
          ],
          [
           "500-999"
          ],
          [
           "500-999"
          ],
          [
           "500-999"
          ],
          [
           "500-999"
          ],
          [
           "500-999"
          ],
          [
           "500-999"
          ],
          [
           "500-999"
          ],
          [
           "500-999"
          ],
          [
           "500-999"
          ],
          [
           "500-999"
          ],
          [
           "500-999"
          ],
          [
           "500-999"
          ],
          [
           "500-999"
          ],
          [
           "500-999"
          ],
          [
           "500-999"
          ],
          [
           "500-999"
          ],
          [
           "500-999"
          ],
          [
           "500-999"
          ],
          [
           "500-999"
          ],
          [
           "500-999"
          ],
          [
           "500-999"
          ],
          [
           "500-999"
          ],
          [
           "500-999"
          ],
          [
           "500-999"
          ],
          [
           "500-999"
          ],
          [
           "500-999"
          ],
          [
           "500-999"
          ],
          [
           "500-999"
          ],
          [
           "500-999"
          ],
          [
           "500-999"
          ],
          [
           "500-999"
          ],
          [
           "500-999"
          ],
          [
           "500-999"
          ],
          [
           "500-999"
          ],
          [
           "500-999"
          ],
          [
           "500-999"
          ],
          [
           "500-999"
          ],
          [
           "500-999"
          ],
          [
           "500-999"
          ],
          [
           "500-999"
          ],
          [
           "500-999"
          ],
          [
           "500-999"
          ],
          [
           "500-999"
          ],
          [
           "500-999"
          ],
          [
           "500-999"
          ],
          [
           "500-999"
          ],
          [
           "500-999"
          ],
          [
           "500-999"
          ],
          [
           "500-999"
          ],
          [
           "500-999"
          ],
          [
           "500-999"
          ],
          [
           "500-999"
          ],
          [
           "500-999"
          ],
          [
           "500-999"
          ],
          [
           "500-999"
          ],
          [
           "500-999"
          ],
          [
           "500-999"
          ],
          [
           "500-999"
          ],
          [
           "500-999"
          ],
          [
           "500-999"
          ],
          [
           "500-999"
          ],
          [
           "500-999"
          ],
          [
           "500-999"
          ],
          [
           "500-999"
          ],
          [
           "500-999"
          ],
          [
           "500-999"
          ],
          [
           "500-999"
          ],
          [
           "500-999"
          ]
         ],
         "hovertemplate": "w=%{customdata[0]}<br>x=%{marker.size}<br>y=%{y}<extra></extra>",
         "legendgroup": "500-999",
         "marker": {
          "color": "#EF553B",
          "size": [
           1.3103808259798115,
           1.3750348638807475,
           1.5289704422542643,
           1.7565950229289875,
           1.3415074657912753,
           1.9341587666207636,
           1.8743185468359025,
           1.0626902959755284,
           1.2696425242568228,
           1.464135512659202,
           1.124627888742474,
           1.3704759890334972,
           1.7640975256176825,
           1.706514481142826,
           1.6503844285660048,
           1.7405284027223455,
           1.2369236869597018,
           1.3756981148647323,
           1.712242482277463,
           1.9172347630313271,
           1.5836780538280952,
           1.3246996509455367,
           1.0742352580059826,
           1.7563368289742134,
           1.0558841035084403,
           1.4226790698209957,
           1.5825372145627818,
           1.976111461767193,
           1.1454945450329002,
           1.4639423219682839,
           1.0843131997101578,
           1.4046109843415904,
           1.686231058839795,
           1.3450679482285985,
           1.277749949655635,
           1.1857032333270938,
           1.6491402440203418,
           1.7692700059046862,
           1.7479571405958225,
           2.0268610207205073,
           1.0827032138935029,
           1.7291966538940362,
           1.6843922370976396,
           1.6747396099702883,
           2.0507703198402423,
           1.1068716733700397,
           1.7884824307014502,
           1.9076786497018636,
           1.6058071966215843,
           1.4319648695968092,
           1.890840163227405,
           1.1992429256324248,
           1.5460356377299254,
           1.6259523745708382,
           1.8019564109345476,
           1.2008857320324096,
           1.339759501537861,
           1.5243015626901257,
           1.7392946730201309,
           2.0049607812174175,
           1.7388261682413766,
           1.2554614709349345,
           2.1045801327872824,
           1.9977857347554928,
           1.6307207611453238,
           2.052347981796633,
           1.6733807937571357,
           2.0573060678891633,
           1.965897368603343,
           2.106286410294297,
           2.059782810778158,
           1.1780338174285694,
           1.3187720041609399,
           1.5351346771011856,
           2.1001426972954205,
           1.4500289194759295,
           1.3124676438876008,
           2.04030466608656,
           1.6023944154832028,
           2.065875594354326,
           1.3202304663201432,
           1.8231175115080993,
           1.6042637528294916,
           1.2424867690302852,
           1.8644631446525004,
           1.4173987555391536,
           1.2116155225795175,
           1.2339442982495732,
           1.2370785370667874,
           2.0857329574850394,
           1.919883917829101,
           2.080062357213735,
           1.8565823112965214,
           1.714939929030883,
           1.4924463643473782,
           2.187962251328673,
           1.5541890589393894,
           1.6646489492139094,
           1.5742451749234618,
           2.1775269293354587,
           1.3746583853950058,
           1.5299880009080797,
           1.8843486660150015,
           1.2692076183386307,
           1.815249374011541,
           1.687646502876416,
           1.495999976762101,
           1.452413280924058,
           1.7305127432987568,
           1.5859275805370414,
           1.6765198912626553,
           1.55947738176424,
           2.1944936935959776,
           1.359439431745604,
           1.3248039531783742,
           1.573391728790916,
           1.8230269008704911,
           1.8931764718500284,
           1.633256747168042,
           2.237277993922171,
           1.5918929961930426,
           1.9634066679599524,
           1.8815826945307927,
           2.0590538632474606,
           2.22422566345382,
           2.13979365644554,
           2.0165619743577086,
           1.9522484778182907,
           1.5914981696758996,
           1.4056855782067075,
           1.3226360030598099,
           1.5039017042014848,
           1.6962814811812987,
           1.7879962736299824,
           2.0410835540548717,
           2.228740923056593,
           1.3893204803848112,
           1.3810041401937916,
           1.8656947230135508,
           2.023398073947293,
           2.128150380346985,
           2.2178320802167883,
           2.267426242260642,
           1.6858016922245258,
           1.668335183527573,
           1.4378086766972724,
           1.9769344386835594,
           1.950761958440837,
           2.158062595851207,
           1.3952579947876407,
           1.7977769078253418,
           1.8830819296720631,
           1.5455570400399186,
           1.4750254061291614,
           2.1675808364196216,
           1.368534922235559,
           1.782620903918073,
           1.4298340013008852,
           1.7730587613313675,
           2.2979623263423092,
           1.7437063534554729,
           2.1791249175045673,
           1.4413155641831938,
           1.597252076761864,
           1.7317927406673346,
           1.7298121400093307,
           2.003383478670153,
           1.6787181273755079,
           2.0497668684100163,
           1.9771868992253925,
           1.7391611452547733,
           1.7737601276543193,
           1.958527699810321,
           1.4160421901446447,
           2.17040673835569,
           2.003421161113637,
           2.0783424644178354,
           1.8909230010823905,
           1.466477110991745,
           1.76303561329695,
           1.7653735828485562,
           1.6830429900432171,
           1.3939503249047496,
           2.1032542425964773,
           1.4777844580625008,
           1.9763081330450851,
           2.075217496467216,
           2.0087863229336946,
           2.3351422519779748,
           1.4812981550851385,
           2.247167159105199,
           1.4111902348489131,
           1.9189168549270839,
           1.7902436179392587,
           1.9121838603937582,
           1.7550998770600097,
           1.582566914940068,
           1.4131228974486896,
           1.914149813791174,
           2.240776862684842,
           1.773215955744794,
           1.6248638180149801,
           1.4845320034718439,
           1.4913109231187032,
           1.6293964462927721,
           1.510014060921555,
           1.677039698364482,
           1.4801494621169546,
           1.4816048672099256,
           2.274276179622782,
           1.5821202607088332,
           1.981682405823448,
           2.1974555444490305,
           1.8824095653390667,
           1.5813688778593455,
           1.6295961421201142,
           1.8649842062811808,
           1.9622340891785357,
           1.7854402920485348,
           2.2194796002346613,
           2.1910216488563985,
           2.3692118073731177,
           1.4729525490269606,
           2.3416912912102035,
           1.8405687884621509,
           2.328372495379994,
           2.1427847761565295,
           2.441348757073968,
           2.215282451716668,
           1.8225446259967866,
           1.961063172834752,
           1.8383891551943512,
           1.8289118360212382,
           1.7269044993810598,
           1.9639702953734695,
           2.151739945069361,
           1.7493402713052435,
           1.99837981107722,
           1.593380294170557,
           1.6378452868541913,
           1.5268063547121886,
           2.4527314427706326,
           1.487860351510261,
           1.6645799680576563,
           2.1008667531169922,
           1.5713695988533054,
           2.3738965030968324,
           2.2136201578422883,
           2.4623899714378936,
           2.005635547240765,
           1.8004036831584873,
           2.0515005727952715,
           2.434818717297973,
           2.0267614372418605,
           1.7752070318623185,
           2.3873987891741195,
           1.8839187485124613,
           1.515383349998999,
           1.763685022492316,
           1.8362335091770623,
           2.378777468231902,
           1.980503167066445,
           1.9685872878113009,
           1.8621022663998874,
           2.4086781230470797,
           2.4750267769403913,
           2.5238903291546295,
           1.910741266960987,
           2.5021474456271715,
           2.3298795696309016,
           2.215689147644267,
           1.7868894794200996,
           1.76045726094421,
           1.7120478245212456,
           2.4707566102253655,
           1.8440766623831661,
           2.0050942454488787,
           2.0479578339872235,
           2.334171595450254,
           2.4022349615530243,
           1.6990727011486129,
           1.9889043602110736,
           2.406854887835457,
           2.3840333057558385,
           1.6704137584524164,
           1.7263833488679632,
           1.876198691599408,
           1.6493590690833404,
           2.000663002840593,
           1.685617705149582,
           2.148217593669845,
           1.8285569398111563,
           2.180433065349623,
           1.7035256429036378,
           2.563883868418533,
           2.5225612038573404,
           1.9837969385646659,
           1.8361785941260855,
           1.8463982128535728,
           2.081393535202392,
           1.639992801900717,
           2.241705106075127,
           2.012302908339745,
           1.9834065725888874,
           2.4173649714891985,
           2.31903546018329,
           2.5663338153926922,
           1.9659362404956908,
           2.5135427646494057,
           2.387967186250089,
           1.9774246515947131,
           2.243665436453258,
           1.9125699576516957,
           2.500399917074842,
           1.740427317212311,
           1.8424343612940408,
           1.815033292079921,
           2.0370260024042883,
           2.381232960032129,
           2.1649074490521802,
           2.1276763235382075,
           1.6425459648969956,
           2.0694017253550547,
           1.7095537748361584,
           1.8562532521214838,
           2.5823939389604944,
           1.867398204343238,
           2.5123376386342624,
           2.4588933715613344,
           1.8171462369422429,
           2.2657119572702786,
           1.7776618719050132,
           2.3918881583695115,
           2.3034622773722067,
           2.4799385616910192,
           2.149384549389188,
           2.586863087833383,
           1.7233489467884398,
           1.9688885650270147,
           2.393052597465167,
           2.098109211748001,
           1.8549513542711562,
           1.791210745428546,
           2.5033391114616212,
           2.1611429784656444,
           2.5722836719191076,
           2.425289134316726,
           2.1037262056307435,
           2.0695110141556836,
           2.2136383466512517,
           2.5890599531897287,
           2.439278579714168,
           1.7091529642690233,
           2.4001578513691255,
           2.6275074069058206,
           2.4204557595044918,
           1.8890057815674959,
           2.1975181274274584,
           1.8563160179234193,
           2.076995278339632,
           2.6571170419405177,
           2.6453053075587083,
           2.006836852176083,
           2.0656310441661994,
           2.3282128681312937,
           2.69319729526038,
           1.8798013340653905,
           1.9909166436866692,
           2.6095568272907714,
           2.2298922317083445,
           2.6389610922270315,
           1.9275178975231761,
           2.276668587471361,
           2.0722696326493724,
           2.064542559892476,
           2.196876963946199,
           2.1850774491012683,
           2.1113468796779546,
           2.6709707703156185,
           2.489744185432893,
           2.48754699133153,
           2.0519134495919555,
           2.34170942431684,
           2.545179433301834,
           2.5635903685432133,
           2.1145304607543123,
           2.5428727565686478,
           2.509893896807733,
           1.9175064856219004,
           2.643945468566477,
           2.2213214701804107,
           2.2684104488886656,
           2.232369178897997,
           2.3538460014775078,
           2.4091692473670547,
           2.2881795657629436,
           2.658788543259096,
           2.4217347561952844,
           2.1974279493055198,
           2.214691756908711,
           2.6108386151289515,
           2.1501919427465204,
           2.0154547957824134,
           1.8653831880057892,
           2.684026847920574,
           2.72854645119035,
           1.9321201821634761,
           2.148473741496115,
           1.991372069515244,
           1.9338984688258798,
           2.71986674300003,
           1.8788772591453555,
           2.804485663469007,
           1.9224508606973842,
           2.691470649193586,
           2.396506106989163,
           2.1999174878178733,
           2.1763423766251577,
           2.593364143237709,
           2.152573295004287,
           2.497318916617142,
           2.35932608351608,
           2.3289656451580707,
           2.747162170649162,
           2.4026450586202595,
           2.676861603048695,
           2.5775735341014894,
           1.8925572460589986,
           2.6291100525054194,
           2.074870250091041,
           2.7631496468515717,
           1.9049241906088321,
           2.197072034474319,
           1.9657329472347542,
           2.3435891170848437,
           2.6900224358697518,
           2.170187359663064,
           2.0249348973110415,
           2.206267035696899,
           2.691880141920636,
           2.0203839577993468,
           2.109362449077502,
           1.952851964493374,
           2.5917100439896075,
           2.283233243536337,
           2.200839977143316,
           2.6106263903411517,
           2.2299775423402552,
           2.623771273214418,
           2.713199395314313,
           2.1176628434577385,
           2.8758186968459833,
           2.0663579479126666,
           2.1968409066567425,
           2.0877952908335415,
           2.2555056563563345,
           2.3920608878207554,
           2.436175869002119,
           2.769606042296272,
           2.8074479088158664,
           2.1401038607809064,
           2.5448940321857525,
           2.0354960572987153,
           2.384969860182068,
           2.2503335380466183,
           2.2465007454536066,
           2.414584241712101,
           2.6638276355292674,
           2.0051826587923895,
           2.8171733376874046,
           2.674813774630561,
           2.11849938888906,
           2.8831609090873704,
           2.4523122240233883,
           2.947808578116965,
           2.1472594743007374,
           2.486908198383201,
           2.2442480425599283,
           2.2601735573892467,
           2.5490653808339903,
           2.8817190668708332,
           2.767263855579175,
           2.6879413985013256,
           2.525173782101702,
           2.890298503667448,
           2.462361406690884,
           2.8458321783347182,
           2.807981643876632,
           2.1898353468015865,
           2.74922546296591,
           1.9921711569432587,
           2.3048295375480876,
           2.2135674446919498,
           2.492862958487313,
           2.7248531616807856,
           2.087676367447724,
           2.5069222019367685,
           2.9324120216943856,
           2.2246465509829454,
           2.675141144111424
          ],
          "sizemode": "area",
          "sizeref": 0.007369521445292413,
          "symbol": "circle"
         },
         "mode": "markers",
         "name": "500-999",
         "orientation": "v",
         "showlegend": true,
         "type": "scatter",
         "x": [
          1.3103808259798115,
          1.3750348638807475,
          1.5289704422542643,
          1.7565950229289875,
          1.3415074657912753,
          1.9341587666207636,
          1.8743185468359025,
          1.0626902959755284,
          1.2696425242568228,
          1.464135512659202,
          1.124627888742474,
          1.3704759890334972,
          1.7640975256176825,
          1.706514481142826,
          1.6503844285660048,
          1.7405284027223455,
          1.2369236869597018,
          1.3756981148647323,
          1.712242482277463,
          1.9172347630313271,
          1.5836780538280952,
          1.3246996509455367,
          1.0742352580059826,
          1.7563368289742134,
          1.0558841035084403,
          1.4226790698209957,
          1.5825372145627818,
          1.976111461767193,
          1.1454945450329002,
          1.4639423219682839,
          1.0843131997101578,
          1.4046109843415904,
          1.686231058839795,
          1.3450679482285985,
          1.277749949655635,
          1.1857032333270938,
          1.6491402440203418,
          1.7692700059046862,
          1.7479571405958225,
          2.0268610207205073,
          1.0827032138935029,
          1.7291966538940362,
          1.6843922370976396,
          1.6747396099702883,
          2.0507703198402423,
          1.1068716733700397,
          1.7884824307014502,
          1.9076786497018636,
          1.6058071966215843,
          1.4319648695968092,
          1.890840163227405,
          1.1992429256324248,
          1.5460356377299254,
          1.6259523745708382,
          1.8019564109345476,
          1.2008857320324096,
          1.339759501537861,
          1.5243015626901257,
          1.7392946730201309,
          2.0049607812174175,
          1.7388261682413766,
          1.2554614709349345,
          2.1045801327872824,
          1.9977857347554928,
          1.6307207611453238,
          2.052347981796633,
          1.6733807937571357,
          2.0573060678891633,
          1.965897368603343,
          2.106286410294297,
          2.059782810778158,
          1.1780338174285694,
          1.3187720041609399,
          1.5351346771011856,
          2.1001426972954205,
          1.4500289194759295,
          1.3124676438876008,
          2.04030466608656,
          1.6023944154832028,
          2.065875594354326,
          1.3202304663201432,
          1.8231175115080993,
          1.6042637528294916,
          1.2424867690302852,
          1.8644631446525004,
          1.4173987555391536,
          1.2116155225795175,
          1.2339442982495732,
          1.2370785370667874,
          2.0857329574850394,
          1.919883917829101,
          2.080062357213735,
          1.8565823112965214,
          1.714939929030883,
          1.4924463643473782,
          2.187962251328673,
          1.5541890589393894,
          1.6646489492139094,
          1.5742451749234618,
          2.1775269293354587,
          1.3746583853950058,
          1.5299880009080797,
          1.8843486660150015,
          1.2692076183386307,
          1.815249374011541,
          1.687646502876416,
          1.495999976762101,
          1.452413280924058,
          1.7305127432987568,
          1.5859275805370414,
          1.6765198912626553,
          1.55947738176424,
          2.1944936935959776,
          1.359439431745604,
          1.3248039531783742,
          1.573391728790916,
          1.8230269008704911,
          1.8931764718500284,
          1.633256747168042,
          2.237277993922171,
          1.5918929961930426,
          1.9634066679599524,
          1.8815826945307927,
          2.0590538632474606,
          2.22422566345382,
          2.13979365644554,
          2.0165619743577086,
          1.9522484778182907,
          1.5914981696758996,
          1.4056855782067075,
          1.3226360030598099,
          1.5039017042014848,
          1.6962814811812987,
          1.7879962736299824,
          2.0410835540548717,
          2.228740923056593,
          1.3893204803848112,
          1.3810041401937916,
          1.8656947230135508,
          2.023398073947293,
          2.128150380346985,
          2.2178320802167883,
          2.267426242260642,
          1.6858016922245258,
          1.668335183527573,
          1.4378086766972724,
          1.9769344386835594,
          1.950761958440837,
          2.158062595851207,
          1.3952579947876407,
          1.7977769078253418,
          1.8830819296720631,
          1.5455570400399186,
          1.4750254061291614,
          2.1675808364196216,
          1.368534922235559,
          1.782620903918073,
          1.4298340013008852,
          1.7730587613313675,
          2.2979623263423092,
          1.7437063534554729,
          2.1791249175045673,
          1.4413155641831938,
          1.597252076761864,
          1.7317927406673346,
          1.7298121400093307,
          2.003383478670153,
          1.6787181273755079,
          2.0497668684100163,
          1.9771868992253925,
          1.7391611452547733,
          1.7737601276543193,
          1.958527699810321,
          1.4160421901446447,
          2.17040673835569,
          2.003421161113637,
          2.0783424644178354,
          1.8909230010823905,
          1.466477110991745,
          1.76303561329695,
          1.7653735828485562,
          1.6830429900432171,
          1.3939503249047496,
          2.1032542425964773,
          1.4777844580625008,
          1.9763081330450851,
          2.075217496467216,
          2.0087863229336946,
          2.3351422519779748,
          1.4812981550851385,
          2.247167159105199,
          1.4111902348489131,
          1.9189168549270839,
          1.7902436179392587,
          1.9121838603937582,
          1.7550998770600097,
          1.582566914940068,
          1.4131228974486896,
          1.914149813791174,
          2.240776862684842,
          1.773215955744794,
          1.6248638180149801,
          1.4845320034718439,
          1.4913109231187032,
          1.6293964462927721,
          1.510014060921555,
          1.677039698364482,
          1.4801494621169546,
          1.4816048672099256,
          2.274276179622782,
          1.5821202607088332,
          1.981682405823448,
          2.1974555444490305,
          1.8824095653390667,
          1.5813688778593455,
          1.6295961421201142,
          1.8649842062811808,
          1.9622340891785357,
          1.7854402920485348,
          2.2194796002346613,
          2.1910216488563985,
          2.3692118073731177,
          1.4729525490269606,
          2.3416912912102035,
          1.8405687884621509,
          2.328372495379994,
          2.1427847761565295,
          2.441348757073968,
          2.215282451716668,
          1.8225446259967866,
          1.961063172834752,
          1.8383891551943512,
          1.8289118360212382,
          1.7269044993810598,
          1.9639702953734695,
          2.151739945069361,
          1.7493402713052435,
          1.99837981107722,
          1.593380294170557,
          1.6378452868541913,
          1.5268063547121886,
          2.4527314427706326,
          1.487860351510261,
          1.6645799680576563,
          2.1008667531169922,
          1.5713695988533054,
          2.3738965030968324,
          2.2136201578422883,
          2.4623899714378936,
          2.005635547240765,
          1.8004036831584873,
          2.0515005727952715,
          2.434818717297973,
          2.0267614372418605,
          1.7752070318623185,
          2.3873987891741195,
          1.8839187485124613,
          1.515383349998999,
          1.763685022492316,
          1.8362335091770623,
          2.378777468231902,
          1.980503167066445,
          1.9685872878113009,
          1.8621022663998874,
          2.4086781230470797,
          2.4750267769403913,
          2.5238903291546295,
          1.910741266960987,
          2.5021474456271715,
          2.3298795696309016,
          2.215689147644267,
          1.7868894794200996,
          1.76045726094421,
          1.7120478245212456,
          2.4707566102253655,
          1.8440766623831661,
          2.0050942454488787,
          2.0479578339872235,
          2.334171595450254,
          2.4022349615530243,
          1.6990727011486129,
          1.9889043602110736,
          2.406854887835457,
          2.3840333057558385,
          1.6704137584524164,
          1.7263833488679632,
          1.876198691599408,
          1.6493590690833404,
          2.000663002840593,
          1.685617705149582,
          2.148217593669845,
          1.8285569398111563,
          2.180433065349623,
          1.7035256429036378,
          2.563883868418533,
          2.5225612038573404,
          1.9837969385646659,
          1.8361785941260855,
          1.8463982128535728,
          2.081393535202392,
          1.639992801900717,
          2.241705106075127,
          2.012302908339745,
          1.9834065725888874,
          2.4173649714891985,
          2.31903546018329,
          2.5663338153926922,
          1.9659362404956908,
          2.5135427646494057,
          2.387967186250089,
          1.9774246515947131,
          2.243665436453258,
          1.9125699576516957,
          2.500399917074842,
          1.740427317212311,
          1.8424343612940408,
          1.815033292079921,
          2.0370260024042883,
          2.381232960032129,
          2.1649074490521802,
          2.1276763235382075,
          1.6425459648969956,
          2.0694017253550547,
          1.7095537748361584,
          1.8562532521214838,
          2.5823939389604944,
          1.867398204343238,
          2.5123376386342624,
          2.4588933715613344,
          1.8171462369422429,
          2.2657119572702786,
          1.7776618719050132,
          2.3918881583695115,
          2.3034622773722067,
          2.4799385616910192,
          2.149384549389188,
          2.586863087833383,
          1.7233489467884398,
          1.9688885650270147,
          2.393052597465167,
          2.098109211748001,
          1.8549513542711562,
          1.791210745428546,
          2.5033391114616212,
          2.1611429784656444,
          2.5722836719191076,
          2.425289134316726,
          2.1037262056307435,
          2.0695110141556836,
          2.2136383466512517,
          2.5890599531897287,
          2.439278579714168,
          1.7091529642690233,
          2.4001578513691255,
          2.6275074069058206,
          2.4204557595044918,
          1.8890057815674959,
          2.1975181274274584,
          1.8563160179234193,
          2.076995278339632,
          2.6571170419405177,
          2.6453053075587083,
          2.006836852176083,
          2.0656310441661994,
          2.3282128681312937,
          2.69319729526038,
          1.8798013340653905,
          1.9909166436866692,
          2.6095568272907714,
          2.2298922317083445,
          2.6389610922270315,
          1.9275178975231761,
          2.276668587471361,
          2.0722696326493724,
          2.064542559892476,
          2.196876963946199,
          2.1850774491012683,
          2.1113468796779546,
          2.6709707703156185,
          2.489744185432893,
          2.48754699133153,
          2.0519134495919555,
          2.34170942431684,
          2.545179433301834,
          2.5635903685432133,
          2.1145304607543123,
          2.5428727565686478,
          2.509893896807733,
          1.9175064856219004,
          2.643945468566477,
          2.2213214701804107,
          2.2684104488886656,
          2.232369178897997,
          2.3538460014775078,
          2.4091692473670547,
          2.2881795657629436,
          2.658788543259096,
          2.4217347561952844,
          2.1974279493055198,
          2.214691756908711,
          2.6108386151289515,
          2.1501919427465204,
          2.0154547957824134,
          1.8653831880057892,
          2.684026847920574,
          2.72854645119035,
          1.9321201821634761,
          2.148473741496115,
          1.991372069515244,
          1.9338984688258798,
          2.71986674300003,
          1.8788772591453555,
          2.804485663469007,
          1.9224508606973842,
          2.691470649193586,
          2.396506106989163,
          2.1999174878178733,
          2.1763423766251577,
          2.593364143237709,
          2.152573295004287,
          2.497318916617142,
          2.35932608351608,
          2.3289656451580707,
          2.747162170649162,
          2.4026450586202595,
          2.676861603048695,
          2.5775735341014894,
          1.8925572460589986,
          2.6291100525054194,
          2.074870250091041,
          2.7631496468515717,
          1.9049241906088321,
          2.197072034474319,
          1.9657329472347542,
          2.3435891170848437,
          2.6900224358697518,
          2.170187359663064,
          2.0249348973110415,
          2.206267035696899,
          2.691880141920636,
          2.0203839577993468,
          2.109362449077502,
          1.952851964493374,
          2.5917100439896075,
          2.283233243536337,
          2.200839977143316,
          2.6106263903411517,
          2.2299775423402552,
          2.623771273214418,
          2.713199395314313,
          2.1176628434577385,
          2.8758186968459833,
          2.0663579479126666,
          2.1968409066567425,
          2.0877952908335415,
          2.2555056563563345,
          2.3920608878207554,
          2.436175869002119,
          2.769606042296272,
          2.8074479088158664,
          2.1401038607809064,
          2.5448940321857525,
          2.0354960572987153,
          2.384969860182068,
          2.2503335380466183,
          2.2465007454536066,
          2.414584241712101,
          2.6638276355292674,
          2.0051826587923895,
          2.8171733376874046,
          2.674813774630561,
          2.11849938888906,
          2.8831609090873704,
          2.4523122240233883,
          2.947808578116965,
          2.1472594743007374,
          2.486908198383201,
          2.2442480425599283,
          2.2601735573892467,
          2.5490653808339903,
          2.8817190668708332,
          2.767263855579175,
          2.6879413985013256,
          2.525173782101702,
          2.890298503667448,
          2.462361406690884,
          2.8458321783347182,
          2.807981643876632,
          2.1898353468015865,
          2.74922546296591,
          1.9921711569432587,
          2.3048295375480876,
          2.2135674446919498,
          2.492862958487313,
          2.7248531616807856,
          2.087676367447724,
          2.5069222019367685,
          2.9324120216943856,
          2.2246465509829454,
          2.675141144111424
         ],
         "xaxis": "x",
         "y": [
          -2.073670421166227,
          3.085030825720028,
          -2.1754113606795347,
          3.3767460978668136,
          -2.8373634349411887,
          2.7181998836146732,
          3.032749126174131,
          -0.8760915731488019,
          0.5365260105539308,
          0.801585748109417,
          -0.9152159715466963,
          -1.985980890800553,
          -2.324581904498131,
          0.923238361778715,
          -0.14047346502604063,
          -0.9821819761479784,
          1.195818252806716,
          0.6989480651731215,
          -1.2935353738603919,
          -2.3029853096661745,
          0.8286781319682389,
          -0.7121365006829904,
          0.10656936109697655,
          2.768511939100276,
          0.5304004034383313,
          -1.2267292131462755,
          0.2542523118257256,
          -1.8825326102531545,
          1.842553355203823,
          -0.8221188986621846,
          0.22474640685727892,
          0.43224455463444894,
          0.26853308590652153,
          -2.6343814245907695,
          -1.8481644416855483,
          -0.536353184338674,
          0.5267878915682256,
          -0.2437686312729285,
          -1.673052760297568,
          -2.7330686918193656,
          -0.43476764399262263,
          -0.8100872088896902,
          0.8638177480698922,
          -0.546498454041126,
          1.236014973345739,
          -0.6582009856795339,
          -0.45777579439301236,
          -0.6639606475502544,
          -1.2563305058503766,
          0.8951479553426591,
          -1.538379987947341,
          -0.6255748905484808,
          -0.11304557845410747,
          -2.1094775323227584,
          -0.5855186312823735,
          -0.8541976585190271,
          -0.5200332674398497,
          -0.09134834812044146,
          -1.3912855036047906,
          -0.4412433074356525,
          2.275547472149763,
          -0.03238909589417899,
          2.4102960161690516,
          0.692221653413171,
          1.2624397788924684,
          -1.589459301541106,
          0.17554963518160613,
          0.27549986826559053,
          -1.2043593279929148,
          -1.7331121174662745,
          -3.069623029509097,
          1.7625030879243249,
          -1.282377707243282,
          2.066630652547927,
          -0.9818023746930008,
          -1.250640227455085,
          0.8170362293510351,
          -1.2878238639423487,
          0.9108953971158801,
          -0.6875477025221707,
          0.6342710565412054,
          -1.7651169675071428,
          1.3337063682014128,
          0.6062996018569973,
          -1.7146548175760723,
          3.746093801936271,
          0.6544214428894651,
          2.826308782009561,
          1.979656972132774,
          -0.3938589246196756,
          -0.7915139114404475,
          -0.8392202601058004,
          -3.3975986358918866,
          -1.1933154301945088,
          0.36828505533336503,
          3.3387375403455364,
          -1.2010336055807118,
          1.4683145912768298,
          -1.971889024002856,
          -1.2767276441058857,
          -0.6290994804372507,
          0.5688664932958212,
          0.8617308227541522,
          1.2214114739636575,
          1.3992613098400202,
          0.41038198833471423,
          0.583985946417638,
          2.3072030729055286,
          -0.8841642675074014,
          1.2286630086317134,
          -3.031389259040079,
          0.6414664481439386,
          -1.0604880734035427,
          0.003495366783606269,
          1.3779103690935972,
          0.25904920810546106,
          1.6137206999392808,
          2.7900968730604347,
          0.6354903499323301,
          2.6199444038546096,
          -0.5198501331974833,
          -0.016119337591326402,
          -0.9833516497211585,
          2.1475470455371646,
          0.9210326161220495,
          -1.0853770838933225,
          0.31189928854945165,
          2.033400301614726,
          -0.06249493586375212,
          -1.333901166898666,
          0.17447123743126464,
          -2.9785759676913997,
          1.3040514073706428,
          -0.7533321561140397,
          -0.9579024255606678,
          1.9516987954397076,
          -1.8966487443899824,
          2.6889512871006267,
          -0.8959850430402566,
          -1.0587449510361007,
          2.17331982559095,
          1.5717671118023022,
          5.557982590840009,
          -0.3560514046139619,
          -0.20087863161412617,
          -2.126973351568094,
          -0.6565444292561314,
          -1.4073407270300686,
          -0.9684673052348463,
          -2.4335919117426252,
          2.9854019241385457,
          -2.66758041926624,
          -4.330964262673873,
          -1.7529562150993068,
          -1.3088710429131312,
          -1.573204880565151,
          1.9578588505570111,
          -0.1970871442680802,
          0.04501016830456428,
          1.4026572786834528,
          0.49872186045959915,
          2.132420381319776,
          -1.5991072661676704,
          -0.8745244233749337,
          1.153317069086168,
          -4.38430307802812,
          -2.755021865987777,
          0.8410247418347956,
          -0.9843985605184806,
          1.8508595843428717,
          1.407294931792744,
          -2.125129380109387,
          0.7964491701280753,
          1.701654863431539,
          0.3199926188087087,
          -1.9582738193197178,
          1.8276734590604906,
          1.2015388527128383,
          0.795726294178282,
          1.2622257660738263,
          -5.286610434304394,
          1.4826557868430976,
          2.5204459248271758,
          0.9183617242449148,
          0.2848119156452784,
          1.376377414390631,
          0.7018914207422633,
          1.3092892840486645,
          0.003434994825728744,
          -1.1357184865203298,
          -2.2568810160321413,
          -1.4086384193877668,
          -2.634754493551752,
          -1.911518320832585,
          3.3678646627104785,
          1.323513206574558,
          -0.9891476694288809,
          -0.5516728548676008,
          0.2154519768253838,
          -1.4689301345166024,
          0.1197219684232552,
          1.2635008284171727,
          -0.05306123184383027,
          0.5011039473716721,
          1.4444461639011672,
          -0.41092277801076843,
          0.4776051404693325,
          -0.4579250776973455,
          -0.04226851240266976,
          -0.7385263066807675,
          -0.8367357105892435,
          0.3442417227473737,
          1.2449581454263579,
          0.27540488860399864,
          0.7886712904239445,
          -1.202530782228936,
          -2.24494712199743,
          0.8183369781934615,
          1.228171151953806,
          0.1106571861417673,
          2.9535755783435893,
          2.1505307097313158,
          3.9483536527580423,
          -0.4702315484245123,
          -1.8384499184861298,
          -1.7233141463767014,
          -1.2117400904495264,
          1.1621586262848425,
          -4.780731419344762,
          2.403118072124046,
          -0.4692757322741458,
          -0.45370260021067166,
          -1.9740234914717503,
          -0.19725661874359895,
          0.02600251041668198,
          -0.2623937718161078,
          0.5931300107788852,
          -1.1783087685991744,
          -1.427375179846025,
          0.8980766441856863,
          0.15064609548922822,
          0.4836321740012747,
          1.5756846630529706,
          -1.702140201741609,
          -1.796746242558915,
          1.9755567383936492,
          -3.5202116170455096,
          -2.8985411220418693,
          2.013894771131765,
          0.47774277247897673,
          0.189460327148159,
          -0.18803932822001165,
          0.07613080874672078,
          -0.18668928196045567,
          2.4061914169320766,
          -0.9505383604898707,
          -0.304014630507464,
          2.7192778418636734,
          0.04851844944324787,
          4.098503287478533,
          -0.24972334740560836,
          2.708169703456451,
          -3.258689230770655,
          0.2861016987046411,
          -3.8164868081081136,
          2.0900470207489823,
          -3.061145351872852,
          0.5422101978673882,
          -0.7060956920274924,
          -2.6984739386417047,
          -3.5879983402354902,
          -0.9131728279292688,
          3.064303746639732,
          -0.5024604497528571,
          2.2662311882238546,
          -0.10519142101125256,
          1.7579198087576875,
          -3.7414374691991332,
          -0.9411106934658617,
          2.2806951419476316,
          -0.2773820268898676,
          -0.1719512887472827,
          -1.0360593566493168,
          2.740158730896332,
          0.4969720701834237,
          0.07599932456838758,
          1.2064980965926333,
          0.9701941215015739,
          0.42531503869073456,
          2.60770368175183,
          -0.12951074044251815,
          0.508487030091743,
          -1.40191500678161,
          0.25572513859524176,
          4.070836157626378,
          -1.6226566703585867,
          -2.248817977080444,
          1.8302287196345082,
          -0.2746815576173679,
          0.19982253157632465,
          -0.07398549332703012,
          0.17736757253430535,
          1.7115253680864058,
          -1.6643244348529298,
          -2.445827229977174,
          0.19704412277615727,
          -4.122660497424041,
          -2.6993357066455834,
          4.691987921381934,
          1.8088095168102842,
          -0.019885915381858108,
          2.7776733722993536,
          -1.9902188254163329,
          -0.789134023542561,
          1.08507569285681,
          1.6410041105007411,
          0.9309611530610715,
          -5.176569529579784,
          -2.305229046600595,
          1.032808266848491,
          -0.7573495640837647,
          4.172447198581732,
          1.9174213466633574,
          0.9540709856793025,
          -2.0733412415979955,
          -0.09115008641563599,
          0.4504238496629426,
          2.8333732622056593,
          2.1666074141348526,
          1.8770924276239178,
          -2.0933185016864084,
          2.5103282314113877,
          -3.3018359698928736,
          -1.234458976692465,
          1.068285948815102,
          -0.3221746713545618,
          -2.6024796127541383,
          -1.4158170266873848,
          -3.0483402320111233,
          1.2730432916617538,
          2.6448111058254717,
          -0.18622506509438982,
          -0.7171090993716291,
          -3.685723571531874,
          1.973559926518909,
          5.688102030035917,
          -4.359350031745567,
          -2.2371717399267443,
          -1.4064252866886784,
          -1.2491957645752352,
          0.5886122950363553,
          3.937604342993952,
          1.7238470425906405,
          1.2663170006275761,
          -1.9021280319857088,
          -2.710010606715697,
          -1.505113160222815,
          3.401904858498421,
          -0.11461507949577616,
          -0.9280767890482343,
          -0.4882604824014791,
          2.181366953119251,
          -2.634675108253899,
          2.9226079387491826,
          0.36431003497939196,
          -0.58265701719192,
          0.8324627154067936,
          0.4348103678268463,
          -0.8982002129037455,
          -0.5635175644553738,
          -2.2928944556725335,
          1.2652049200499815,
          -1.2111735946156181,
          -1.981625289771615,
          0.34243230165191757,
          2.9199598658936075,
          -0.10563674720656877,
          -1.2839126913931926,
          1.078794465899674,
          4.8219185921221746,
          -3.611683231435555,
          0.784247040728184,
          0.4802532831067679,
          2.956311947903518,
          2.5402852137595833,
          -0.3948021042221609,
          -4.283513036789725,
          2.024389478429071,
          -1.6014874001861714,
          -2.5031300194590256,
          2.550855800183341,
          -2.0661825140097063,
          3.1316673605789545,
          0.7905267545972237,
          0.7688102357568476,
          0.7030769920315294,
          -4.356221965127306,
          -4.301942052716154,
          0.47366230495341205,
          1.2579612163422376,
          0.21568407278906912,
          -1.766456899183542,
          0.038136645015662406,
          -0.15302513011987837,
          -2.5690380334758007,
          2.7666701227085726,
          -3.343101299235254,
          1.264897601531151,
          0.7653308947986632,
          1.9526802099757135,
          -2.7343143279447526,
          0.19053158178971935,
          6.08900097338921,
          1.2728052867330941,
          0.2707113711544181,
          1.29210328606673,
          0.1895819425969505,
          4.76814418907773,
          2.550926840150405,
          -0.18429246412958233,
          0.6301520568536453,
          -0.9220199055397501,
          2.817699380199749,
          -3.8627978359346726,
          -3.85561709914804,
          3.9047775032084564,
          5.5498245930800225,
          0.8862938464129272,
          0.29640045460164205,
          1.3637451769594342,
          -1.7879057229185853,
          0.32620597164606535,
          0.0854852295342772,
          1.2316579912496133,
          -3.6513083950848118,
          -1.3639349064348119,
          1.8337987766032855,
          -1.3680335179760552,
          -2.1916204571305955,
          5.497013468488359,
          0.07701299606585311,
          -1.221148185485997,
          -3.3049489334718234,
          1.8902542512021028,
          1.5962909079286522,
          -0.657522072489684,
          -2.8775112246128165,
          -0.05474466339990216,
          -2.19309513840025,
          -2.5560877556600294,
          -0.21856980874149654,
          -3.0236081661509657,
          0.5096650290302478,
          1.3356628156048578,
          -1.7529806692392313,
          -3.086084551817552,
          3.734675863614661,
          -2.290663659179871,
          -1.827781303620781,
          0.5980346012429165,
          1.2827127081687972,
          -0.6522993330991619,
          0.9379450372615179,
          -0.9563399009331243,
          -2.1854579182213576,
          3.204221891011105,
          6.008551908384564,
          4.51777051105881,
          0.28434821373213676,
          5.165105217680389,
          0.9514406635430319,
          -1.01113067217438,
          1.3446473576549272,
          -0.23147989732835494,
          -2.898044215348368,
          -1.9289303641299127,
          1.9946290446012904,
          -4.1440757853752475,
          1.3654538857958856,
          -4.153915146940774,
          -6.112634605472639,
          -5.088573742535414,
          5.286546301244287,
          -0.4955248634332968,
          0.25025123607487987,
          3.494718851302425,
          2.6585187886291513,
          -3.907321253844656,
          1.9029808060993,
          0.5063558227242538,
          -0.6806812509897571,
          0.05598641639880068,
          2.8329502241876114,
          -2.208593025541207,
          1.0923546101794133,
          -0.020161184484605545,
          -4.5053518748704295,
          -2.35253684522588,
          0.42983186480450253,
          3.4705732005198606
         ],
         "yaxis": "y"
        }
       ],
       "layout": {
        "legend": {
         "itemsizing": "constant",
         "title": {
          "text": "w"
         },
         "tracegroupgap": 0
        },
        "margin": {
         "t": 60
        },
        "template": {
         "data": {
          "bar": [
           {
            "error_x": {
             "color": "#2a3f5f"
            },
            "error_y": {
             "color": "#2a3f5f"
            },
            "marker": {
             "line": {
              "color": "#E5ECF6",
              "width": 0.5
             },
             "pattern": {
              "fillmode": "overlay",
              "size": 10,
              "solidity": 0.2
             }
            },
            "type": "bar"
           }
          ],
          "barpolar": [
           {
            "marker": {
             "line": {
              "color": "#E5ECF6",
              "width": 0.5
             },
             "pattern": {
              "fillmode": "overlay",
              "size": 10,
              "solidity": 0.2
             }
            },
            "type": "barpolar"
           }
          ],
          "carpet": [
           {
            "aaxis": {
             "endlinecolor": "#2a3f5f",
             "gridcolor": "white",
             "linecolor": "white",
             "minorgridcolor": "white",
             "startlinecolor": "#2a3f5f"
            },
            "baxis": {
             "endlinecolor": "#2a3f5f",
             "gridcolor": "white",
             "linecolor": "white",
             "minorgridcolor": "white",
             "startlinecolor": "#2a3f5f"
            },
            "type": "carpet"
           }
          ],
          "choropleth": [
           {
            "colorbar": {
             "outlinewidth": 0,
             "ticks": ""
            },
            "type": "choropleth"
           }
          ],
          "contour": [
           {
            "colorbar": {
             "outlinewidth": 0,
             "ticks": ""
            },
            "colorscale": [
             [
              0,
              "#0d0887"
             ],
             [
              0.1111111111111111,
              "#46039f"
             ],
             [
              0.2222222222222222,
              "#7201a8"
             ],
             [
              0.3333333333333333,
              "#9c179e"
             ],
             [
              0.4444444444444444,
              "#bd3786"
             ],
             [
              0.5555555555555556,
              "#d8576b"
             ],
             [
              0.6666666666666666,
              "#ed7953"
             ],
             [
              0.7777777777777778,
              "#fb9f3a"
             ],
             [
              0.8888888888888888,
              "#fdca26"
             ],
             [
              1,
              "#f0f921"
             ]
            ],
            "type": "contour"
           }
          ],
          "contourcarpet": [
           {
            "colorbar": {
             "outlinewidth": 0,
             "ticks": ""
            },
            "type": "contourcarpet"
           }
          ],
          "heatmap": [
           {
            "colorbar": {
             "outlinewidth": 0,
             "ticks": ""
            },
            "colorscale": [
             [
              0,
              "#0d0887"
             ],
             [
              0.1111111111111111,
              "#46039f"
             ],
             [
              0.2222222222222222,
              "#7201a8"
             ],
             [
              0.3333333333333333,
              "#9c179e"
             ],
             [
              0.4444444444444444,
              "#bd3786"
             ],
             [
              0.5555555555555556,
              "#d8576b"
             ],
             [
              0.6666666666666666,
              "#ed7953"
             ],
             [
              0.7777777777777778,
              "#fb9f3a"
             ],
             [
              0.8888888888888888,
              "#fdca26"
             ],
             [
              1,
              "#f0f921"
             ]
            ],
            "type": "heatmap"
           }
          ],
          "heatmapgl": [
           {
            "colorbar": {
             "outlinewidth": 0,
             "ticks": ""
            },
            "colorscale": [
             [
              0,
              "#0d0887"
             ],
             [
              0.1111111111111111,
              "#46039f"
             ],
             [
              0.2222222222222222,
              "#7201a8"
             ],
             [
              0.3333333333333333,
              "#9c179e"
             ],
             [
              0.4444444444444444,
              "#bd3786"
             ],
             [
              0.5555555555555556,
              "#d8576b"
             ],
             [
              0.6666666666666666,
              "#ed7953"
             ],
             [
              0.7777777777777778,
              "#fb9f3a"
             ],
             [
              0.8888888888888888,
              "#fdca26"
             ],
             [
              1,
              "#f0f921"
             ]
            ],
            "type": "heatmapgl"
           }
          ],
          "histogram": [
           {
            "marker": {
             "pattern": {
              "fillmode": "overlay",
              "size": 10,
              "solidity": 0.2
             }
            },
            "type": "histogram"
           }
          ],
          "histogram2d": [
           {
            "colorbar": {
             "outlinewidth": 0,
             "ticks": ""
            },
            "colorscale": [
             [
              0,
              "#0d0887"
             ],
             [
              0.1111111111111111,
              "#46039f"
             ],
             [
              0.2222222222222222,
              "#7201a8"
             ],
             [
              0.3333333333333333,
              "#9c179e"
             ],
             [
              0.4444444444444444,
              "#bd3786"
             ],
             [
              0.5555555555555556,
              "#d8576b"
             ],
             [
              0.6666666666666666,
              "#ed7953"
             ],
             [
              0.7777777777777778,
              "#fb9f3a"
             ],
             [
              0.8888888888888888,
              "#fdca26"
             ],
             [
              1,
              "#f0f921"
             ]
            ],
            "type": "histogram2d"
           }
          ],
          "histogram2dcontour": [
           {
            "colorbar": {
             "outlinewidth": 0,
             "ticks": ""
            },
            "colorscale": [
             [
              0,
              "#0d0887"
             ],
             [
              0.1111111111111111,
              "#46039f"
             ],
             [
              0.2222222222222222,
              "#7201a8"
             ],
             [
              0.3333333333333333,
              "#9c179e"
             ],
             [
              0.4444444444444444,
              "#bd3786"
             ],
             [
              0.5555555555555556,
              "#d8576b"
             ],
             [
              0.6666666666666666,
              "#ed7953"
             ],
             [
              0.7777777777777778,
              "#fb9f3a"
             ],
             [
              0.8888888888888888,
              "#fdca26"
             ],
             [
              1,
              "#f0f921"
             ]
            ],
            "type": "histogram2dcontour"
           }
          ],
          "mesh3d": [
           {
            "colorbar": {
             "outlinewidth": 0,
             "ticks": ""
            },
            "type": "mesh3d"
           }
          ],
          "parcoords": [
           {
            "line": {
             "colorbar": {
              "outlinewidth": 0,
              "ticks": ""
             }
            },
            "type": "parcoords"
           }
          ],
          "pie": [
           {
            "automargin": true,
            "type": "pie"
           }
          ],
          "scatter": [
           {
            "marker": {
             "colorbar": {
              "outlinewidth": 0,
              "ticks": ""
             }
            },
            "type": "scatter"
           }
          ],
          "scatter3d": [
           {
            "line": {
             "colorbar": {
              "outlinewidth": 0,
              "ticks": ""
             }
            },
            "marker": {
             "colorbar": {
              "outlinewidth": 0,
              "ticks": ""
             }
            },
            "type": "scatter3d"
           }
          ],
          "scattercarpet": [
           {
            "marker": {
             "colorbar": {
              "outlinewidth": 0,
              "ticks": ""
             }
            },
            "type": "scattercarpet"
           }
          ],
          "scattergeo": [
           {
            "marker": {
             "colorbar": {
              "outlinewidth": 0,
              "ticks": ""
             }
            },
            "type": "scattergeo"
           }
          ],
          "scattergl": [
           {
            "marker": {
             "colorbar": {
              "outlinewidth": 0,
              "ticks": ""
             }
            },
            "type": "scattergl"
           }
          ],
          "scattermapbox": [
           {
            "marker": {
             "colorbar": {
              "outlinewidth": 0,
              "ticks": ""
             }
            },
            "type": "scattermapbox"
           }
          ],
          "scatterpolar": [
           {
            "marker": {
             "colorbar": {
              "outlinewidth": 0,
              "ticks": ""
             }
            },
            "type": "scatterpolar"
           }
          ],
          "scatterpolargl": [
           {
            "marker": {
             "colorbar": {
              "outlinewidth": 0,
              "ticks": ""
             }
            },
            "type": "scatterpolargl"
           }
          ],
          "scatterternary": [
           {
            "marker": {
             "colorbar": {
              "outlinewidth": 0,
              "ticks": ""
             }
            },
            "type": "scatterternary"
           }
          ],
          "surface": [
           {
            "colorbar": {
             "outlinewidth": 0,
             "ticks": ""
            },
            "colorscale": [
             [
              0,
              "#0d0887"
             ],
             [
              0.1111111111111111,
              "#46039f"
             ],
             [
              0.2222222222222222,
              "#7201a8"
             ],
             [
              0.3333333333333333,
              "#9c179e"
             ],
             [
              0.4444444444444444,
              "#bd3786"
             ],
             [
              0.5555555555555556,
              "#d8576b"
             ],
             [
              0.6666666666666666,
              "#ed7953"
             ],
             [
              0.7777777777777778,
              "#fb9f3a"
             ],
             [
              0.8888888888888888,
              "#fdca26"
             ],
             [
              1,
              "#f0f921"
             ]
            ],
            "type": "surface"
           }
          ],
          "table": [
           {
            "cells": {
             "fill": {
              "color": "#EBF0F8"
             },
             "line": {
              "color": "white"
             }
            },
            "header": {
             "fill": {
              "color": "#C8D4E3"
             },
             "line": {
              "color": "white"
             }
            },
            "type": "table"
           }
          ]
         },
         "layout": {
          "annotationdefaults": {
           "arrowcolor": "#2a3f5f",
           "arrowhead": 0,
           "arrowwidth": 1
          },
          "autotypenumbers": "strict",
          "coloraxis": {
           "colorbar": {
            "outlinewidth": 0,
            "ticks": ""
           }
          },
          "colorscale": {
           "diverging": [
            [
             0,
             "#8e0152"
            ],
            [
             0.1,
             "#c51b7d"
            ],
            [
             0.2,
             "#de77ae"
            ],
            [
             0.3,
             "#f1b6da"
            ],
            [
             0.4,
             "#fde0ef"
            ],
            [
             0.5,
             "#f7f7f7"
            ],
            [
             0.6,
             "#e6f5d0"
            ],
            [
             0.7,
             "#b8e186"
            ],
            [
             0.8,
             "#7fbc41"
            ],
            [
             0.9,
             "#4d9221"
            ],
            [
             1,
             "#276419"
            ]
           ],
           "sequential": [
            [
             0,
             "#0d0887"
            ],
            [
             0.1111111111111111,
             "#46039f"
            ],
            [
             0.2222222222222222,
             "#7201a8"
            ],
            [
             0.3333333333333333,
             "#9c179e"
            ],
            [
             0.4444444444444444,
             "#bd3786"
            ],
            [
             0.5555555555555556,
             "#d8576b"
            ],
            [
             0.6666666666666666,
             "#ed7953"
            ],
            [
             0.7777777777777778,
             "#fb9f3a"
            ],
            [
             0.8888888888888888,
             "#fdca26"
            ],
            [
             1,
             "#f0f921"
            ]
           ],
           "sequentialminus": [
            [
             0,
             "#0d0887"
            ],
            [
             0.1111111111111111,
             "#46039f"
            ],
            [
             0.2222222222222222,
             "#7201a8"
            ],
            [
             0.3333333333333333,
             "#9c179e"
            ],
            [
             0.4444444444444444,
             "#bd3786"
            ],
            [
             0.5555555555555556,
             "#d8576b"
            ],
            [
             0.6666666666666666,
             "#ed7953"
            ],
            [
             0.7777777777777778,
             "#fb9f3a"
            ],
            [
             0.8888888888888888,
             "#fdca26"
            ],
            [
             1,
             "#f0f921"
            ]
           ]
          },
          "colorway": [
           "#636efa",
           "#EF553B",
           "#00cc96",
           "#ab63fa",
           "#FFA15A",
           "#19d3f3",
           "#FF6692",
           "#B6E880",
           "#FF97FF",
           "#FECB52"
          ],
          "font": {
           "color": "#2a3f5f"
          },
          "geo": {
           "bgcolor": "white",
           "lakecolor": "white",
           "landcolor": "#E5ECF6",
           "showlakes": true,
           "showland": true,
           "subunitcolor": "white"
          },
          "hoverlabel": {
           "align": "left"
          },
          "hovermode": "closest",
          "mapbox": {
           "style": "light"
          },
          "paper_bgcolor": "white",
          "plot_bgcolor": "#E5ECF6",
          "polar": {
           "angularaxis": {
            "gridcolor": "white",
            "linecolor": "white",
            "ticks": ""
           },
           "bgcolor": "#E5ECF6",
           "radialaxis": {
            "gridcolor": "white",
            "linecolor": "white",
            "ticks": ""
           }
          },
          "scene": {
           "xaxis": {
            "backgroundcolor": "#E5ECF6",
            "gridcolor": "white",
            "gridwidth": 2,
            "linecolor": "white",
            "showbackground": true,
            "ticks": "",
            "zerolinecolor": "white"
           },
           "yaxis": {
            "backgroundcolor": "#E5ECF6",
            "gridcolor": "white",
            "gridwidth": 2,
            "linecolor": "white",
            "showbackground": true,
            "ticks": "",
            "zerolinecolor": "white"
           },
           "zaxis": {
            "backgroundcolor": "#E5ECF6",
            "gridcolor": "white",
            "gridwidth": 2,
            "linecolor": "white",
            "showbackground": true,
            "ticks": "",
            "zerolinecolor": "white"
           }
          },
          "shapedefaults": {
           "line": {
            "color": "#2a3f5f"
           }
          },
          "ternary": {
           "aaxis": {
            "gridcolor": "white",
            "linecolor": "white",
            "ticks": ""
           },
           "baxis": {
            "gridcolor": "white",
            "linecolor": "white",
            "ticks": ""
           },
           "bgcolor": "#E5ECF6",
           "caxis": {
            "gridcolor": "white",
            "linecolor": "white",
            "ticks": ""
           }
          },
          "title": {
           "x": 0.05
          },
          "xaxis": {
           "automargin": true,
           "gridcolor": "white",
           "linecolor": "white",
           "ticks": "",
           "title": {
            "standoff": 15
           },
           "zerolinecolor": "white",
           "zerolinewidth": 2
          },
          "yaxis": {
           "automargin": true,
           "gridcolor": "white",
           "linecolor": "white",
           "ticks": "",
           "title": {
            "standoff": 15
           },
           "zerolinecolor": "white",
           "zerolinewidth": 2
          }
         }
        },
        "xaxis": {
         "anchor": "y",
         "domain": [
          0,
          1
         ],
         "title": {
          "text": "x"
         }
        },
        "yaxis": {
         "anchor": "x",
         "domain": [
          0,
          1
         ],
         "title": {
          "text": "y"
         }
        }
       }
      }
     },
     "metadata": {},
     "output_type": "display_data"
    }
   ],
   "source": [
    "# plotly\n",
    "fig = px.scatter(data,x='x',y='y',color='w',size='x',hover_data=['w'])\n",
    "fig.show()"
   ]
  },
  {
   "cell_type": "markdown",
   "metadata": {},
   "source": [
    "![expert](https://apmonitor.com/che263/uploads/Begin_Python/expert.png)\n",
    "\n",
    "### Scatter Plot Activity\n",
    "\n",
    "Create a scatter plot with `matplotlib` or `plotly` that displays `xt` paired with `yt` and `zt`:\n",
    "\n",
    "```python\n",
    "xt = np.array([0,0.1,0.2,0.3,0.5,0.8,1.0])\n",
    "yt = np.array([1.0,2.1,3.5,6.5,7.2,5.9,6.3])\n",
    "zt = xt*yt\n",
    "```\n",
    "\n",
    "Change the shape of the points to a square for `yt` and a triangle for `zt`. Add a label to indicate which points are `yt` and `zt`."
   ]
  },
  {
   "cell_type": "code",
   "execution_count": 16,
   "metadata": {},
   "outputs": [
    {
     "data": {
      "text/plain": [
       "<matplotlib.legend.Legend at 0x7fb0e9d8a8e0>"
      ]
     },
     "execution_count": 16,
     "metadata": {},
     "output_type": "execute_result"
    },
    {
     "data": {
      "image/png": "[encoded data removed]",
      "text/plain": [
       "<Figure size 432x288 with 1 Axes>"
      ]
     },
     "metadata": {
      "needs_background": "light"
     },
     "output_type": "display_data"
    }
   ],
   "source": [
    "xt = np.array([0,0.1,0.2,0.3,0.5,0.8,1.0])\n",
    "yt = np.array([1.0,2.1,3.5,6.5,7.2,5.9,6.3])\n",
    "zt = xt*yt\n",
    "\n",
    "plt.scatter(xt,yt, marker='s',label=\"y\")\n",
    "plt.scatter(xt, zt, marker=\"^\",label=\"z\")\n",
    "plt.legend()"
   ]
  },
  {
   "cell_type": "markdown",
   "metadata": {},
   "source": [
    "![idea](https://apmonitor.com/che263/uploads/Begin_Python/idea.png)\n",
    "\n",
    "### Bar Chart\n",
    "\n",
    "Bar charts show a histogram distribution of count in a bin range. The `alpha` option is the transparency between `0` and `1`. A value of `0.7` is a good value to use to show the overlying and underlying data."
   ]
  },
  {
   "cell_type": "code",
   "execution_count": 17,
   "metadata": {},
   "outputs": [
    {
     "data": {
      "image/png": "[encoded data removed]",
      "text/plain": [
       "<Figure size 432x288 with 1 Axes>"
      ]
     },
     "metadata": {
      "needs_background": "light"
     },
     "output_type": "display_data"
    }
   ],
   "source": [
    "bins = np.linspace(-3,3,31)\n",
    "plt.hist(y,bins,label='y')\n",
    "plt.hist(z,bins,alpha=0.7,label='z')\n",
    "plt.legend()\n",
    "plt.show()"
   ]
  },
  {
   "cell_type": "markdown",
   "metadata": {},
   "source": [
    "![expert](https://apmonitor.com/che263/uploads/Begin_Python/expert.png)\n",
    "\n",
    "### Bar Plot Activity\n",
    "\n",
    "Create a bar plot that displays the distribution of `xt`, `yt`, and `zt`:\n",
    "\n",
    "```python\n",
    "nt = 1000\n",
    "xt = np.random.rand(nt)\n",
    "yt = np.random.normal(0,1,nt)\n",
    "zt = xt*yt\n",
    "```\n",
    "\n",
    "Use `bins = np.linspace(-3,3,31)` to create the histogram distrubtion."
   ]
  },
  {
   "cell_type": "code",
   "execution_count": 21,
   "metadata": {},
   "outputs": [
    {
     "data": {
      "image/png": "[encoded data removed]",
      "text/plain": [
       "<Figure size 432x288 with 1 Axes>"
      ]
     },
     "metadata": {
      "needs_background": "light"
     },
     "output_type": "display_data"
    }
   ],
   "source": [
    "nt = 1000\n",
    "xt = np.random.rand(nt)\n",
    "yt = np.random.normal(0,1,nt)\n",
    "zt = xt*yt\n",
    "bins = np.linspace(-3,3,21)\n",
    "\n",
    "plt.hist(xt,bins)\n",
    "plt.hist(yt,bins)\n",
    "plt.hist(zt,bins)\n",
    "plt.show()"
   ]
  },
  {
   "cell_type": "markdown",
   "metadata": {},
   "source": [
    "![idea](https://apmonitor.com/che263/uploads/Begin_Python/idea.png)\n",
    "\n",
    "### Pair Plot\n",
    "\n",
    "A pair plot shows the correlation between variables. It has bar distributions on the diagonal and scatter plots on the off-diagonal. A pair plot also shows a different color (`hue`) by category `w`. Pair plots show correlations between pairs of variables that may be related and gives a good indication of features (explanatory inputs) that are used for classification or regression."
   ]
  },
  {
   "cell_type": "code",
   "execution_count": 22,
   "metadata": {},
   "outputs": [
    {
     "data": {
      "image/png": "[encoded data removed]",
      "text/plain": [
       "<Figure size 617.625x540 with 12 Axes>"
      ]
     },
     "metadata": {
      "needs_background": "light"
     },
     "output_type": "display_data"
    }
   ],
   "source": [
    "sns.pairplot(data[['x','y','z','w']],hue=('w'))\n",
    "plt.show()"
   ]
  },
  {
   "cell_type": "markdown",
   "metadata": {},
   "source": [
    "![expert](https://apmonitor.com/che263/uploads/Begin_Python/expert.png)\n",
    "\n",
    "### Pair Plot Activity\n",
    "\n",
    "Create a pair plot that displays the correlation between `xt`, `yt`, and `zt` between the first 500 and second 500 random numbers that are categorized as `Dist`. Create a `pandas` dataframe with:\n",
    "\n",
    "```python\n",
    "nt = 100\n",
    "xt = np.random.rand(nt)\n",
    "yt = np.random.normal(0,1,nt)\n",
    "zt = xt*yt\n",
    "dt = pd.DataFrame(np.column_stack([xt,yt,zt]),columns=['xt','yt','zt'])\n",
    "dt['Dist'] = 'First'\n",
    "for i in range(int(nt/2),nt):\n",
    "    dt.at[i,'Dist'] = 'Second'\n",
    "```"
   ]
  },
  {
   "cell_type": "code",
   "execution_count": 27,
   "metadata": {},
   "outputs": [
    {
     "data": {
      "image/png": "[encoded data removed]",
      "text/plain": [
       "<Figure size 612.625x540 with 12 Axes>"
      ]
     },
     "metadata": {
      "needs_background": "light"
     },
     "output_type": "display_data"
    }
   ],
   "source": [
    "nt = 100\n",
    "xt = np.random.rand(nt)\n",
    "yt = np.random.normal(0,1,nt)\n",
    "zt = xt*yt\n",
    "dt = pd.DataFrame(np.column_stack([xt,yt,zt]),columns=['xt','yt','zt'])\n",
    "dt['Dist'] = 'First'\n",
    "for i in range(int(nt/2),nt):\n",
    "    dt.at[i,'Dist'] = 'Second'\n",
    "\n",
    "sns.pairplot(dt[['xt','yt','zt', 'Dist']],hue=('Dist'))\n",
    "plt.show()"
   ]
  },
  {
   "cell_type": "markdown",
   "metadata": {},
   "source": [
    "![idea](https://apmonitor.com/che263/uploads/Begin_Python/idea.png)\n",
    "\n",
    "### Box Plot\n",
    "\n",
    "A box plot shows data quartiles. In this case, we are comparing the first 500 points with the last 500 points."
   ]
  },
  {
   "cell_type": "code",
   "execution_count": 28,
   "metadata": {},
   "outputs": [
    {
     "data": {
      "image/png": "[encoded data removed]",
      "text/plain": [
       "<Figure size 432x288 with 1 Axes>"
      ]
     },
     "metadata": {
      "needs_background": "light"
     },
     "output_type": "display_data"
    }
   ],
   "source": [
    "sns.boxplot(x='w',y='x',data=data)\n",
    "plt.show()"
   ]
  },
  {
   "cell_type": "markdown",
   "metadata": {},
   "source": [
    "![expert](https://apmonitor.com/che263/uploads/Begin_Python/expert.png)\n",
    "\n",
    "### Box Plot Activity\n",
    "\n",
    "Create a box plot that shows the quartiles of `yt` by first and second sets as indicated in `Dist`."
   ]
  },
  {
   "cell_type": "code",
   "execution_count": 29,
   "metadata": {},
   "outputs": [
    {
     "data": {
      "image/png": "[encoded data removed]",
      "text/plain": [
       "<Figure size 432x288 with 1 Axes>"
      ]
     },
     "metadata": {
      "needs_background": "light"
     },
     "output_type": "display_data"
    }
   ],
   "source": [
    "sns.boxplot(x='Dist',y='yt',data=dt)\n",
    "plt.show()"
   ]
  },
  {
   "cell_type": "markdown",
   "metadata": {},
   "source": [
    "![idea](https://apmonitor.com/che263/uploads/Begin_Python/idea.png)\n",
    "\n",
    "### Violin Plot\n",
    "\n",
    "A voilin plot combines the box plot quartiles with the distribution."
   ]
  },
  {
   "cell_type": "code",
   "execution_count": 30,
   "metadata": {},
   "outputs": [
    {
     "data": {
      "image/png": "[encoded data removed]",
      "text/plain": [
       "<Figure size 432x288 with 1 Axes>"
      ]
     },
     "metadata": {
      "needs_background": "light"
     },
     "output_type": "display_data"
    }
   ],
   "source": [
    "sns.violinplot(x='w',y='x',data=data,size=6)\n",
    "plt.show()"
   ]
  },
  {
   "cell_type": "markdown",
   "metadata": {},
   "source": [
    "![expert](https://apmonitor.com/che263/uploads/Begin_Python/expert.png)\n",
    "\n",
    "### Violin Plot Activity\n",
    "\n",
    "Create a violin plot that shows the quartiles and distribution of `zt` by first and second sets as indicated in `Dist` in the DataFrame `dt`."
   ]
  },
  {
   "cell_type": "code",
   "execution_count": 31,
   "metadata": {},
   "outputs": [
    {
     "data": {
      "image/png": "[encoded data removed]",
      "text/plain": [
       "<Figure size 432x288 with 1 Axes>"
      ]
     },
     "metadata": {
      "needs_background": "light"
     },
     "output_type": "display_data"
    }
   ],
   "source": [
    "sns.violinplot(x='Dist',y='zt',data=dt,size=6)\n",
    "plt.show()"
   ]
  },
  {
   "cell_type": "markdown",
   "metadata": {},
   "source": [
    "![idea](https://apmonitor.com/che263/uploads/Begin_Python/idea.png)\n",
    "\n",
    "### Joint Plot\n",
    "\n",
    "A joint plot shows two variables, with the univariate and joint distributions. Try `kind='reg'`, `'kde'`, and `'hex'` to see different joint plot styles."
   ]
  },
  {
   "cell_type": "code",
   "execution_count": 32,
   "metadata": {},
   "outputs": [
    {
     "name": "stderr",
     "output_type": "stream",
     "text": [
      "/home/curtis/.local/lib/python3.8/site-packages/seaborn/_decorators.py:36: FutureWarning:\n",
      "\n",
      "Pass the following variables as keyword args: x, y. From version 0.12, the only valid positional argument will be `data`, and passing other arguments without an explicit keyword will result in an error or misinterpretation.\n",
      "\n"
     ]
    },
    {
     "data": {
      "image/png": "[encoded data removed]",
      "text/plain": [
       "<Figure size 432x432 with 3 Axes>"
      ]
     },
     "metadata": {
      "needs_background": "light"
     },
     "output_type": "display_data"
    }
   ],
   "source": [
    "sns.jointplot('x','z',data=data,kind=\"kde\")\n",
    "plt.show()"
   ]
  },
  {
   "cell_type": "markdown",
   "metadata": {},
   "source": [
    "![expert](https://apmonitor.com/che263/uploads/Begin_Python/expert.png)\n",
    "\n",
    "### Joint Plot Activity\n",
    "\n",
    "Create a joint plot that shows the joint distribution of `yt` and `zt` in the DataFrame `dt`."
   ]
  },
  {
   "cell_type": "code",
   "execution_count": 33,
   "metadata": {},
   "outputs": [
    {
     "name": "stderr",
     "output_type": "stream",
     "text": [
      "/home/curtis/.local/lib/python3.8/site-packages/seaborn/_decorators.py:36: FutureWarning:\n",
      "\n",
      "Pass the following variables as keyword args: x, y. From version 0.12, the only valid positional argument will be `data`, and passing other arguments without an explicit keyword will result in an error or misinterpretation.\n",
      "\n"
     ]
    },
    {
     "data": {
      "image/png": "[encoded data removed]",
      "text/plain": [
       "<Figure size 432x432 with 3 Axes>"
      ]
     },
     "metadata": {
      "needs_background": "light"
     },
     "output_type": "display_data"
    }
   ],
   "source": [
    "sns.jointplot('yt','zt',data=dt,kind=\"kde\")\n",
    "plt.show()"
   ]
  },
  {
   "cell_type": "markdown",
   "metadata": {},
   "source": [
    "### TCLab Activity\n",
    "\n",
    "![expert](https://apmonitor.com/che263/uploads/Begin_Python/expert.png)"
   ]
  },
  {
   "cell_type": "markdown",
   "metadata": {},
   "source": [
    "### Generate or Retrieve Data \n",
    "\n",
    "![connections](https://apmonitor.com/che263/uploads/Begin_Python/connections.png)\n",
    "\n",
    "A sample data file loads if you do not have a TCLab connected. Otherwise, generate a file from the TCLab data with seconds (`t`), heater levels (`Q1` and `Q2`), and temperatures (`lab.T1` and `lab.T2`). Record data every second for 120 seconds and change the heater levels every 30 seconds to a random number between 0 and 80 with `np.random.randint()`. There is no need to change this program, only run it to collect the data over 2 minutes. "
   ]
  },
  {
   "cell_type": "code",
   "execution_count": 34,
   "metadata": {},
   "outputs": [
    {
     "name": "stdout",
     "output_type": "stream",
     "text": [
      "TCLab version 0.4.9\n",
      "Arduino Leonardo connected on port /dev/ttyACM1 at 115200 baud.\n",
      "TCLab Firmware 2.0.1 Arduino Leonardo/Micro.\n",
      "t Q1 Q2 T1    T2\n",
      "0 48 53 23.477 22.993\n",
      "5 48 53 23.541 23.09\n",
      "10 48 53 24.121 23.509\n",
      "15 48 53 24.733 23.638\n",
      "20 48 53 25.41 23.896\n",
      "25 48 53 26.377 24.508\n",
      "30 69 56 27.344 25.249\n",
      "35 69 56 28.311 25.732\n",
      "40 69 56 29.6 26.506\n",
      "45 69 56 30.889 27.118\n",
      "50 69 56 32.178 27.602\n",
      "55 69 56 33.467 28.697\n",
      "60 59 29 35.078 29.148\n",
      "65 59 29 36.367 29.793\n",
      "70 59 29 37.656 30.599\n",
      "75 59 29 38.945 31.082\n",
      "80 59 29 39.912 31.63\n",
      "85 59 29 40.976 32.339\n",
      "90 2 30 42.168 32.693\n",
      "95 2 30 43.135 33.338\n",
      "100 2 30 43.779 33.66\n",
      "105 2 30 44.102 33.789\n",
      "110 2 30 43.908 34.305\n",
      "115 2 30 43.779 34.788\n",
      "TCLab disconnected successfully.\n"
     ]
    },
    {
     "data": {
      "text/html": [
       "<div>\n",
       "<style scoped>\n",
       "    .dataframe tbody tr th:only-of-type {\n",
       "        vertical-align: middle;\n",
       "    }\n",
       "\n",
       "    .dataframe tbody tr th {\n",
       "        vertical-align: top;\n",
       "    }\n",
       "\n",
       "    .dataframe thead th {\n",
       "        text-align: right;\n",
       "    }\n",
       "</style>\n",
       "<table border=\"1\" class=\"dataframe\">\n",
       "  <thead>\n",
       "    <tr style=\"text-align: right;\">\n",
       "      <th></th>\n",
       "      <th>Time</th>\n",
       "      <th>Q1</th>\n",
       "      <th>Q2</th>\n",
       "      <th>T1</th>\n",
       "      <th>T2</th>\n",
       "    </tr>\n",
       "  </thead>\n",
       "  <tbody>\n",
       "    <tr>\n",
       "      <th>0</th>\n",
       "      <td>0</td>\n",
       "      <td>48</td>\n",
       "      <td>53</td>\n",
       "      <td>23.477</td>\n",
       "      <td>22.896</td>\n",
       "    </tr>\n",
       "    <tr>\n",
       "      <th>1</th>\n",
       "      <td>1</td>\n",
       "      <td>48</td>\n",
       "      <td>53</td>\n",
       "      <td>23.477</td>\n",
       "      <td>22.832</td>\n",
       "    </tr>\n",
       "    <tr>\n",
       "      <th>2</th>\n",
       "      <td>2</td>\n",
       "      <td>48</td>\n",
       "      <td>53</td>\n",
       "      <td>23.444</td>\n",
       "      <td>23.025</td>\n",
       "    </tr>\n",
       "    <tr>\n",
       "      <th>3</th>\n",
       "      <td>3</td>\n",
       "      <td>48</td>\n",
       "      <td>53</td>\n",
       "      <td>23.444</td>\n",
       "      <td>22.735</td>\n",
       "    </tr>\n",
       "    <tr>\n",
       "      <th>4</th>\n",
       "      <td>4</td>\n",
       "      <td>48</td>\n",
       "      <td>53</td>\n",
       "      <td>23.509</td>\n",
       "      <td>23.025</td>\n",
       "    </tr>\n",
       "  </tbody>\n",
       "</table>\n",
       "</div>"
      ],
      "text/plain": [
       "   Time  Q1  Q2      T1      T2\n",
       "0     0  48  53  23.477  22.896\n",
       "1     1  48  53  23.477  22.832\n",
       "2     2  48  53  23.444  23.025\n",
       "3     3  48  53  23.444  22.735\n",
       "4     4  48  53  23.509  23.025"
      ]
     },
     "execution_count": 34,
     "metadata": {},
     "output_type": "execute_result"
    }
   ],
   "source": [
    "import tclab, time, csv\n",
    "import numpy as np\n",
    "try:\n",
    "    n = 120 \n",
    "    with open('04-tclab.csv',mode='w',newline='') as f:\n",
    "        cw = csv.writer(f)\n",
    "        cw.writerow(['Time','Q1','Q2','T1','T2'])\n",
    "        with tclab.TCLab() as lab:\n",
    "            print('t Q1 Q2 T1    T2')\n",
    "            for t in range(n):\n",
    "                if t%30==0:\n",
    "                    Q1 = np.random.randint(0,81)\n",
    "                    Q2 = np.random.randint(0,81)\n",
    "                    lab.Q1(Q1); lab.Q2(Q2)\n",
    "                cw.writerow([t,Q1,Q2,lab.T1,lab.T2])\n",
    "                if t%5==0:\n",
    "                    print(t,Q1,Q2,lab.T1,lab.T2)\n",
    "                time.sleep(1)\n",
    "    data4=pd.read_csv('04-tclab.csv')\n",
    "except:\n",
    "    print('Connect TCLab to generate data')\n",
    "    url = 'http://apmonitor.com/do/uploads/Main/tclab_dyn_data2.txt'\n",
    "    data4=pd.read_csv(url)\n",
    "    data4.columns = ['Time','Q1','Q2','T1','T2']\n",
    "    \n",
    "data4.head()    "
   ]
  },
  {
   "cell_type": "markdown",
   "metadata": {},
   "source": [
    "### Graphical Analysis\n",
    "\n",
    "Analyze `Q1`, `Q2`, `T1`, and `T2` graphically with a time series plot and a pair plot. The time series plot should show `Q1` and `Q2` in the upper subplot and `T1` and `T2` in the lower subplot. The pair plot should be a `2x2` plot grid that shows the heater / temperature pairs as `Q1`/`T1`, `Q2`/`T2`. "
   ]
  },
  {
   "cell_type": "code",
   "execution_count": 39,
   "metadata": {},
   "outputs": [
    {
     "data": {
      "text/plain": [
       "[<matplotlib.lines.Line2D at 0x7fb0e8fbfa90>]"
      ]
     },
     "execution_count": 39,
     "metadata": {},
     "output_type": "execute_result"
    },
    {
     "data": {
      "image/png": "[encoded data removed]",
      "text/plain": [
       "<Figure size 432x288 with 2 Axes>"
      ]
     },
     "metadata": {
      "needs_background": "light"
     },
     "output_type": "display_data"
    }
   ],
   "source": [
    "plt.subplots(2,1)\n",
    "plt.subplot(2,1,1)\n",
    "plt.plot(data4['Time'], data4['Q1'])\n",
    "plt.plot(data4['Time'], data4['Q2'])\n",
    "\n",
    "plt.subplot(2,1,2)\n",
    "plt.plot(data4['Time'], data4['T1'])\n",
    "plt.plot(data4['Time'], data4['T2'])"
   ]
  },
  {
   "cell_type": "code",
   "execution_count": 40,
   "metadata": {},
   "outputs": [
    {
     "data": {
      "text/plain": [
       "<seaborn.axisgrid.PairGrid at 0x7fb0e9032ac0>"
      ]
     },
     "execution_count": 40,
     "metadata": {},
     "output_type": "execute_result"
    },
    {
     "data": {
      "image/png": "[encoded data removed]",
      "text/plain": [
       "<Figure size 360x360 with 4 Axes>"
      ]
     },
     "metadata": {
      "needs_background": "light"
     },
     "output_type": "display_data"
    }
   ],
   "source": [
    "sns.pairplot(data4, x_vars=['Q1','T1'], y_vars=['Q2','T2'])"
   ]
  }
 ],
 "metadata": {
  "kernelspec": {
   "display_name": "Python 3",
   "language": "python",
   "name": "python3"
  },
  "language_info": {
   "codemirror_mode": {
    "name": "ipython",
    "version": 3
   },
   "file_extension": ".py",
   "mimetype": "text/x-python",
   "name": "python",
   "nbconvert_exporter": "python",
   "pygments_lexer": "ipython3",
   "version": "3.8.10"
  }
 },
 "nbformat": 4,
 "nbformat_minor": 2
}
