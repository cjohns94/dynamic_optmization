{
 "cells": [
  {
   "cell_type": "markdown",
   "metadata": {},
   "source": [
    "## 10. Solve Equations\n",
    "\n",
    "[Data Science Playlist on YouTube](https://www.youtube.com/watch?v=c40z75JnT44&list=PLLBUgWXdTBDg1Qgmwt4jKtVn9BWh5-zgy)\n",
    "[![Python Data Science](https://apmonitor.com/che263/uploads/Begin_Python/DataScience10.png)](https://www.youtube.com/watch?v=c40z75JnT44&list=PLLBUgWXdTBDg1Qgmwt4jKtVn9BWh5-zgy \"Python Data Science\")\n",
    "\n",
    "Equations are at the root of data science. It is what turns data into actionable information by developing mathematical expressions that mimic physical systems. Some math expressions are simple and can be calculated sequentially such as\n",
    "\n",
    "$x=1 \\quad y=x^2+2x-4$\n",
    "\n",
    "The solution is $x=1$ and $y=1+2-4=-1$. Consider the case where $x$ also depends on $y$.\n",
    "\n",
    "$x=y \\quad y=x^2+2x-4$\n",
    "\n",
    "There are two solutions that are calculated from the quadratic formula $y=\\frac{-b\\pm\\sqrt{b^2-4ac}}{2a}$.\n",
    "\n",
    "$0=y^2+(2y-y)-4 \\quad y^2+y-4 = 0$ with $a=1$, $b=1$ and $c=-4$.\n",
    "\n",
    "$y = \\frac{-1 \\pm \\sqrt{17}}{2} = {1.56,-2.56}$\n",
    "\n",
    "There are two primary ways to solve this problem. The first method is a **numeric solution** where the computer uses trial and error methods to get to a solution. Numeric methods are best when the number of equations is large and there is no analytic solution. The second method is a **symbolic solution** that produces an exact solution.\n",
    "\n",
    "![idea](https://apmonitor.com/che263/uploads/Begin_Python/idea.png)\n",
    "\n",
    "### Numeric Solution\n",
    "\n",
    "Large-scale and complex problems require a numeric solution approach such as with `fsolve` or `gekko`. It requires a function that returns the equation error residual. This residual is $f(y)=y^2+y-4$ and is not equal to zero when the value of $y$ is not at the correct solution. An initial guess of `1` or `-2` give a different solution because we are starting close to one or the other.\n",
    "\n",
    "#### Solution with Scipy fsolve"
   ]
  },
  {
   "cell_type": "code",
   "execution_count": 2,
   "metadata": {},
   "outputs": [
    {
     "name": "stdout",
     "output_type": "stream",
     "text": [
      "[1.56155281]\n",
      "[-2.56155281]\n"
     ]
    }
   ],
   "source": [
    "from scipy.optimize import fsolve\n",
    "def f(y):\n",
    "    return y**2+y-4\n",
    "z = fsolve(f,1); print(z)\n",
    "z = fsolve(f,-2); print(z)"
   ]
  },
  {
   "cell_type": "markdown",
   "metadata": {},
   "source": [
    "![gekko](https://apmonitor.com/che263/uploads/Begin_Python/gekko.png)\n",
    "\n",
    "**Solution with Python Gekko**"
   ]
  },
  {
   "cell_type": "code",
   "execution_count": 3,
   "metadata": {},
   "outputs": [
    {
     "name": "stdout",
     "output_type": "stream",
     "text": [
      "[1.5615543876]\n",
      "[-2.5615543876]\n"
     ]
    }
   ],
   "source": [
    "from gekko import GEKKO\n",
    "m = GEKKO(remote=False)\n",
    "y = m.Var(1); m.Equation(y**2+y-4==0)\n",
    "m.solve(disp=False); print(y.value)\n",
    "y.value = -2\n",
    "m.solve(disp=False); print(y.value)"
   ]
  },
  {
   "cell_type": "markdown",
   "metadata": {},
   "source": [
    "![idea](https://apmonitor.com/che263/uploads/Begin_Python/idea.png)\n",
    "\n",
    "### Solve 2 Equations\n",
    "\n",
    "It is similar when there are two equations instead of one.\n",
    "\n",
    "$y=x^2+2x-4$\n",
    "\n",
    "$x=y$\n",
    "\n",
    "The function returns the error residual for each equation as a list. Two initial guesses are needed. This same method extends to more equations as well. Equation solvers can find solutions to problems with thousands or millions of variables.\n",
    "\n",
    "**Solution with Scipy fsolve**"
   ]
  },
  {
   "cell_type": "code",
   "execution_count": 4,
   "metadata": {},
   "outputs": [
    {
     "name": "stdout",
     "output_type": "stream",
     "text": [
      "[1.56155281 1.56155281]\n",
      "[-2.56155281 -2.56155281]\n"
     ]
    }
   ],
   "source": [
    "from scipy.optimize import fsolve\n",
    "def f(z):\n",
    "    x,y = z\n",
    "    return [x-y,y-x**2-2*x+4]\n",
    "z = fsolve(f,[1,1]); print(z)\n",
    "z = fsolve(f,[-2,-2]); print(z)"
   ]
  },
  {
   "cell_type": "markdown",
   "metadata": {},
   "source": [
    "![gekko](https://apmonitor.com/che263/uploads/Begin_Python/gekko.png)\n",
    "\n",
    "**Solution with Python Gekko**"
   ]
  },
  {
   "cell_type": "code",
   "execution_count": 5,
   "metadata": {},
   "outputs": [
    {
     "name": "stdout",
     "output_type": "stream",
     "text": [
      "[1.5615533585] [1.5615533585]\n",
      "[-2.5615543876] [-2.5615543876]\n"
     ]
    }
   ],
   "source": [
    "m = GEKKO(remote=False)\n",
    "x=m.Var(); y = m.Var(1);\n",
    "m.Equations([y==x**2+2*x-4, x==y])\n",
    "m.solve(disp=False)\n",
    "print(x.value, y.value)\n",
    "\n",
    "x.value=-2; y.value=-2\n",
    "m.solve(disp=False)\n",
    "print(x.value, y.value)"
   ]
  },
  {
   "cell_type": "markdown",
   "metadata": {},
   "source": [
    "![expert](https://apmonitor.com/che263/uploads/Begin_Python/expert.png)\n",
    "\n",
    "### Solve 3 Equations\n",
    "\n",
    "$x^2+y^2+z^2=1$\n",
    "\n",
    "$x-2y+3z=0.5$\n",
    "\n",
    "$x+y+z=0$\n",
    "\n",
    "Solve the problem with 3 variables and 3 equations."
   ]
  },
  {
   "cell_type": "code",
   "execution_count": 7,
   "metadata": {},
   "outputs": [
    {
     "name": "stdout",
     "output_type": "stream",
     "text": [
      "-0.7899049747193226 0.21596198988772902 0.5739429848315937\n"
     ]
    }
   ],
   "source": [
    "def f(a):\n",
    "    x,y,z = a\n",
    "    e1 = x**2 + y**2 + z**2 -1\n",
    "    e2 = x - 2*y + 3*z - 0.5\n",
    "    e3 = x+y+z\n",
    "    return [e1,e2,e3]\n",
    "\n",
    "x,y,z = fsolve(f, [1,1,1])\n",
    "print(x,y,z)"
   ]
  },
  {
   "cell_type": "markdown",
   "metadata": {},
   "source": [
    "![idea](https://apmonitor.com/che263/uploads/Begin_Python/idea.png)\n",
    "\n",
    "### Symbolic Solution\n",
    "\n",
    "Small problems may have an analytic solution that can be expressed symbolically. A symbolic math package in Python is `sympy`. The `display` function is also available to print the equations in Jupyter notebooks. It requires the import `from IPython.display import display`."
   ]
  },
  {
   "cell_type": "code",
   "execution_count": 8,
   "metadata": {},
   "outputs": [
    {
     "data": {
      "text/latex": [
       "$\\displaystyle \\left\\{\\left( - \\frac{1}{2} + \\frac{\\sqrt{17}}{2}, \\  - \\frac{1}{2} + \\frac{\\sqrt{17}}{2}\\right), \\left( - \\frac{\\sqrt{17}}{2} - \\frac{1}{2}, \\  - \\frac{\\sqrt{17}}{2} - \\frac{1}{2}\\right)\\right\\}$"
      ],
      "text/plain": [
       "FiniteSet((-1/2 + sqrt(17)/2, -1/2 + sqrt(17)/2), (-sqrt(17)/2 - 1/2, -sqrt(17)/2 - 1/2))"
      ]
     },
     "metadata": {},
     "output_type": "display_data"
    }
   ],
   "source": [
    "from IPython.display import display\n",
    "import sympy as sym\n",
    "x = sym.Symbol('x')\n",
    "y = sym.Symbol('y')\n",
    "ans = sym.nonlinsolve([x-y, y-x**2-2*x+4], [x,y])\n",
    "display(ans)"
   ]
  },
  {
   "cell_type": "markdown",
   "metadata": {},
   "source": [
    "![expert](https://apmonitor.com/che263/uploads/Begin_Python/expert.png)\n",
    "\n",
    "### Solve 3 Equations Symbolically\n",
    "\n",
    "$x\\,y\\,z=0$\n",
    "\n",
    "$x\\,y=0$\n",
    "\n",
    "$x+5\\,y+z$\n",
    "\n",
    "Solve the problem with 3 variables and 3 equations symbolically. The problem is degenerate (underspecified) so one of the variables will appear in the solution because there are an infinite set."
   ]
  },
  {
   "cell_type": "code",
   "execution_count": 10,
   "metadata": {},
   "outputs": [
    {
     "data": {
      "text/latex": [
       "$\\displaystyle \\left\\{\\left( 0, \\  - \\frac{z}{5}, \\  z\\right), \\left( - z, \\  0, \\  z\\right)\\right\\}$"
      ],
      "text/plain": [
       "FiniteSet((0, -z/5, z), (-z, 0, z))"
      ]
     },
     "metadata": {},
     "output_type": "display_data"
    }
   ],
   "source": [
    "x = sym.Symbol('x')\n",
    "y = sym.Symbol('y')\n",
    "z = sym.Symbol('z')\n",
    "ans = sym.nonlinsolve([x*y*z, x*y, x+5*y + z], [x,y,z])\n",
    "display(ans)"
   ]
  },
  {
   "cell_type": "markdown",
   "metadata": {},
   "source": [
    "![idea](https://apmonitor.com/che263/uploads/Begin_Python/idea.png)\n",
    "\n",
    "### Linear Equations\n",
    "\n",
    "Linear equations are also solved in Python but have efficient methods such as `x = np.linalg.solve(A,b)` to solve $A x = b$ equations with matrix $A$ and vectors $x$ and $b$.\n",
    "\n",
    "$A = \\begin{bmatrix}3 & 2\\\\ 1 & 2 \\end{bmatrix} \\quad b = \\begin{bmatrix}1 \\\\ 0 \\end{bmatrix}$"
   ]
  },
  {
   "cell_type": "code",
   "execution_count": 11,
   "metadata": {},
   "outputs": [
    {
     "name": "stdout",
     "output_type": "stream",
     "text": [
      "[ 0.5  -0.25]\n"
     ]
    }
   ],
   "source": [
    "import numpy as np\n",
    "A = np.array([[3,2],[1,2]])\n",
    "b = np.array([1,0])\n",
    "\n",
    "x = np.linalg.solve(A,b)\n",
    "print(x)"
   ]
  },
  {
   "cell_type": "markdown",
   "metadata": {},
   "source": [
    "A symbolic solution to this set of linear equations is also available using the `sympy` `linsolve` function. If the problem is linear then `linsolve` is preferred because it is more efficient than `nonlinsolve` but it can solve both."
   ]
  },
  {
   "cell_type": "code",
   "execution_count": 12,
   "metadata": {},
   "outputs": [
    {
     "name": "stdout",
     "output_type": "stream",
     "text": [
      "{(1/2, -1/4)}\n"
     ]
    }
   ],
   "source": [
    "import sympy as sym\n",
    "x, y = sym.symbols('x y')\n",
    "ans = sym.linsolve([3*x + 2*y - 1, x + 2*y], (x, y))\n",
    "sym.pprint(ans)"
   ]
  },
  {
   "cell_type": "markdown",
   "metadata": {},
   "source": [
    "![idea](https://apmonitor.com/che263/uploads/Begin_Python/idea.png)\n",
    "\n",
    "### Optimization\n",
    "\n",
    "When there are more variables than equations, the problem is underspecified and can't be solved with an equation solver such as `fsolve` (for linear or nonlinear) or `linalg.solve` (just for linear problems). Additional information is needed to guide the selection of the extra variables. An objective function $J(x)$ is one way to specify the problem so that a unique solution exists. The objective is to minimize $x_1 x_4 \\left(x_1 + x_2 + x_3\\right) + x_3$. The two equations guide the selection of two variables with inequality $\\left(x_1 x_2 x_3 x_4 \\ge 25\\right)$ and equality $\\left(x_1^2 + x_2^2 + x_3^2 + x_4^2 = 40\\right)$ constraints. All four variables must be between `1` (lower bound) and `5` (upper bound).\n",
    "\n",
    "$\\quad \\min x_1 x_4 \\left(x_1 + x_2 + x_3\\right) + x_3$\n",
    "\n",
    "$\\quad \\mathrm{s.t.} \\quad x_1 x_2 x_3 x_4 \\ge 25$\n",
    "\n",
    "$\\quad x_1^2 + x_2^2 + x_3^2 + x_4^2 = 40$\n",
    "\n",
    "$\\quad 1\\le x_1, x_2, x_3, x_4 \\le 5$\n",
    "\n",
    "with initial guess:\n",
    "\n",
    "$\\quad x_0 = (1,5,5,1)$\n",
    "\n",
    "Additional information on optimization is given in the [Design Optimization Course](https://apmonitor.com/me575) and in the [Design Optimization Book](https://apmonitor.com/me575/index.php/Main/BookChapters). The first solution method is with `scipy.optimize.minimize`. Solvers in this package work well for moderate sized problems with black box models where an objective function is available through a function call."
   ]
  },
  {
   "cell_type": "code",
   "execution_count": 13,
   "metadata": {},
   "outputs": [
    {
     "name": "stdout",
     "output_type": "stream",
     "text": [
      "Final Objective: 17.01401724563517\n",
      "Solution\n",
      "x1 = 1.0\n",
      "x2 = 4.742996096883977\n",
      "x3 = 3.8211546234095715\n",
      "x4 = 1.379407645075325\n"
     ]
    }
   ],
   "source": [
    "import numpy as np\n",
    "from scipy.optimize import minimize\n",
    "\n",
    "def objective(x):\n",
    "    return x[0]*x[3]*(x[0]+x[1]+x[2])+x[2]\n",
    "\n",
    "def constraint1(x):\n",
    "    return x[0]*x[1]*x[2]*x[3]-25.0\n",
    "\n",
    "def constraint2(x):\n",
    "    sum_eq = 40.0\n",
    "    for i in range(4):\n",
    "        sum_eq = sum_eq - x[i]**2\n",
    "    return sum_eq\n",
    "\n",
    "# initial guesses\n",
    "n = 4\n",
    "x0 = np.zeros(n)\n",
    "x0[0] = 1.0\n",
    "x0[1] = 5.0\n",
    "x0[2] = 5.0\n",
    "x0[3] = 1.0\n",
    "\n",
    "# optimize\n",
    "b = (1.0,5.0)\n",
    "bnds = (b, b, b, b)\n",
    "con1 = {'type': 'ineq', 'fun': constraint1} \n",
    "con2 = {'type': 'eq', 'fun': constraint2}\n",
    "cons = ([con1,con2])\n",
    "solution = minimize(objective,x0,method='SLSQP',\\\n",
    "                    bounds=bnds,constraints=cons)\n",
    "x = solution.x\n",
    "\n",
    "# show final objective\n",
    "print('Final Objective: ' + str(objective(x)))\n",
    "\n",
    "# print solution\n",
    "print('Solution')\n",
    "print('x1 = ' + str(x[0]))\n",
    "print('x2 = ' + str(x[1]))\n",
    "print('x3 = ' + str(x[2]))\n",
    "print('x4 = ' + str(x[3]))"
   ]
  },
  {
   "cell_type": "markdown",
   "metadata": {},
   "source": [
    "![gekko](https://apmonitor.com/che263/uploads/Begin_Python/gekko.png)\n",
    "\n",
    "### Optimization with Gekko\n",
    "\n",
    "[Python Gekko](https://gekko.readthedocs.io/en/latest/) also solves the problem and uses automatic differentiation and gradient-based solvers such as `APOPT` or `IPOPT` to find a solution. This solution method is better for large-scale problems. [Additional tutorials on Gekko](https://apmonitor.com/wiki/index.php/Main/GekkoPythonOptimization) show how to solve other types of optimization problems."
   ]
  },
  {
   "cell_type": "code",
   "execution_count": 14,
   "metadata": {},
   "outputs": [
    {
     "name": "stdout",
     "output_type": "stream",
     "text": [
      "Final Objective: 17.014017289\n",
      "Solution\n",
      "x1: [1.0]\n",
      "x2: [4.742999637]\n",
      "x3: [3.8211499845]\n",
      "x4: [1.3794082931]\n"
     ]
    }
   ],
   "source": [
    "from gekko import GEKKO\n",
    "m = GEKKO(remote=False)\n",
    "\n",
    "# initialize variables\n",
    "x1,x2,x3,x4 = [m.Var(lb=1, ub=5) for i in range(4)]\n",
    "\n",
    "# initial values\n",
    "x1.value = 1\n",
    "x2.value = 5\n",
    "x3.value = 5\n",
    "x4.value = 1\n",
    "\n",
    "# Equations\n",
    "m.Equation(x1*x2*x3*x4>=25)\n",
    "m.Equation(x1**2+x2**2+x3**2+x4**2==40)\n",
    "\n",
    "# Objective\n",
    "m.Obj(x1*x4*(x1+x2+x3)+x3)\n",
    "\n",
    "# Solve\n",
    "m.solve(disp=False)\n",
    "\n",
    "# Final objective\n",
    "print('Final Objective: ' + str(m.options.objfcnval))\n",
    "\n",
    "# Print solution\n",
    "print('Solution')\n",
    "print('x1: ' + str(x1.value))\n",
    "print('x2: ' + str(x2.value))\n",
    "print('x3: ' + str(x3.value))\n",
    "print('x4: ' + str(x4.value))"
   ]
  },
  {
   "cell_type": "markdown",
   "metadata": {},
   "source": [
    "### TCLab Activity\n",
    "\n",
    "![expert](https://apmonitor.com/che263/uploads/Begin_Python/expert.png)\n",
    "\n",
    "### Data Collection\n",
    "\n",
    "![connections](https://apmonitor.com/che263/uploads/Begin_Python/connections.png)\n",
    "\n",
    "Turn on heater 1 to 100% and record $T_1$ every 10 seconds for 3 minutes. The data should include a total of 19 data points for each temperature sensor and the recording time, starting at zero. Make a note of the temperature points at 0, 90, and 180 seconds."
   ]
  },
  {
   "cell_type": "code",
   "execution_count": 6,
   "metadata": {},
   "outputs": [
    {
     "name": "stdout",
     "output_type": "stream",
     "text": [
      "TCLab version 0.4.9\n",
      "Arduino Leonardo connected on port /dev/ttyACM1 at 115200 baud.\n",
      "TCLab Firmware 2.0.1 Arduino Leonardo/Micro.\n",
      "TCLab disconnected successfully.\n"
     ]
    }
   ],
   "source": [
    "import tclab\n",
    "import time\n",
    "import numpy as np\n",
    "\n",
    "n=19\n",
    "tm = np.linspace(0,180,19)\n",
    "T1 = []\n",
    "T2 = []\n",
    "with tclab.TCLab() as lab:\n",
    "    lab.Q1(100)\n",
    "    for i in range(n):\n",
    "        T1.append(lab.T1)\n",
    "        T2.append(lab.T2)\n",
    "        time.sleep(10)\n"
   ]
  },
  {
   "cell_type": "code",
   "execution_count": 7,
   "metadata": {},
   "outputs": [
    {
     "name": "stdout",
     "output_type": "stream",
     "text": [
      "0.0 90.0 180.0\n",
      "55.381 67.627 78.906\n",
      "39.944 38.043 40.879\n"
     ]
    }
   ],
   "source": [
    "print(tm[0],tm[9],tm[18])\n",
    "print(T1[0],T1[9],T1[18])\n",
    "print(T2[0],T2[9],T2[18])"
   ]
  },
  {
   "cell_type": "markdown",
   "metadata": {},
   "source": [
    "![expert](https://apmonitor.com/che263/uploads/Begin_Python/expert.png)\n",
    "\n",
    "### Linear Equations\n",
    "\n",
    "Three points are required to specify a quadratic polynomial of the form $y =a_0 + a_1 \\; x + a_2 \\; x^2$. Create a quadratic regression of $T_2$ by using only the first, middle, and last data points. Suppose these were the following data points for $T_2$:\n",
    "\n",
    "| Time (sec) | Temperature (°C)  |\n",
    "|------|------|\n",
    "| 0    | 23.0 |\n",
    "| 90    | 33.0 |\n",
    "| 180    | 43.0 |\n",
    "\n",
    "Solve the linear regression as a set of three equations that are derived by plugging in the three data points to the polynomial equation to create three separate equations with $y=T_2$ and $x=time$.\n",
    "\n",
    "$\\quad a_0 + a_1 \\; 0 + a_2 \\; 0^2 = 23.0$\n",
    "\n",
    "$\\quad a_0 + a_1 \\; 90 + a_2 \\; 90^2 = 33.0$\n",
    "\n",
    "$\\quad a_0 + a_1 \\; 180 + a_2 \\; 180^2 = 43.0$\n",
    "\n",
    "In matrix form, the set of linear equations become: \n",
    "\n",
    "$\\quad \\begin{bmatrix}1 & 0 & 0 \\\\ 1 & 90 & 90^2 \\\\ 1 & 180 & 180^2 \\end{bmatrix}\\begin{bmatrix}a_0\\\\a_1\\\\a_2\\end{bmatrix} = \\begin{bmatrix}23.0\\\\33.0\\\\43.0\\end{bmatrix}$\n",
    "\n",
    "Solve this set of equations for the quadratic parameters $a_0$, $a_1$, and $a_2$ with the data collected at the beginning of the TCLab activity. Plot the quadratic fit with the data to ensure that the curve goes through the three specified data points."
   ]
  },
  {
   "cell_type": "code",
   "execution_count": 8,
   "metadata": {},
   "outputs": [
    {
     "name": "stdout",
     "output_type": "stream",
     "text": [
      "[39.944 38.043 40.879]\n"
     ]
    },
    {
     "data": {
      "text/plain": [
       "[<matplotlib.lines.Line2D at 0x7f4d687b03d0>]"
      ]
     },
     "execution_count": 8,
     "metadata": {},
     "output_type": "execute_result"
    },
    {
     "data": {
      "image/png": "[encoded data removed]",
      "text/plain": [
       "<Figure size 432x288 with 1 Axes>"
      ]
     },
     "metadata": {
      "needs_background": "light"
     },
     "output_type": "display_data"
    }
   ],
   "source": [
    "import matplotlib.pyplot as plt\n",
    "M = np.array([[1,0,0],[1,90,90**2],[1,180,180**2]])\n",
    "\n",
    "b = np.array([T2[0],T2[9], T2[18]])\n",
    "# b = np.array([23,33,43])\n",
    "print(b)\n",
    "\n",
    "a = np.flip(np.linalg.solve(M,b))\n",
    "\n",
    "\n",
    "plt.plot(tm, T2, 'ro')\n",
    "plt.plot(tm,np.polyval(a, tm), 'k--')"
   ]
  },
  {
   "cell_type": "markdown",
   "metadata": {},
   "source": [
    "![expert](https://apmonitor.com/che263/uploads/Begin_Python/expert.png)\n",
    "\n",
    "### Nonlinear Equations\n",
    "\n",
    "Fit the $T_1$ data to a nonlinear correlation using only three data points.\n",
    "\n",
    "$\\quad T_1 = a + b \\exp{(c \\, time)}$\n",
    "\n",
    "Three points are required to uniquely specify a model with three parameters. When there are more than the minimum required number of points, a least squares regression is typically performed to minimize the squared error between the measured and predicted values. For this exercise, use only 3 points (first, middle, last) of the $T_1$ data. Suppose these were the following data points for $T_1$:\n",
    "\n",
    "| Time (sec) | Temperature (°C)  |\n",
    "|------|------|\n",
    "| 0    | 22.0 |\n",
    "| 90    | 42.0 |\n",
    "| 180    | 52.0 |\n",
    "\n",
    "Solve for the three parameters from the three equations that exactly intersect the required data points.\n",
    "\n",
    "$\\quad 22.0 = a + b \\exp{(c \\, 0)}$\n",
    "\n",
    "$\\quad 42.0 = a + b \\exp{(c \\, 90.3)}$\n",
    "\n",
    "$\\quad 52.0 = a + b \\exp{(c \\, 180.5)}$\n",
    "\n",
    "Solve this set of equations for the unknown parameters $a$, $b$, and $c$ with the data collected at the beginning of this notebook. Use guess values of $a=100$, $b=-100$, and $c=-0.01$. Plot the nonlinear fit with the data to ensure that the curve goes through the three specified data points. Add appropriate labels to the plot."
   ]
  },
  {
   "cell_type": "code",
   "execution_count": 10,
   "metadata": {},
   "outputs": [
    {
     "name": "stdout",
     "output_type": "stream",
     "text": [
      "55.381 2.0494423312009295e-18 1.0000000000089497\n"
     ]
    }
   ],
   "source": [
    "from scipy.optimize import fsolve\n",
    "def f(z):\n",
    "    a,b,c = z\n",
    "    return [T1[i] - a -b*np.exp(c*tm[i]) for i in [0,9,18]]\n",
    "\n",
    "a,b,c = fsolve(f, [1,1,1])\n",
    "print(a,b,c)"
   ]
  },
  {
   "cell_type": "code",
   "execution_count": null,
   "metadata": {},
   "outputs": [],
   "source": []
  }
 ],
 "metadata": {
  "kernelspec": {
   "display_name": "Python 3",
   "language": "python",
   "name": "python3"
  },
  "language_info": {
   "codemirror_mode": {
    "name": "ipython",
    "version": 3
   },
   "file_extension": ".py",
   "mimetype": "text/x-python",
   "name": "python",
   "nbconvert_exporter": "python",
   "pygments_lexer": "ipython3",
   "version": "3.8.10"
  }
 },
 "nbformat": 4,
 "nbformat_minor": 2
}
