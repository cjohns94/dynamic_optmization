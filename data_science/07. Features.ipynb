{
 "cells": [
  {
   "cell_type": "markdown",
   "metadata": {},
   "source": [
    "## 7. Features\n",
    "\n",
    "[Data Science Playlist on YouTube](https://www.youtube.com/watch?v=aNVkTrCS6lE&list=PLLBUgWXdTBDg1Qgmwt4jKtVn9BWh5-zgy)\n",
    "[![Python Data Science](https://apmonitor.com/che263/uploads/Begin_Python/DataScience07.png)](https://www.youtube.com/watch?v=aNVkTrCS6lE&list=PLLBUgWXdTBDg1Qgmwt4jKtVn9BWh5-zgy \"Python Data Science\")\n",
    "\n",
    "**Classification** predicts *discrete labels (outcomes)* such as `yes`/`no`, `True`/`False`, or any number of discrete levels such as a letter from text recognition. An example of classification is to suggest a movie you will want to watch next (label) based on your prior viewing history (feature). **Regression** is different than classification with continuous outcomes such as any floating point number in a range. An example of regression is to build a correlation of the temperature of a pan of water (label) based on the time it has been heating (feature). The temperature values are continuous while the next movie is one of many discrete options.\n",
    "\n",
    "![list](https://apmonitor.com/che263/uploads/Begin_Python/list.png)\n",
    "\n",
    "Features are input values to regression or classification models. The **features are inputs** and **labels are the measured outcomes**. Below is a table of terms with terminology from machine learning, optimization, methods in `GEKKO`, and a description.\n",
    "\n",
    "| **Machine Learning** | **Optimization** | **Gekko Estimation** | **Description** |\n",
    "| ----------- | ----------- | ----------- | ----------- |\n",
    "| Loss | Objective Function | `m.Minimize()` | The mathematical quantity that represents the difference between the predicted and measured outcomes |\n",
    "| Weights | Adjustable Parameters | Fixed Values (`m.FV()`) with `STATUS=1` | Adjustable values to minimize the loss function |\n",
    "| Label | Measured Outcome | Controlled Variable (`m.CV()`) with `FSTATUS=1` | Measurements of the predicted system output |\n",
    "| Feature | Measured Input | Parameter (`m.Param()`) | Input measurements that predict the outcome label |\n",
    "| Train | Optimize | Solve (`m.solve()`) | Adjust the unknown parameters (weights) to minimize the objective (loss) function |\n",
    "| Test | Evaluate | Solve with `STATUS=0` for `m.FV()` | Predict the labels with the tuned model to evaluate the performance of the classifier or regressor | \n",
    "| Regressor or Classifier | Model | `m = GEKKO()` | Mathematical equations and parameters that use feature inputs to predict an outcome label |\n",
    "\n",
    "![idea](https://apmonitor.com/che263/uploads/Begin_Python/idea.png)\n",
    "\n",
    "Selection and creation of features is an important step in machine learning. Too many features may cause the classifier or regressor to increase the chances of predicting poorly. With many features, one of the inputs may be a bad value and cause a bad prediction. More features also take longer for data curation, training, and prediction. This lesson shows how to derive and select features for regression and classification."
   ]
  },
  {
   "cell_type": "markdown",
   "metadata": {},
   "source": [
    "![analyze](https://apmonitor.com/che263/uploads/Begin_Python/analyze.png)\n",
    "\n",
    "### Identify Features and Label\n",
    "\n",
    "The first step in building a regressor or classifier is to determine what measurements (input features and output label) are available. You can select the data columns as features or generate [derived features](https://towardsdatascience.com/automated-feature-engineering-in-python-99baf11cc219) with a package such as [`Featuretools`](https://towardsdatascience.com/why-automated-feature-engineering-will-change-the-way-you-do-machine-learning-5c15bf188b96).\n",
    "\n",
    "You may want to use stock market data to give you an indicator on when to buy (`1`) or sell (`-1`). This indicator is a label. Import the daily stock data for Google for 23 days.  "
   ]
  },
  {
   "cell_type": "code",
   "execution_count": 1,
   "metadata": {},
   "outputs": [
    {
     "data": {
      "text/html": [
       "<div>\n",
       "<style scoped>\n",
       "    .dataframe tbody tr th:only-of-type {\n",
       "        vertical-align: middle;\n",
       "    }\n",
       "\n",
       "    .dataframe tbody tr th {\n",
       "        vertical-align: top;\n",
       "    }\n",
       "\n",
       "    .dataframe thead th {\n",
       "        text-align: right;\n",
       "    }\n",
       "</style>\n",
       "<table border=\"1\" class=\"dataframe\">\n",
       "  <thead>\n",
       "    <tr style=\"text-align: right;\">\n",
       "      <th></th>\n",
       "      <th>Date</th>\n",
       "      <th>Open</th>\n",
       "      <th>High</th>\n",
       "      <th>Low</th>\n",
       "      <th>Close</th>\n",
       "      <th>Volume</th>\n",
       "    </tr>\n",
       "  </thead>\n",
       "  <tbody>\n",
       "    <tr>\n",
       "      <th>0</th>\n",
       "      <td>2017-09-11</td>\n",
       "      <td>934.250000</td>\n",
       "      <td>938.380005</td>\n",
       "      <td>926.919983</td>\n",
       "      <td>929.080017</td>\n",
       "      <td>1267000</td>\n",
       "    </tr>\n",
       "    <tr>\n",
       "      <th>1</th>\n",
       "      <td>2017-09-12</td>\n",
       "      <td>932.590027</td>\n",
       "      <td>933.479980</td>\n",
       "      <td>923.861023</td>\n",
       "      <td>932.070007</td>\n",
       "      <td>1134400</td>\n",
       "    </tr>\n",
       "    <tr>\n",
       "      <th>2</th>\n",
       "      <td>2017-09-13</td>\n",
       "      <td>930.659973</td>\n",
       "      <td>937.250000</td>\n",
       "      <td>929.859985</td>\n",
       "      <td>935.090027</td>\n",
       "      <td>1102600</td>\n",
       "    </tr>\n",
       "    <tr>\n",
       "      <th>3</th>\n",
       "      <td>2017-09-14</td>\n",
       "      <td>931.250000</td>\n",
       "      <td>932.770020</td>\n",
       "      <td>924.000000</td>\n",
       "      <td>925.109985</td>\n",
       "      <td>1397600</td>\n",
       "    </tr>\n",
       "    <tr>\n",
       "      <th>4</th>\n",
       "      <td>2017-09-15</td>\n",
       "      <td>924.659973</td>\n",
       "      <td>926.489990</td>\n",
       "      <td>916.359985</td>\n",
       "      <td>920.289978</td>\n",
       "      <td>2505400</td>\n",
       "    </tr>\n",
       "  </tbody>\n",
       "</table>\n",
       "</div>"
      ],
      "text/plain": [
       "         Date        Open        High         Low       Close   Volume\n",
       "0  2017-09-11  934.250000  938.380005  926.919983  929.080017  1267000\n",
       "1  2017-09-12  932.590027  933.479980  923.861023  932.070007  1134400\n",
       "2  2017-09-13  930.659973  937.250000  929.859985  935.090027  1102600\n",
       "3  2017-09-14  931.250000  932.770020  924.000000  925.109985  1397600\n",
       "4  2017-09-15  924.659973  926.489990  916.359985  920.289978  2505400"
      ]
     },
     "execution_count": 1,
     "metadata": {},
     "output_type": "execute_result"
    }
   ],
   "source": [
    "import pandas as pd\n",
    "import numpy as np\n",
    "url = 'http://apmonitor.com/che263/uploads/Main/goog.csv'\n",
    "data = pd.read_csv(url)\n",
    "data = data.drop(columns=['Adj Close'])\n",
    "data.head()"
   ]
  },
  {
   "cell_type": "markdown",
   "metadata": {},
   "source": [
    "The features may be any of the categories that may useful in predicting a future stock price change. The `Open`, difference in `High` and `Low` (`Volitility`), difference in `Close` and `Open` (`Change`), and the `Volume` of trades are features. The `.diff()` calculates the difference and `.fillna(0)` replaces any `NaN` with zero. Add any other additional features that you would like to consider."
   ]
  },
  {
   "cell_type": "code",
   "execution_count": 3,
   "metadata": {},
   "outputs": [
    {
     "data": {
      "text/html": [
       "<div>\n",
       "<style scoped>\n",
       "    .dataframe tbody tr th:only-of-type {\n",
       "        vertical-align: middle;\n",
       "    }\n",
       "\n",
       "    .dataframe tbody tr th {\n",
       "        vertical-align: top;\n",
       "    }\n",
       "\n",
       "    .dataframe thead th {\n",
       "        text-align: right;\n",
       "    }\n",
       "</style>\n",
       "<table border=\"1\" class=\"dataframe\">\n",
       "  <thead>\n",
       "    <tr style=\"text-align: right;\">\n",
       "      <th></th>\n",
       "      <th>Date</th>\n",
       "      <th>Open</th>\n",
       "      <th>High</th>\n",
       "      <th>Low</th>\n",
       "      <th>Close</th>\n",
       "      <th>Volume</th>\n",
       "      <th>Volatility</th>\n",
       "      <th>Change</th>\n",
       "    </tr>\n",
       "  </thead>\n",
       "  <tbody>\n",
       "    <tr>\n",
       "      <th>0</th>\n",
       "      <td>2017-09-11</td>\n",
       "      <td>934.250000</td>\n",
       "      <td>938.380005</td>\n",
       "      <td>926.919983</td>\n",
       "      <td>929.080017</td>\n",
       "      <td>1267000</td>\n",
       "      <td>0.000000</td>\n",
       "      <td>0.000000</td>\n",
       "    </tr>\n",
       "    <tr>\n",
       "      <th>1</th>\n",
       "      <td>2017-09-12</td>\n",
       "      <td>932.590027</td>\n",
       "      <td>933.479980</td>\n",
       "      <td>923.861023</td>\n",
       "      <td>932.070007</td>\n",
       "      <td>1134400</td>\n",
       "      <td>-1.841065</td>\n",
       "      <td>4.649963</td>\n",
       "    </tr>\n",
       "    <tr>\n",
       "      <th>2</th>\n",
       "      <td>2017-09-13</td>\n",
       "      <td>930.659973</td>\n",
       "      <td>937.250000</td>\n",
       "      <td>929.859985</td>\n",
       "      <td>935.090027</td>\n",
       "      <td>1102600</td>\n",
       "      <td>-2.228942</td>\n",
       "      <td>4.950074</td>\n",
       "    </tr>\n",
       "    <tr>\n",
       "      <th>3</th>\n",
       "      <td>2017-09-14</td>\n",
       "      <td>931.250000</td>\n",
       "      <td>932.770020</td>\n",
       "      <td>924.000000</td>\n",
       "      <td>925.109985</td>\n",
       "      <td>1397600</td>\n",
       "      <td>1.380005</td>\n",
       "      <td>-10.570069</td>\n",
       "    </tr>\n",
       "    <tr>\n",
       "      <th>4</th>\n",
       "      <td>2017-09-15</td>\n",
       "      <td>924.659973</td>\n",
       "      <td>926.489990</td>\n",
       "      <td>916.359985</td>\n",
       "      <td>920.289978</td>\n",
       "      <td>2505400</td>\n",
       "      <td>1.359985</td>\n",
       "      <td>1.770020</td>\n",
       "    </tr>\n",
       "  </tbody>\n",
       "</table>\n",
       "</div>"
      ],
      "text/plain": [
       "         Date        Open        High         Low       Close   Volume  \\\n",
       "0  2017-09-11  934.250000  938.380005  926.919983  929.080017  1267000   \n",
       "1  2017-09-12  932.590027  933.479980  923.861023  932.070007  1134400   \n",
       "2  2017-09-13  930.659973  937.250000  929.859985  935.090027  1102600   \n",
       "3  2017-09-14  931.250000  932.770020  924.000000  925.109985  1397600   \n",
       "4  2017-09-15  924.659973  926.489990  916.359985  920.289978  2505400   \n",
       "\n",
       "   Volatility     Change  \n",
       "0    0.000000   0.000000  \n",
       "1   -1.841065   4.649963  \n",
       "2   -2.228942   4.950074  \n",
       "3    1.380005 -10.570069  \n",
       "4    1.359985   1.770020  "
      ]
     },
     "execution_count": 3,
     "metadata": {},
     "output_type": "execute_result"
    }
   ],
   "source": [
    "features = ['Open','Volatility','Change','Volume']\n",
    "data['Volatility'] = (data['High']-data['Low']).diff().fillna(0)\n",
    "data['Change'] = (data['Close']-data['Open']).diff().fillna(0)\n",
    "# any other features?\n",
    "data.head()"
   ]
  },
  {
   "cell_type": "markdown",
   "metadata": {},
   "source": [
    "A label (outcome) for classification is the sign (`+` or `-`) of the close price from one day to the next. The `np.roll( ,-1)` shifts all the values up by one to indicate the change for the next day on that same row. The `np.sign()` returns the sign of the difference as an indicator of buy or sell and `.dropna()` drops the last row that is `NaN`."
   ]
  },
  {
   "cell_type": "code",
   "execution_count": 4,
   "metadata": {},
   "outputs": [
    {
     "data": {
      "text/html": [
       "<div>\n",
       "<style scoped>\n",
       "    .dataframe tbody tr th:only-of-type {\n",
       "        vertical-align: middle;\n",
       "    }\n",
       "\n",
       "    .dataframe tbody tr th {\n",
       "        vertical-align: top;\n",
       "    }\n",
       "\n",
       "    .dataframe thead th {\n",
       "        text-align: right;\n",
       "    }\n",
       "</style>\n",
       "<table border=\"1\" class=\"dataframe\">\n",
       "  <thead>\n",
       "    <tr style=\"text-align: right;\">\n",
       "      <th></th>\n",
       "      <th>Date</th>\n",
       "      <th>Open</th>\n",
       "      <th>High</th>\n",
       "      <th>Low</th>\n",
       "      <th>Close</th>\n",
       "      <th>Volume</th>\n",
       "      <th>Volatility</th>\n",
       "      <th>Change</th>\n",
       "      <th>Close_diff</th>\n",
       "      <th>Buy/Sell</th>\n",
       "    </tr>\n",
       "  </thead>\n",
       "  <tbody>\n",
       "    <tr>\n",
       "      <th>0</th>\n",
       "      <td>2017-09-11</td>\n",
       "      <td>934.250000</td>\n",
       "      <td>938.380005</td>\n",
       "      <td>926.919983</td>\n",
       "      <td>929.080017</td>\n",
       "      <td>1267000</td>\n",
       "      <td>0.000000</td>\n",
       "      <td>0.000000</td>\n",
       "      <td>2.989990</td>\n",
       "      <td>1.0</td>\n",
       "    </tr>\n",
       "    <tr>\n",
       "      <th>1</th>\n",
       "      <td>2017-09-12</td>\n",
       "      <td>932.590027</td>\n",
       "      <td>933.479980</td>\n",
       "      <td>923.861023</td>\n",
       "      <td>932.070007</td>\n",
       "      <td>1134400</td>\n",
       "      <td>-1.841065</td>\n",
       "      <td>4.649963</td>\n",
       "      <td>3.020020</td>\n",
       "      <td>1.0</td>\n",
       "    </tr>\n",
       "    <tr>\n",
       "      <th>2</th>\n",
       "      <td>2017-09-13</td>\n",
       "      <td>930.659973</td>\n",
       "      <td>937.250000</td>\n",
       "      <td>929.859985</td>\n",
       "      <td>935.090027</td>\n",
       "      <td>1102600</td>\n",
       "      <td>-2.228942</td>\n",
       "      <td>4.950074</td>\n",
       "      <td>-9.980042</td>\n",
       "      <td>-1.0</td>\n",
       "    </tr>\n",
       "    <tr>\n",
       "      <th>3</th>\n",
       "      <td>2017-09-14</td>\n",
       "      <td>931.250000</td>\n",
       "      <td>932.770020</td>\n",
       "      <td>924.000000</td>\n",
       "      <td>925.109985</td>\n",
       "      <td>1397600</td>\n",
       "      <td>1.380005</td>\n",
       "      <td>-10.570069</td>\n",
       "      <td>-4.820007</td>\n",
       "      <td>-1.0</td>\n",
       "    </tr>\n",
       "    <tr>\n",
       "      <th>4</th>\n",
       "      <td>2017-09-15</td>\n",
       "      <td>924.659973</td>\n",
       "      <td>926.489990</td>\n",
       "      <td>916.359985</td>\n",
       "      <td>920.289978</td>\n",
       "      <td>2505400</td>\n",
       "      <td>1.359985</td>\n",
       "      <td>1.770020</td>\n",
       "      <td>-5.289978</td>\n",
       "      <td>-1.0</td>\n",
       "    </tr>\n",
       "  </tbody>\n",
       "</table>\n",
       "</div>"
      ],
      "text/plain": [
       "         Date        Open        High         Low       Close   Volume  \\\n",
       "0  2017-09-11  934.250000  938.380005  926.919983  929.080017  1267000   \n",
       "1  2017-09-12  932.590027  933.479980  923.861023  932.070007  1134400   \n",
       "2  2017-09-13  930.659973  937.250000  929.859985  935.090027  1102600   \n",
       "3  2017-09-14  931.250000  932.770020  924.000000  925.109985  1397600   \n",
       "4  2017-09-15  924.659973  926.489990  916.359985  920.289978  2505400   \n",
       "\n",
       "   Volatility     Change  Close_diff  Buy/Sell  \n",
       "0    0.000000   0.000000    2.989990       1.0  \n",
       "1   -1.841065   4.649963    3.020020       1.0  \n",
       "2   -2.228942   4.950074   -9.980042      -1.0  \n",
       "3    1.380005 -10.570069   -4.820007      -1.0  \n",
       "4    1.359985   1.770020   -5.289978      -1.0  "
      ]
     },
     "execution_count": 4,
     "metadata": {},
     "output_type": "execute_result"
    }
   ],
   "source": [
    "data['Close_diff'] = np.roll(data['Close'].diff(),-1)\n",
    "data=data.dropna()\n",
    "label = ['Buy/Sell']\n",
    "data['Buy/Sell'] = np.sign(data['Close_diff'])\n",
    "data.head()"
   ]
  },
  {
   "cell_type": "markdown",
   "metadata": {},
   "source": [
    "![power](https://apmonitor.com/che263/uploads/Begin_Python/power.png)\n",
    "\n",
    "### Selecting the Best Features\n",
    "\n",
    "We have now generated a number of features but we want to evaluate which ones are the best predictors of the labeled outcome. There are a variety of methods to evaluate how many features are needed (correlation) and which are the best (selection). The first thing to do is to separate into input `X` and output `y` with data scaling (`0` to `1`)."
   ]
  },
  {
   "cell_type": "code",
   "execution_count": 5,
   "metadata": {},
   "outputs": [
    {
     "data": {
      "text/html": [
       "<div>\n",
       "<style scoped>\n",
       "    .dataframe tbody tr th:only-of-type {\n",
       "        vertical-align: middle;\n",
       "    }\n",
       "\n",
       "    .dataframe tbody tr th {\n",
       "        vertical-align: top;\n",
       "    }\n",
       "\n",
       "    .dataframe thead th {\n",
       "        text-align: right;\n",
       "    }\n",
       "</style>\n",
       "<table border=\"1\" class=\"dataframe\">\n",
       "  <thead>\n",
       "    <tr style=\"text-align: right;\">\n",
       "      <th></th>\n",
       "      <th>Open</th>\n",
       "      <th>Volatility</th>\n",
       "      <th>Change</th>\n",
       "      <th>Volume</th>\n",
       "      <th>Buy/Sell</th>\n",
       "    </tr>\n",
       "  </thead>\n",
       "  <tbody>\n",
       "    <tr>\n",
       "      <th>0</th>\n",
       "      <td>934.250000</td>\n",
       "      <td>0.000000</td>\n",
       "      <td>0.000000</td>\n",
       "      <td>1267000</td>\n",
       "      <td>1.0</td>\n",
       "    </tr>\n",
       "    <tr>\n",
       "      <th>1</th>\n",
       "      <td>932.590027</td>\n",
       "      <td>-1.841065</td>\n",
       "      <td>4.649963</td>\n",
       "      <td>1134400</td>\n",
       "      <td>1.0</td>\n",
       "    </tr>\n",
       "    <tr>\n",
       "      <th>2</th>\n",
       "      <td>930.659973</td>\n",
       "      <td>-2.228942</td>\n",
       "      <td>4.950074</td>\n",
       "      <td>1102600</td>\n",
       "      <td>-1.0</td>\n",
       "    </tr>\n",
       "    <tr>\n",
       "      <th>3</th>\n",
       "      <td>931.250000</td>\n",
       "      <td>1.380005</td>\n",
       "      <td>-10.570069</td>\n",
       "      <td>1397600</td>\n",
       "      <td>-1.0</td>\n",
       "    </tr>\n",
       "    <tr>\n",
       "      <th>4</th>\n",
       "      <td>924.659973</td>\n",
       "      <td>1.359985</td>\n",
       "      <td>1.770020</td>\n",
       "      <td>2505400</td>\n",
       "      <td>-1.0</td>\n",
       "    </tr>\n",
       "  </tbody>\n",
       "</table>\n",
       "</div>"
      ],
      "text/plain": [
       "         Open  Volatility     Change   Volume  Buy/Sell\n",
       "0  934.250000    0.000000   0.000000  1267000       1.0\n",
       "1  932.590027   -1.841065   4.649963  1134400       1.0\n",
       "2  930.659973   -2.228942   4.950074  1102600      -1.0\n",
       "3  931.250000    1.380005 -10.570069  1397600      -1.0\n",
       "4  924.659973    1.359985   1.770020  2505400      -1.0"
      ]
     },
     "execution_count": 5,
     "metadata": {},
     "output_type": "execute_result"
    }
   ],
   "source": [
    "data[features+label].head()"
   ]
  },
  {
   "cell_type": "code",
   "execution_count": 6,
   "metadata": {},
   "outputs": [
    {
     "data": {
      "text/html": [
       "<div>\n",
       "<style scoped>\n",
       "    .dataframe tbody tr th:only-of-type {\n",
       "        vertical-align: middle;\n",
       "    }\n",
       "\n",
       "    .dataframe tbody tr th {\n",
       "        vertical-align: top;\n",
       "    }\n",
       "\n",
       "    .dataframe thead th {\n",
       "        text-align: right;\n",
       "    }\n",
       "</style>\n",
       "<table border=\"1\" class=\"dataframe\">\n",
       "  <thead>\n",
       "    <tr style=\"text-align: right;\">\n",
       "      <th></th>\n",
       "      <th>Open</th>\n",
       "      <th>Volatility</th>\n",
       "      <th>Change</th>\n",
       "      <th>Volume</th>\n",
       "      <th>Buy/Sell</th>\n",
       "    </tr>\n",
       "  </thead>\n",
       "  <tbody>\n",
       "    <tr>\n",
       "      <th>0</th>\n",
       "      <td>0.268936</td>\n",
       "      <td>0.490612</td>\n",
       "      <td>0.434248</td>\n",
       "      <td>0.234185</td>\n",
       "      <td>1.0</td>\n",
       "    </tr>\n",
       "    <tr>\n",
       "      <th>1</th>\n",
       "      <td>0.242410</td>\n",
       "      <td>0.415466</td>\n",
       "      <td>0.567180</td>\n",
       "      <td>0.152186</td>\n",
       "      <td>1.0</td>\n",
       "    </tr>\n",
       "    <tr>\n",
       "      <th>2</th>\n",
       "      <td>0.211569</td>\n",
       "      <td>0.399635</td>\n",
       "      <td>0.575759</td>\n",
       "      <td>0.132521</td>\n",
       "      <td>0.0</td>\n",
       "    </tr>\n",
       "    <tr>\n",
       "      <th>3</th>\n",
       "      <td>0.220997</td>\n",
       "      <td>0.546938</td>\n",
       "      <td>0.132073</td>\n",
       "      <td>0.314947</td>\n",
       "      <td>0.0</td>\n",
       "    </tr>\n",
       "    <tr>\n",
       "      <th>4</th>\n",
       "      <td>0.115692</td>\n",
       "      <td>0.546121</td>\n",
       "      <td>0.484849</td>\n",
       "      <td>1.000000</td>\n",
       "      <td>0.0</td>\n",
       "    </tr>\n",
       "  </tbody>\n",
       "</table>\n",
       "</div>"
      ],
      "text/plain": [
       "       Open  Volatility    Change    Volume  Buy/Sell\n",
       "0  0.268936    0.490612  0.434248  0.234185       1.0\n",
       "1  0.242410    0.415466  0.567180  0.152186       1.0\n",
       "2  0.211569    0.399635  0.575759  0.132521       0.0\n",
       "3  0.220997    0.546938  0.132073  0.314947       0.0\n",
       "4  0.115692    0.546121  0.484849  1.000000       0.0"
      ]
     },
     "execution_count": 6,
     "metadata": {},
     "output_type": "execute_result"
    }
   ],
   "source": [
    "from sklearn.preprocessing import MinMaxScaler\n",
    "s = MinMaxScaler()\n",
    "ds = s.fit_transform(data[features+label])\n",
    "ds = pd.DataFrame(ds,columns=data[features+label].columns)\n",
    "X = ds[features]\n",
    "y = ds[label]\n",
    "ds.head()"
   ]
  },
  {
   "cell_type": "markdown",
   "metadata": {},
   "source": [
    "![idea](https://apmonitor.com/che263/uploads/Begin_Python/idea.png)\n",
    "\n",
    "#### Selection\n",
    "\n",
    "There are statistical tests to select features that strong relationships with the output label. A tool is the scikit-learn `SelectKBest` method with associated statistical tests. This method uses a $\\chi^2$ statistical test for non-negative features to select 10 of the best features for predicting the output."
   ]
  },
  {
   "cell_type": "code",
   "execution_count": 7,
   "metadata": {},
   "outputs": [
    {
     "data": {
      "image/png": "[encoded data removed]",
      "text/plain": [
       "<Figure size 432x288 with 1 Axes>"
      ]
     },
     "metadata": {
      "needs_background": "light"
     },
     "output_type": "display_data"
    }
   ],
   "source": [
    "from sklearn.feature_selection import SelectKBest\n",
    "from sklearn.feature_selection import chi2\n",
    "import matplotlib.pyplot as plt\n",
    "%matplotlib inline\n",
    "bestfeatures = SelectKBest(score_func=chi2, k='all')\n",
    "fit = bestfeatures.fit(X,y)\n",
    "dfscores = pd.DataFrame(fit.scores_)\n",
    "dfcolumns = pd.DataFrame(X.columns)\n",
    "scores = pd.concat([dfcolumns,dfscores],axis=1)\n",
    "scores.columns = ['Specs','Score']\n",
    "scores.index = features\n",
    "scores.plot(kind='bar')\n",
    "plt.show()"
   ]
  },
  {
   "cell_type": "markdown",
   "metadata": {},
   "source": [
    "![expert](https://apmonitor.com/che263/uploads/Begin_Python/expert.png)\n",
    "\n",
    "Based on this information, drop any low scoring features with `.remove()`."
   ]
  },
  {
   "cell_type": "code",
   "execution_count": 8,
   "metadata": {},
   "outputs": [
    {
     "name": "stdout",
     "output_type": "stream",
     "text": [
      "['Open', 'Volatility', 'Change']\n"
     ]
    }
   ],
   "source": [
    "# drop any low scoring features with features.remove('')\n",
    "features.remove('Volume')\n",
    "print(features)"
   ]
  },
  {
   "cell_type": "markdown",
   "metadata": {},
   "source": [
    "![idea](https://apmonitor.com/che263/uploads/Begin_Python/idea.png)\n",
    "\n",
    "#### Feature Importance\n",
    "\n",
    "There is a method that comes with a Tree Based Classifier to give a score for each feature of the data. Higher score correlates to more importance and relevance for predicting the output variable. The results change each analysis due to the stochastic nature of the calculation but `Volitility` is again a factor that typically ranks highest."
   ]
  },
  {
   "cell_type": "code",
   "execution_count": 11,
   "metadata": {},
   "outputs": [
    {
     "data": {
      "image/png": "[encoded data removed]",
      "text/plain": [
       "<Figure size 432x288 with 1 Axes>"
      ]
     },
     "metadata": {
      "needs_background": "light"
     },
     "output_type": "display_data"
    }
   ],
   "source": [
    "from sklearn.ensemble import ExtraTreesClassifier\n",
    "model = ExtraTreesClassifier(n_estimators=100)\n",
    "model.fit(X,np.ravel(y))\n",
    "\n",
    "feat_importances = pd.Series(model.feature_importances_, index=X.columns)\n",
    "feat_importances.nlargest(4).plot(kind='bar')\n",
    "plt.show()"
   ]
  },
  {
   "cell_type": "markdown",
   "metadata": {},
   "source": [
    "![idea](https://apmonitor.com/che263/uploads/Begin_Python/idea.png)\n",
    "\n",
    "#### Correlation Matrix with Heatmap\n",
    "\n",
    "Correlation shows how strongly features are related to each other. A large value, either positive or negative, incidates that the values are correlated. Correlated values mean that one of them may be eliminated because they are providing similar input information. A heatmap is a symmetric visual grid of the correlation matrix. The diagonal is always 1 because each value perfectly correlates to itself. From the heatmap, determine which features are most correlated and may be able to be removed."
   ]
  },
  {
   "cell_type": "code",
   "execution_count": 13,
   "metadata": {},
   "outputs": [
    {
     "data": {
      "image/png": "[encoded data removed]",
      "text/plain": [
       "<Figure size 360x360 with 2 Axes>"
      ]
     },
     "metadata": {
      "needs_background": "light"
     },
     "output_type": "display_data"
    }
   ],
   "source": [
    "import seaborn as sns\n",
    "corrmat = ds.corr()\n",
    "top_features = corrmat.index\n",
    "plt.figure(figsize=(5,5))\n",
    "sns.heatmap(ds[top_features].corr(),annot=True,cmap=\"RdYlGn\")\n",
    "b, t = plt.ylim(); plt.ylim(b+0.5, t-0.5) # addresses issue in matplotlib 3.1.1\n",
    "plt.show()"
   ]
  },
  {
   "cell_type": "markdown",
   "metadata": {},
   "source": [
    "Volume and Open are kind of coorelated (-.5). Volume and Volatility are pretty correlated too. So to solve this, I think we eliminate Volume. "
   ]
  },
  {
   "cell_type": "markdown",
   "metadata": {},
   "source": [
    "![expert](https://apmonitor.com/che263/uploads/Begin_Python/expert.png)\n",
    "\n",
    "### TCLab Activity\n",
    "\n",
    "Consider how you could determine if the TCLab heater is on or off without knowing the `Q1` value. You would likely measure the `T1` temperature and observe if the temperature is rising or falling. However, just observing the temperature and slope is not enough because the temperature continues to rise for 10-20 seconds after the heater is turned off. As a result, you need to calculate the 2nd derivative of the temperature to classify the heater state as on or off. A positive 2nd derivative is another clue that the heater is on. \n",
    "\n",
    "![temperature](https://apmonitor.com/che263/uploads/Begin_Python/temperature.png)\n",
    "\n",
    "In the case of whether the heater is on or off (*measured outcome*), the temperature and derivatives are the *features*. Run the code below to generate temperature data with the heater `on` at 100% or `off` at 0% in 20-30 second intervals for 3 minutes."
   ]
  },
  {
   "cell_type": "code",
   "execution_count": 16,
   "metadata": {},
   "outputs": [
    {
     "name": "stdout",
     "output_type": "stream",
     "text": [
      "Connect TCLab to generate new data\n",
      "Importing data from online source\n"
     ]
    },
    {
     "data": {
      "text/html": [
       "<div>\n",
       "<style scoped>\n",
       "    .dataframe tbody tr th:only-of-type {\n",
       "        vertical-align: middle;\n",
       "    }\n",
       "\n",
       "    .dataframe tbody tr th {\n",
       "        vertical-align: top;\n",
       "    }\n",
       "\n",
       "    .dataframe thead th {\n",
       "        text-align: right;\n",
       "    }\n",
       "</style>\n",
       "<table border=\"1\" class=\"dataframe\">\n",
       "  <thead>\n",
       "    <tr style=\"text-align: right;\">\n",
       "      <th></th>\n",
       "      <th>Time</th>\n",
       "      <th>Q1</th>\n",
       "      <th>Q2</th>\n",
       "      <th>T1</th>\n",
       "      <th>T2</th>\n",
       "    </tr>\n",
       "  </thead>\n",
       "  <tbody>\n",
       "    <tr>\n",
       "      <th>0</th>\n",
       "      <td>0.0</td>\n",
       "      <td>0.0</td>\n",
       "      <td>0.0</td>\n",
       "      <td>16.00</td>\n",
       "      <td>16.06</td>\n",
       "    </tr>\n",
       "    <tr>\n",
       "      <th>1</th>\n",
       "      <td>1.0</td>\n",
       "      <td>0.0</td>\n",
       "      <td>0.0</td>\n",
       "      <td>16.00</td>\n",
       "      <td>16.06</td>\n",
       "    </tr>\n",
       "    <tr>\n",
       "      <th>2</th>\n",
       "      <td>2.0</td>\n",
       "      <td>0.0</td>\n",
       "      <td>0.0</td>\n",
       "      <td>15.94</td>\n",
       "      <td>16.06</td>\n",
       "    </tr>\n",
       "    <tr>\n",
       "      <th>3</th>\n",
       "      <td>3.0</td>\n",
       "      <td>0.0</td>\n",
       "      <td>0.0</td>\n",
       "      <td>16.03</td>\n",
       "      <td>16.06</td>\n",
       "    </tr>\n",
       "    <tr>\n",
       "      <th>4</th>\n",
       "      <td>4.0</td>\n",
       "      <td>0.0</td>\n",
       "      <td>0.0</td>\n",
       "      <td>16.03</td>\n",
       "      <td>16.06</td>\n",
       "    </tr>\n",
       "  </tbody>\n",
       "</table>\n",
       "</div>"
      ],
      "text/plain": [
       "   Time   Q1   Q2     T1     T2\n",
       "0   0.0  0.0  0.0  16.00  16.06\n",
       "1   1.0  0.0  0.0  16.00  16.06\n",
       "2   2.0  0.0  0.0  15.94  16.06\n",
       "3   3.0  0.0  0.0  16.03  16.06\n",
       "4   4.0  0.0  0.0  16.03  16.06"
      ]
     },
     "execution_count": 16,
     "metadata": {},
     "output_type": "execute_result"
    }
   ],
   "source": [
    "# import tclab, time\n",
    "import numpy as np\n",
    "import pandas as pd\n",
    "try:\n",
    "    with tclab.TCLab() as lab:\n",
    "        n = 180; t = np.linspace(0,n-1,n)        \n",
    "        Q1 = np.zeros(n); T1 = np.zeros(n)\n",
    "        Q2 = np.zeros(n); T2 = np.zeros(n)        \n",
    "        Q1[20:41] = 100.0; Q1[60:91] = 100.0\n",
    "        Q1[150:181] = 100.0; Q1[190:206] = 100.0\n",
    "        Q1[220:251] = 100.0; Q1[260:291] = 100.0\n",
    "        print('Time Q1 Q2 T1   T2')\n",
    "        for i in range(180):\n",
    "            T1[i] = lab.T1; T2[i] = lab.T2\n",
    "            lab.Q1(Q1[i])\n",
    "            if i%10==0:\n",
    "                print(int(t[i]),Q1[i],Q2[i],T1[i],T2[i])\n",
    "            time.sleep(1)\n",
    "    data = np.column_stack((t,Q1,Q2,T1,T2))\n",
    "    data7 = pd.DataFrame(data,columns=['Time','Q1','Q2','T1','T2'])\n",
    "    data7.to_csv('07-tclab.csv',index=False)\n",
    "except:\n",
    "    print('Connect TCLab to generate new data')\n",
    "    print('Importing data from online source')\n",
    "    url = 'http://apmonitor.com/do/uploads/Main/tclab_data5.txt'\n",
    "    data7=pd.read_csv(url)\n",
    "\n",
    "data7.head()"
   ]
  },
  {
   "cell_type": "markdown",
   "metadata": {},
   "source": [
    "### Create Features\n",
    "\n",
    "Create three features from the data including the temperature and the derivatives.\n",
    "\n",
    "- Temperature: $T_1$\n",
    "- Temperature derivative: $\\frac{dT_1}{dt}$\n",
    "- Temperature 2nd derivative: $\\frac{d^2T_1}{dt^2}$\n",
    "\n",
    "Add the derivatives as columns in `data7`."
   ]
  },
  {
   "cell_type": "code",
   "execution_count": 21,
   "metadata": {},
   "outputs": [
    {
     "data": {
      "text/html": [
       "<div>\n",
       "<style scoped>\n",
       "    .dataframe tbody tr th:only-of-type {\n",
       "        vertical-align: middle;\n",
       "    }\n",
       "\n",
       "    .dataframe tbody tr th {\n",
       "        vertical-align: top;\n",
       "    }\n",
       "\n",
       "    .dataframe thead th {\n",
       "        text-align: right;\n",
       "    }\n",
       "</style>\n",
       "<table border=\"1\" class=\"dataframe\">\n",
       "  <thead>\n",
       "    <tr style=\"text-align: right;\">\n",
       "      <th></th>\n",
       "      <th>Time</th>\n",
       "      <th>Q1</th>\n",
       "      <th>Q2</th>\n",
       "      <th>T1</th>\n",
       "      <th>T2</th>\n",
       "      <th>dT1/dt</th>\n",
       "      <th>ddT1/dt</th>\n",
       "    </tr>\n",
       "  </thead>\n",
       "  <tbody>\n",
       "    <tr>\n",
       "      <th>0</th>\n",
       "      <td>0.0</td>\n",
       "      <td>0.0</td>\n",
       "      <td>0.0</td>\n",
       "      <td>16.00</td>\n",
       "      <td>16.06</td>\n",
       "      <td>NaN</td>\n",
       "      <td>NaN</td>\n",
       "    </tr>\n",
       "    <tr>\n",
       "      <th>1</th>\n",
       "      <td>1.0</td>\n",
       "      <td>0.0</td>\n",
       "      <td>0.0</td>\n",
       "      <td>16.00</td>\n",
       "      <td>16.06</td>\n",
       "      <td>0.00</td>\n",
       "      <td>NaN</td>\n",
       "    </tr>\n",
       "    <tr>\n",
       "      <th>2</th>\n",
       "      <td>2.0</td>\n",
       "      <td>0.0</td>\n",
       "      <td>0.0</td>\n",
       "      <td>15.94</td>\n",
       "      <td>16.06</td>\n",
       "      <td>-0.06</td>\n",
       "      <td>-0.06</td>\n",
       "    </tr>\n",
       "    <tr>\n",
       "      <th>3</th>\n",
       "      <td>3.0</td>\n",
       "      <td>0.0</td>\n",
       "      <td>0.0</td>\n",
       "      <td>16.03</td>\n",
       "      <td>16.06</td>\n",
       "      <td>0.09</td>\n",
       "      <td>0.15</td>\n",
       "    </tr>\n",
       "    <tr>\n",
       "      <th>4</th>\n",
       "      <td>4.0</td>\n",
       "      <td>0.0</td>\n",
       "      <td>0.0</td>\n",
       "      <td>16.03</td>\n",
       "      <td>16.06</td>\n",
       "      <td>0.00</td>\n",
       "      <td>-0.09</td>\n",
       "    </tr>\n",
       "  </tbody>\n",
       "</table>\n",
       "</div>"
      ],
      "text/plain": [
       "   Time   Q1   Q2     T1     T2  dT1/dt  ddT1/dt\n",
       "0   0.0  0.0  0.0  16.00  16.06     NaN      NaN\n",
       "1   1.0  0.0  0.0  16.00  16.06    0.00      NaN\n",
       "2   2.0  0.0  0.0  15.94  16.06   -0.06    -0.06\n",
       "3   3.0  0.0  0.0  16.03  16.06    0.09     0.15\n",
       "4   4.0  0.0  0.0  16.03  16.06    0.00    -0.09"
      ]
     },
     "execution_count": 21,
     "metadata": {},
     "output_type": "execute_result"
    }
   ],
   "source": [
    "features = ['Dt', 'Ddt']\n",
    "dT1_dt = data7['T1'].diff()/data7['Time'].diff()\n",
    "data7['dT1/dt'] = dT1_dt\n",
    "ddT1_dt = data7['dT1/dt'].diff()/data7['Time'].diff()\n",
    "data7['ddT1/dt'] = ddT1_dt\n",
    "data7.head()"
   ]
  },
  {
   "cell_type": "markdown",
   "metadata": {},
   "source": [
    "### Scale the Data\n",
    "\n",
    "Scale `data7` to be between `0` and `1` with `d7 = s.fit_transform(data7)`. Don't forget to translate the scaled values back to a `pandas` DataFrame."
   ]
  },
  {
   "cell_type": "code",
   "execution_count": 29,
   "metadata": {},
   "outputs": [
    {
     "data": {
      "text/html": [
       "<div>\n",
       "<style scoped>\n",
       "    .dataframe tbody tr th:only-of-type {\n",
       "        vertical-align: middle;\n",
       "    }\n",
       "\n",
       "    .dataframe tbody tr th {\n",
       "        vertical-align: top;\n",
       "    }\n",
       "\n",
       "    .dataframe thead th {\n",
       "        text-align: right;\n",
       "    }\n",
       "</style>\n",
       "<table border=\"1\" class=\"dataframe\">\n",
       "  <thead>\n",
       "    <tr style=\"text-align: right;\">\n",
       "      <th></th>\n",
       "      <th>Time</th>\n",
       "      <th>Q1</th>\n",
       "      <th>Q2</th>\n",
       "      <th>T1</th>\n",
       "      <th>T2</th>\n",
       "      <th>dT1/dt</th>\n",
       "      <th>ddT1/dt</th>\n",
       "    </tr>\n",
       "  </thead>\n",
       "  <tbody>\n",
       "    <tr>\n",
       "      <th>0</th>\n",
       "      <td>0.000000</td>\n",
       "      <td>0.0</td>\n",
       "      <td>0.0</td>\n",
       "      <td>0.002455</td>\n",
       "      <td>0.002899</td>\n",
       "      <td>0.000000</td>\n",
       "      <td>0.000000</td>\n",
       "    </tr>\n",
       "    <tr>\n",
       "      <th>1</th>\n",
       "      <td>0.001667</td>\n",
       "      <td>0.0</td>\n",
       "      <td>0.0</td>\n",
       "      <td>0.002455</td>\n",
       "      <td>0.002899</td>\n",
       "      <td>0.395161</td>\n",
       "      <td>0.000000</td>\n",
       "    </tr>\n",
       "    <tr>\n",
       "      <th>2</th>\n",
       "      <td>0.003333</td>\n",
       "      <td>0.0</td>\n",
       "      <td>0.0</td>\n",
       "      <td>0.000982</td>\n",
       "      <td>0.002899</td>\n",
       "      <td>0.346774</td>\n",
       "      <td>0.326425</td>\n",
       "    </tr>\n",
       "    <tr>\n",
       "      <th>3</th>\n",
       "      <td>0.005000</td>\n",
       "      <td>0.0</td>\n",
       "      <td>0.0</td>\n",
       "      <td>0.003191</td>\n",
       "      <td>0.002899</td>\n",
       "      <td>0.467742</td>\n",
       "      <td>0.435233</td>\n",
       "    </tr>\n",
       "    <tr>\n",
       "      <th>4</th>\n",
       "      <td>0.006667</td>\n",
       "      <td>0.0</td>\n",
       "      <td>0.0</td>\n",
       "      <td>0.003191</td>\n",
       "      <td>0.002899</td>\n",
       "      <td>0.395161</td>\n",
       "      <td>0.310881</td>\n",
       "    </tr>\n",
       "  </tbody>\n",
       "</table>\n",
       "</div>"
      ],
      "text/plain": [
       "       Time   Q1   Q2        T1        T2    dT1/dt   ddT1/dt\n",
       "0  0.000000  0.0  0.0  0.002455  0.002899  0.000000  0.000000\n",
       "1  0.001667  0.0  0.0  0.002455  0.002899  0.395161  0.000000\n",
       "2  0.003333  0.0  0.0  0.000982  0.002899  0.346774  0.326425\n",
       "3  0.005000  0.0  0.0  0.003191  0.002899  0.467742  0.435233\n",
       "4  0.006667  0.0  0.0  0.003191  0.002899  0.395161  0.310881"
      ]
     },
     "execution_count": 29,
     "metadata": {},
     "output_type": "execute_result"
    }
   ],
   "source": [
    "d7 = s.fit_transform(data7)\n",
    "data7 = pd.DataFrame(d7, columns=data7.columns).fillna(0)\n",
    "data7.head()"
   ]
  },
  {
   "cell_type": "markdown",
   "metadata": {},
   "source": [
    "### Rank Features\n",
    "\n",
    "Use `SelectKBest` to determine the best features. "
   ]
  },
  {
   "cell_type": "code",
   "execution_count": 55,
   "metadata": {},
   "outputs": [
    {
     "data": {
      "image/png": "[encoded data removed]",
      "text/plain": [
       "<Figure size 432x288 with 1 Axes>"
      ]
     },
     "metadata": {
      "needs_background": "light"
     },
     "output_type": "display_data"
    },
    {
     "name": "stdout",
     "output_type": "stream",
     "text": [
      "           Specs     Score\n",
      "T1            T1  0.942707\n",
      "dT1/dt    dT1/dt  3.040066\n",
      "ddT1/dt  ddT1/dt  0.073085\n"
     ]
    }
   ],
   "source": [
    "features = ['T1', 'dT1/dt','ddT1/dt']\n",
    "label = 'Q1'\n",
    "bestfeatures = SelectKBest(score_func=chi2, k='all')\n",
    "fit = bestfeatures.fit(data7[features],data7[label])\n",
    "dfscores = pd.DataFrame(fit.scores_)\n",
    "dfcolumns = pd.DataFrame(data7[features].columns)\n",
    "scores = pd.concat([dfcolumns,dfscores],axis=1)\n",
    "scores.columns = ['Specs','Score']\n",
    "scores.index = features\n",
    "scores.plot(kind='bar')\n",
    "plt.show()\n",
    "\n",
    "print(scores)"
   ]
  },
  {
   "cell_type": "markdown",
   "metadata": {},
   "source": [
    "### Feature Correlation\n",
    "\n",
    "Generate a Heat Map to determine the correlation of the features. "
   ]
  },
  {
   "cell_type": "code",
   "execution_count": 54,
   "metadata": {},
   "outputs": [
    {
     "data": {
      "image/png": "[encoded data removed]",
      "text/plain": [
       "<Figure size 360x360 with 2 Axes>"
      ]
     },
     "metadata": {
      "needs_background": "light"
     },
     "output_type": "display_data"
    }
   ],
   "source": [
    "everything = ['T1', 'dT1/dt','ddT1/dt', 'Q1']\n",
    "top_features=['T1','dT1/dt']\n",
    "corrmat = data7[everything].corr()\n",
    "top_features = corrmat.index\n",
    "plt.figure(figsize=(5,5))\n",
    "sns.heatmap(data7[top_features].corr(),annot=True,cmap=\"RdYlGn\")\n",
    "b, t = plt.ylim(); plt.ylim(b+0.5, t-0.5) # addresses issue in matplotlib 3.1.1\n",
    "plt.show()"
   ]
  },
  {
   "cell_type": "code",
   "execution_count": null,
   "metadata": {},
   "outputs": [],
   "source": []
  }
 ],
 "metadata": {
  "kernelspec": {
   "display_name": "Python 3",
   "language": "python",
   "name": "python3"
  },
  "language_info": {
   "codemirror_mode": {
    "name": "ipython",
    "version": 3
   },
   "file_extension": ".py",
   "mimetype": "text/x-python",
   "name": "python",
   "nbconvert_exporter": "python",
   "pygments_lexer": "ipython3",
   "version": "3.10.1"
  }
 },
 "nbformat": 4,
 "nbformat_minor": 2
}
