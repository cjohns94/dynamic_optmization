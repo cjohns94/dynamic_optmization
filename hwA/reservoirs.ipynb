{
 "cells": [
  {
   "cell_type": "code",
   "execution_count": 1,
   "metadata": {},
   "outputs": [
    {
     "name": "stdout",
     "output_type": "stream",
     "text": [
      "Collecting gekko\n",
      "  Downloading gekko-1.0.2-py3-none-any.whl (12.4 MB)\n",
      "\u001b[K     |████████████████████████████████| 12.4 MB 3.8 MB/s eta 0:00:01\n",
      "\u001b[?25hRequirement already satisfied: numpy>=1.8 in /home/curtis/.local/lib/python3.8/site-packages (from gekko) (1.21.2)\n",
      "Installing collected packages: gekko\n",
      "Successfully installed gekko-1.0.2\n"
     ]
    }
   ],
   "source": [
    "!pip install gekko"
   ]
  },
  {
   "cell_type": "markdown",
   "metadata": {},
   "source": [
    "Here's a [link](https://apmonitor.com/do/index.php/Main/ModelFormulation) the this homework's webpage. Basically, we are simulated fluid heights over 4 interconnected lakes (i.e. tanks) in Utah. There are several ways to do this. I'll start by using GEKKO."
   ]
  },
  {
   "cell_type": "markdown",
   "metadata": {},
   "source": [
    "Here's a list of parameters for this problem:\n",
    "\n",
    "```\n",
    " Outflow River Rates (km3/yr) with height in meters\n",
    " Vflow_out1 = 0.030 sqrt(h1) \n",
    " Vflow_out2 = 0.015 sqrt(h2) \n",
    " Vflow_out3 = 0.060 sqrt(h3)\n",
    " Vflow_out4 = 0\n",
    "\n",
    " Evaporation Rates (km3/yr)\n",
    " Vevap = 0.5e-5 * Area, for salt water (Great Salt Lake)\n",
    " Vevap = 1e-5 * Area, for fresh water (all others)\n",
    "\n",
    " Inflow Rates (km3/yr)\n",
    " Vflow_in1 = 0.13 (June-Feb), 0.21 (Mar-May)\n",
    " Vflow_in2 = Vflow_out1\n",
    " Vflow_in3 = Vflow_out2\n",
    " Vflow_in4 = Vflow_out3\n",
    "\n",
    " Usage Requirements (km3/yr)\n",
    " Vuse1 = 0.03\n",
    " Vuse2 = 0.05\n",
    " Vuse3 = 0.02\n",
    " Vuse4 = 0.00\n",
    "\n",
    " Area of Reservoir / Lake (km2)\n",
    " A1 = 13.4\n",
    " A2 = 12.0\n",
    " A3 = 384.5\n",
    " A4 = 4400\n",
    "\n",
    " Initial Volume of Reservoir / Lake (km3)\n",
    " V1 = 0.26\n",
    " V2 = 0.18\n",
    " V3 = 0.68\n",
    " V4 = 22.0\n",
    " ```"
   ]
  },
  {
   "cell_type": "markdown",
   "metadata": {},
   "source": [
    "In general, this is going to be a system of 4 first-order coupled ODEs with 4 state variables representing the height of each of the reservoirs. \n",
    "\n",
    "We can start with a mass balance of a single reservoir (tank, since we are assuming areas are constant as well):\n",
    "\n",
    "$$ \\frac{dm}{dt} = \\dot{m}_{\\mathrm{in}} - \\dot{m}_{\\mathrm{out}} $$\n",
    "\n",
    "Since $m = \\rho V \\implies \\dot{m} = \\rho \\dot{V} = \\rho A \\dot{h}$ (assuming constant density of water), we can rewrite the above equation as:\n",
    "\n",
    "$$ \\rho A \\frac{dh}{dt} = \\rho \\dot{V}_{\\mathrm{in}} - \\rho \\dot{V}_{\\mathrm{out}} $$\n",
    "\n",
    "or \n",
    "\n",
    "$$ A \\frac{dh}{dt} =  \\dot{V}_{\\mathrm{in}} -  \\dot{V}_{\\mathrm{out}} $$"
   ]
  },
  {
   "cell_type": "markdown",
   "metadata": {},
   "source": [
    "The table above tells us that there is one source of volumtric flow for each tank and several sources of outflow for each tank (usage, outflow, and evaporation).\n",
    "\n",
    "So the final ODE for a single tank is going to look something like this:\n",
    "\n",
    "``` A * hdot = Vflow_in - k * sqrt(h) - c * A - Vuse ```\n"
   ]
  },
  {
   "cell_type": "code",
   "execution_count": 42,
   "metadata": {},
   "outputs": [],
   "source": [
    "from gekko import GEKKO\n",
    "import numpy as np\n",
    "\n",
    "#constant parameters\n",
    "areas = np.array([13.4,12.0,384.5,4400])\n",
    "\n",
    "#outflow coefficients/constants\n",
    "c = np.array([.03, .015,.06, 0])\n",
    "Vuse = np.array([.03,.05,.02,.00])\n",
    "\n",
    "#initial conditions\n",
    "V0 = np.array([.26,.18,.68,22])\n",
    "h0 = 1000 * V0 /areas\n",
    "\n",
    "#initial outflow rates\n",
    "Vout0 = c * np.sqrt(h0)\n",
    "\n",
    "#time varying inflow rate into first tank\n",
    "vin_first = [0.13,0.13,0.21,0.21,0.21,0.13,\\\n",
    "       0.13,0.13,0.13,0.13,0.13,0.13]\n",
    "\n",
    "Vin = np.zeros(4)\n"
   ]
  },
  {
   "cell_type": "code",
   "execution_count": 43,
   "metadata": {},
   "outputs": [
    {
     "data": {
      "text/plain": [
       "[<gekko.gekko.EquationObj at 0x7f77c4b4bfa0>,\n",
       " <gekko.gekko.EquationObj at 0x7f77c4b4b670>,\n",
       " <gekko.gekko.EquationObj at 0x7f77c4b4bee0>,\n",
       " <gekko.gekko.EquationObj at 0x7f77c4b4be50>]"
      ]
     },
     "execution_count": 43,
     "metadata": {},
     "output_type": "execute_result"
    }
   ],
   "source": [
    "#GEKKO STUFF\n",
    "\n",
    "m = GEKKO()\n",
    "# m.time = np.linspace(0,1,12) # 0 to 1 year with 13 values?\n",
    "m.time = np.linspace(0,1,12,endpoint=False) #needs to be in year because of units of data given.\n",
    "#load constant params\n",
    "params = m.Array(m.Const, 4, value=0)\n",
    "params[0].value = c[0]\n",
    "params[1].value = c[1]\n",
    "params[2].value = c[2]\n",
    "params[3].value = c[3]\n",
    "\n",
    "evap_coeff = m.Array(m.Param,4,value=1e-5)\n",
    "evap_coeff[-1].value = .5e-5\n",
    "\n",
    "#input flow rates\n",
    "Vin = [0,0,0,0]\n",
    "Vin[0] = m.Param(value=vin_first)\n",
    "\n",
    "#load all areas as gekko params\n",
    "A = [m.Param(value=a) for a in areas]\n",
    "\n",
    "#load gekko time variables (volume, height, outflow rates)\n",
    "V = [m.Var(value=v) for v in V0]\n",
    "h = [m.Var(value=i) for i in h0]\n",
    "Vout = [m.Var(value=j) for j in Vout0]\n",
    "\n",
    "#load 'intermediate' variables into gekko model. Kinda like kinematic relationships\n",
    "Vin[-3:] = [m.Intermediate(Vout[i]) for i in range(3)] #link output to each successive tank's input\n",
    "Vevap = [m.Intermediate(evap_coeff[i] * A[i]) for i in range(4)]\n",
    "\n",
    "#Equations\n",
    "m.Equations([V[i].dt() == \\\n",
    "             Vin[i] - Vout[i] - Vevap[i] - Vuse[i] \\\n",
    "             for i in range(4)])\n",
    "m.Equations([1000*V[i] == h[i]*A[i] for i in range(4)])\n",
    "m.Equations([Vout[i]**2 == c[i]**2 * h[i] for i in range(4)])\n",
    "\n"
   ]
  },
  {
   "cell_type": "code",
   "execution_count": 44,
   "metadata": {},
   "outputs": [
    {
     "name": "stdout",
     "output_type": "stream",
     "text": [
      "apm 10.32.114.116_gk_model14 <br><pre> ----------------------------------------------------------------\n",
      " APMonitor, Version 1.0.1\n",
      " APMonitor Optimization Suite\n",
      " ----------------------------------------------------------------\n",
      " \n",
      " \n",
      " --------- APM Model Size ------------\n",
      " Each time step contains\n",
      "   Objects      :            0\n",
      "   Constants    :            4\n",
      "   Variables    :           21\n",
      "   Intermediates:            7\n",
      "   Connections  :            0\n",
      "   Equations    :           19\n",
      "   Residuals    :           12\n",
      " \n",
      " Number of state variables:            176\n",
      " Number of total equations: -          176\n",
      " Number of slack variables: -            0\n",
      " ---------------------------------------\n",
      " Degrees of freedom       :              0\n",
      " \n",
      " **********************************************\n",
      " Dynamic Simulation with Interior Point Solver\n",
      " **********************************************\n",
      "  \n",
      "  \n",
      " Info: Exact Hessian\n",
      "\n",
      "******************************************************************************\n",
      "This program contains Ipopt, a library for large-scale nonlinear optimization.\n",
      " Ipopt is released as open source code under the Eclipse Public License (EPL).\n",
      "         For more information visit http://projects.coin-or.org/Ipopt\n",
      "******************************************************************************\n",
      "\n",
      "This is Ipopt version 3.12.10, running with linear solver ma57.\n",
      "\n",
      "Number of nonzeros in equality constraint Jacobian...:      425\n",
      "Number of nonzeros in inequality constraint Jacobian.:        0\n",
      "Number of nonzeros in Lagrangian Hessian.............:       44\n",
      "\n",
      "Total number of variables............................:      176\n",
      "                     variables with only lower bounds:        0\n",
      "                variables with lower and upper bounds:       33\n",
      "                     variables with only upper bounds:        0\n",
      "Total number of equality constraints.................:      176\n",
      "Total number of inequality constraints...............:        0\n",
      "        inequality constraints with only lower bounds:        0\n",
      "   inequality constraints with lower and upper bounds:        0\n",
      "        inequality constraints with only upper bounds:        0\n",
      "\n",
      "iter    objective    inf_pr   inf_du lg(mu)  ||d||  lg(rg) alpha_du alpha_pr  ls\n",
      "   0  0.0000000e+00 5.78e-02 0.00e+00   0.0 0.00e+00    -  0.00e+00 0.00e+00   0\n",
      "Reallocating memory for MA57: lfact (6063)\n",
      "   1  0.0000000e+00 1.07e-05 1.12e-03  12.8 1.12e-01  -2.0 9.90e-01 1.00e+00h  1\n",
      "   2  0.0000000e+00 1.27e-08 2.36e-06   7.0 1.42e-04    -  1.00e+00 1.00e+00h  1\n",
      "\n",
      "Number of Iterations....: 2\n",
      "\n",
      "                                   (scaled)                 (unscaled)\n",
      "Objective...............:   0.0000000000000000e+00    0.0000000000000000e+00\n",
      "Dual infeasibility......:   0.0000000000000000e+00    0.0000000000000000e+00\n",
      "Constraint violation....:   1.2745586903621689e-08    1.2745586903621689e-08\n",
      "Complementarity.........:   0.0000000000000000e+00    0.0000000000000000e+00\n",
      "Overall NLP error.......:   1.2745586903621689e-08    1.2745586903621689e-08\n",
      "\n",
      "\n",
      "Number of objective function evaluations             = 3\n",
      "Number of objective gradient evaluations             = 3\n",
      "Number of equality constraint evaluations            = 3\n",
      "Number of inequality constraint evaluations          = 0\n",
      "Number of equality constraint Jacobian evaluations   = 3\n",
      "Number of inequality constraint Jacobian evaluations = 0\n",
      "Number of Lagrangian Hessian evaluations             = 2\n",
      "Total CPU secs in IPOPT (w/o function evaluations)   =      0.005\n",
      "Total CPU secs in NLP function evaluations           =      0.003\n",
      "\n",
      "EXIT: Optimal Solution Found.\n",
      " \n",
      " The solution was found.\n",
      " \n",
      " The final value of the objective function is   0.000000000000000E+000\n",
      " \n",
      " ---------------------------------------------------\n",
      " Solver         :  IPOPT (v3.12)\n",
      " Solution time  :   1.339999999618158E-002 sec\n",
      " Objective      :   0.000000000000000E+000\n",
      " Successful solution\n",
      " ---------------------------------------------------\n",
      " \n"
     ]
    },
    {
     "data": {
      "image/png": "[encoded data removed]",
      "text/plain": [
       "<Figure size 1152x648 with 3 Axes>"
      ]
     },
     "metadata": {
      "needs_background": "light"
     },
     "output_type": "display_data"
    }
   ],
   "source": [
    "\n",
    "#Set to simulation mode\n",
    "m.options.imode = 4\n",
    "\n",
    "#Solve\n",
    "m.solve()\n",
    "\n",
    "# %% Plot results\n",
    "time = [x * 12 for x in m.time] #convert times from years to months\n",
    "\n",
    "# plot results\n",
    "import matplotlib.pyplot as plt\n",
    "plt.figure(1,figsize=(16,9))\n",
    "\n",
    "plt.subplot(311)\n",
    "plt.plot(time,h[0].value,'r-')\n",
    "plt.plot(time,h[1].value,'b--')\n",
    "plt.grid(True)\n",
    "plt.ylabel('Level (m)')\n",
    "plt.legend(['Jordanelle Reservoir','Deer Creek Reservoir'])\n",
    "\n",
    "plt.subplot(312)\n",
    "plt.plot(time,h[3].value,'g-')\n",
    "plt.plot(time,h[2].value,'k:')\n",
    "plt.grid(True)\n",
    "plt.ylabel('Level (m)')\n",
    "plt.legend(['Great Salt Lake','Utah Lake'])\n",
    "\n",
    "plt.subplot(313)\n",
    "plt.plot(time,Vin[0].value,'k-')\n",
    "plt.plot(time,Vout[0].value,'r-')\n",
    "plt.plot(time,Vout[1].value,'b--')\n",
    "plt.plot(time,Vout[2].value,'g-')\n",
    "plt.grid(True)\n",
    "plt.xlabel('Time (month)')\n",
    "plt.ylabel('Flow (km3/yr)')\n",
    "plt.legend(['Supply Flow','Upper Provo River', \\\n",
    "            'Lower Provo River','Jordan River'])\n",
    "plt.show()\n"
   ]
  },
  {
   "cell_type": "code",
   "execution_count": null,
   "metadata": {},
   "outputs": [],
   "source": []
  }
 ],
 "metadata": {
  "interpreter": {
   "hash": "31f2aee4e71d21fbe5cf8b01ff0e069b9275f58929596ceb00d14d90e3e16cd6"
  },
  "kernelspec": {
   "display_name": "Python 3.8.10 64-bit",
   "language": "python",
   "name": "python3"
  },
  "language_info": {
   "codemirror_mode": {
    "name": "ipython",
    "version": 3
   },
   "file_extension": ".py",
   "mimetype": "text/x-python",
   "name": "python",
   "nbconvert_exporter": "python",
   "pygments_lexer": "ipython3",
   "version": "3.8.10"
  },
  "orig_nbformat": 4
 },
 "nbformat": 4,
 "nbformat_minor": 2
}
