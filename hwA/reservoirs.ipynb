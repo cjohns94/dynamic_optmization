{
 "cells": [
  {
   "cell_type": "code",
   "execution_count": 1,
   "metadata": {},
   "outputs": [
    {
     "name": "stdout",
     "output_type": "stream",
     "text": [
      "Collecting gekko\n",
      "  Downloading gekko-1.0.2-py3-none-any.whl (12.4 MB)\n",
      "\u001b[K     |████████████████████████████████| 12.4 MB 3.8 MB/s eta 0:00:01\n",
      "\u001b[?25hRequirement already satisfied: numpy>=1.8 in /home/curtis/.local/lib/python3.8/site-packages (from gekko) (1.21.2)\n",
      "Installing collected packages: gekko\n",
      "Successfully installed gekko-1.0.2\n"
     ]
    }
   ],
   "source": [
    "!pip install gekko"
   ]
  },
  {
   "cell_type": "markdown",
   "metadata": {},
   "source": [
    "Here's a [link](https://apmonitor.com/do/index.php/Main/ModelFormulation) the this homework's webpage. Basically, we are simulated fluid heights over 4 interconnected lakes (i.e. tanks) in Utah. There are several ways to do this. I'll start by using GEKKO."
   ]
  },
  {
   "cell_type": "markdown",
   "metadata": {},
   "source": [
    "Here's a list of parameters for this problem:\n",
    "\n",
    "```\n",
    " Outflow River Rates (km3/yr) with height in meters\n",
    " Vflow_out1 = 0.030 sqrt(h1) \n",
    " Vflow_out2 = 0.015 sqrt(h2) \n",
    " Vflow_out3 = 0.060 sqrt(h3)\n",
    " Vflow_out4 = 0\n",
    "\n",
    " Evaporation Rates (km3/yr)\n",
    " Vevap = 0.5e-5 * Area, for salt water (Great Salt Lake)\n",
    " Vevap = 1e-5 * Area, for fresh water (all others)\n",
    "\n",
    " Inflow Rates (km3/yr)\n",
    " Vflow_in1 = 0.13 (June-Feb), 0.21 (Mar-May)\n",
    " Vflow_in2 = Vflow_out1\n",
    " Vflow_in3 = Vflow_out2\n",
    " Vflow_in4 = Vflow_out3\n",
    "\n",
    " Usage Requirements (km3/yr)\n",
    " Vuse1 = 0.03\n",
    " Vuse2 = 0.05\n",
    " Vuse3 = 0.02\n",
    " Vuse4 = 0.00\n",
    "\n",
    " Area of Reservoir / Lake (km2)\n",
    " A1 = 13.4\n",
    " A2 = 12.0\n",
    " A3 = 384.5\n",
    " A4 = 4400\n",
    "\n",
    " Initial Volume of Reservoir / Lake (km3)\n",
    " V1 = 0.26\n",
    " V2 = 0.18\n",
    " V3 = 0.68\n",
    " V4 = 22.0\n",
    " ```"
   ]
  },
  {
   "cell_type": "markdown",
   "metadata": {},
   "source": [
    "In general, this is going to be a system of 4 first-order coupled ODEs with 4 state variables representing the height of each of the reservoirs. \n",
    "\n",
    "We can start with a mass balance of a single reservoir (tank, since we are assuming areas are constant as well):\n",
    "\n",
    "$$ \\frac{dm}{dt} = \\dot{m}_{\\mathrm{in}} - \\dot{m}_{\\mathrm{out}} $$\n",
    "\n",
    "Since $m = \\rho V \\implies \\dot{m} = \\rho \\dot{V} = \\rho A \\dot{h}$ (assuming constant density of water), we can rewrite the above equation as:\n",
    "\n",
    "$$ \\rho A \\frac{dh}{dt} = \\rho \\dot{V}_{\\mathrm{in}} - \\rho \\dot{V}_{\\mathrm{out}} $$\n",
    "\n",
    "or \n",
    "\n",
    "$$ A \\frac{dh}{dt} =  \\dot{V}_{\\mathrm{in}} -  \\dot{V}_{\\mathrm{out}} $$"
   ]
  },
  {
   "cell_type": "markdown",
   "metadata": {},
   "source": [
    "The table above tells us that there is one source of volumtric flow for each tank and several sources of outflow for each tank (usage, outflow, and evaporation).\n",
    "\n",
    "So the final ODE for a single tank is going to look something like this:\n",
    "\n",
    "``` A * hdot = Vflow_in - k * sqrt(h) - c * A - Vuse ```\n"
   ]
  },
  {
   "cell_type": "code",
   "execution_count": 4,
   "metadata": {},
   "outputs": [],
   "source": [
    "from gekko import GEKKO\n",
    "import numpy as np\n",
    "\n",
    "#constant parameters\n",
    "areas = np.array([13.4,12.0,384.5,4400])\n",
    "\n",
    "#outflow coefficients\n",
    "c = np.array([.03, .015,.06, 0])\n",
    "\n",
    "#initial conditions\n",
    "V0 = np.array([.26,.18,.68,22])\n",
    "h0 = 1000 * V0 /areas\n",
    "\n",
    "#initial outflow rates\n",
    "Vout0 = c * np.sqrt(h0)\n",
    "\n",
    "#time varying inflow rate into first tank\n",
    "vin_first = np.ones(12)*.13\n",
    "#except during spring with snow melting\n",
    "vin_first[2:4] = .21\n",
    "\n",
    "Vin = np.zeros(4)\n"
   ]
  },
  {
   "cell_type": "code",
   "execution_count": 5,
   "metadata": {},
   "outputs": [],
   "source": [
    "#GEKKO STUFF\n",
    "\n",
    "m = GEKKO()\n",
    "m.time = np.arange(0,12,1)"
   ]
  },
  {
   "cell_type": "code",
   "execution_count": null,
   "metadata": {},
   "outputs": [],
   "source": []
  }
 ],
 "metadata": {
  "interpreter": {
   "hash": "31f2aee4e71d21fbe5cf8b01ff0e069b9275f58929596ceb00d14d90e3e16cd6"
  },
  "kernelspec": {
   "display_name": "Python 3.8.10 64-bit",
   "language": "python",
   "name": "python3"
  },
  "language_info": {
   "codemirror_mode": {
    "name": "ipython",
    "version": 3
   },
   "file_extension": ".py",
   "mimetype": "text/x-python",
   "name": "python",
   "nbconvert_exporter": "python",
   "pygments_lexer": "ipython3",
   "version": "3.8.10"
  },
  "orig_nbformat": 4
 },
 "nbformat": 4,
 "nbformat_minor": 2
}
