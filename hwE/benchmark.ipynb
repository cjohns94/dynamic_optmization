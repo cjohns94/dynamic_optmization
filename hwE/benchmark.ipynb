{
 "cells": [
  {
   "cell_type": "markdown",
   "metadata": {},
   "source": [
    "[This is the link for this homework](https://apmonitor.com/do/index.php/Main/DynamicOptimizationBenchmarks0). I need to pick 5 benchmark problems and do them."
   ]
  },
  {
   "cell_type": "markdown",
   "metadata": {},
   "source": [
    "# Problem 2"
   ]
  },
  {
   "cell_type": "markdown",
   "metadata": {},
   "source": [
    "$$\n",
    "\\begin{gathered}\n",
    "\\min _{u(t)} x_{4}\\left(t_{f}\\right) \\\\\n",
    "\\text { subject to } \\\\\n",
    "\\frac{d x_{1}}{d t}=x_{2} \\\\\n",
    "\\frac{d x_{2}}{d t}=-x_{3} u+16 t-8 \\\\\n",
    "\\frac{d x_{3}}{d t}=u \\\\\n",
    "\\frac{d x_{4}}{d t}=x_{1}^{2}+x_{2}^{2}+0.0005\\left(x_{2}+16 t-8-0.1 x_{3} u^{2}\\right)^{2} \\\\\n",
    "x(0)=[0 \\quad-1 -\\sqrt{5} \\quad 0]^{T} \\\\\n",
    "-4 \\leq u \\leq 10 \\\\\n",
    "t_{f}=1\n",
    "\\end{gathered}\n",
    "$$"
   ]
  },
  {
   "cell_type": "code",
   "execution_count": 20,
   "metadata": {},
   "outputs": [
    {
     "name": "stdout",
     "output_type": "stream",
     "text": [
      "apm 66.219.236.170_gk_model12 <br><pre> ----------------------------------------------------------------\n",
      " APMonitor, Version 1.0.1\n",
      " APMonitor Optimization Suite\n",
      " ----------------------------------------------------------------\n",
      " \n",
      " \n",
      " --------- APM Model Size ------------\n",
      " Each time step contains\n",
      "   Objects      :            0\n",
      "   Constants    :            0\n",
      "   Variables    :            7\n",
      "   Intermediates:            0\n",
      "   Connections  :            0\n",
      "   Equations    :            6\n",
      "   Residuals    :            6\n",
      " \n",
      " Number of state variables:           1500\n",
      " Number of total equations: -         1400\n",
      " Number of slack variables: -            0\n",
      " ---------------------------------------\n",
      " Degrees of freedom       :            100\n",
      " \n",
      " **********************************************\n",
      " Dynamic Control with Interior Point Solver\n",
      " **********************************************\n",
      "  \n",
      "  \n",
      " Info: Exact Hessian\n",
      "\n",
      "******************************************************************************\n",
      "This program contains Ipopt, a library for large-scale nonlinear optimization.\n",
      " Ipopt is released as open source code under the Eclipse Public License (EPL).\n",
      "         For more information visit http://projects.coin-or.org/Ipopt\n",
      "******************************************************************************\n",
      "\n",
      "This is Ipopt version 3.12.10, running with linear solver ma57.\n",
      "\n",
      "Number of nonzeros in equality constraint Jacobian...:     3494\n",
      "Number of nonzeros in inequality constraint Jacobian.:      400\n",
      "Number of nonzeros in Lagrangian Hessian.............:     1100\n",
      "\n",
      "Total number of variables............................:     1500\n",
      "                     variables with only lower bounds:      200\n",
      "                variables with lower and upper bounds:      100\n",
      "                     variables with only upper bounds:        0\n",
      "Total number of equality constraints.................:     1200\n",
      "Total number of inequality constraints...............:      200\n",
      "        inequality constraints with only lower bounds:      200\n",
      "   inequality constraints with lower and upper bounds:        0\n",
      "        inequality constraints with only upper bounds:        0\n",
      "\n",
      "iter    objective    inf_pr   inf_du lg(mu)  ||d||  lg(rg) alpha_du alpha_pr  ls\n",
      "   0  1.1899988e-04 7.65e+00 1.00e+00   0.0 0.00e+00    -  0.00e+00 0.00e+00   0\n",
      "Reallocating memory for MA57: lfact (34785)\n",
      "   1  4.5263141e+00 8.08e+01 1.71e+00  -2.1 2.38e+01    -  3.67e-01 1.00e+00h  1\n",
      "   2 -1.7236976e+00 2.74e+01 3.01e-01  -2.2 5.90e+01    -  7.63e-01 1.00e+00h  1\n",
      "   3 -6.1268295e-01 7.77e+00 5.07e-02  -2.4 1.41e+01    -  8.28e-01 1.00e+00h  1\n",
      "   4  7.0676569e-02 1.85e+00 3.59e-02  -7.9 7.12e+01    -  3.88e-01 9.77e-01h  1\n",
      "   5  1.7217234e-01 2.60e-01 1.48e-02  -3.2 1.49e+01    -  6.53e-01 1.00e+00h  1\n",
      "   6  1.3574262e-01 2.33e-01 9.10e-03  -3.4 1.60e+02    -  7.38e-01 1.00e+00h  1\n",
      "   7  1.3788014e-01 7.86e-02 3.13e-03  -9.0 1.48e+02    -  3.88e-01 8.33e-01h  1\n",
      "   8  1.4258177e-01 4.22e-02 3.87e-03  -4.0 3.03e+01    -  7.12e-01 1.00e+00h  1\n",
      "   9  1.4164690e-01 3.13e-02 1.68e-03  -9.7 2.36e+01    -  5.03e-01 5.26e-01h  1\n",
      "iter    objective    inf_pr   inf_du lg(mu)  ||d||  lg(rg) alpha_du alpha_pr  ls\n",
      "  10  1.4248216e-01 5.81e-02 1.63e-03  -4.5 2.73e+01    -  7.15e-01 9.74e-01h  1\n",
      "  11  1.4687309e-01 2.90e-02 1.16e-03  -4.4 3.14e+01    -  5.10e-01 1.00e+00h  1\n",
      "  12  1.4142366e-01 2.16e-03 1.96e-05  -6.4 1.46e+01    -  9.73e-01 1.00e+00h  1\n",
      "  13  1.3895017e-01 6.15e-03 2.29e-05  -5.8 5.16e+01    -  8.44e-01 1.00e+00h  1\n",
      "  14  1.3957926e-01 5.37e-03 2.09e-06  -5.5 7.13e+01    -  1.00e+00 1.00e+00h  1\n",
      "  15  1.3869735e-01 2.10e-03 8.70e-06  -6.3 5.75e+01    -  8.83e-01 1.00e+00h  1\n",
      "  16  1.3867959e-01 1.40e-02 1.15e-05  -6.5 3.11e+02    -  1.00e+00 1.00e+00h  1\n",
      "  17  1.3859485e-01 1.04e-03 4.42e-07  -7.3 2.69e+01    -  1.00e+00 1.00e+00h  1\n",
      "  18  1.3858523e-01 2.30e-04 1.84e-07  -7.8 1.40e+01    -  9.88e-01 1.00e+00h  1\n",
      "  19  1.3858054e-01 2.18e-04 2.99e-07  -8.7 2.74e+01    -  9.42e-01 1.00e+00h  1\n",
      "iter    objective    inf_pr   inf_du lg(mu)  ||d||  lg(rg) alpha_du alpha_pr  ls\n",
      "  20  1.3857999e-01 3.44e-05 2.06e-08  -9.4 9.81e+00    -  9.96e-01 1.00e+00h  1\n",
      "  21  1.3857986e-01 7.83e-06 5.33e-09 -11.0 4.82e+00    -  9.99e-01 1.00e+00h  1\n",
      "  22  1.3857986e-01 1.44e-06 1.12e-09 -11.0 2.10e+00    -  1.00e+00 1.00e+00h  1\n",
      "  23  1.3857986e-01 3.21e-07 2.38e-10 -11.0 9.93e-01    -  1.00e+00 1.00e+00h  1\n",
      "\n",
      "Number of Iterations....: 23\n",
      "\n",
      "                                   (scaled)                 (unscaled)\n",
      "Objective...............:   1.3857986045458176e-01    1.3857986045458176e-01\n",
      "Dual infeasibility......:   2.3810620158491377e-10    2.3810620158491377e-10\n",
      "Constraint violation....:   3.2061242860592643e-07    3.2061242860592643e-07\n",
      "Complementarity.........:   4.6967273552590205e-11    4.6967273552590205e-11\n",
      "Overall NLP error.......:   3.2061242860592643e-07    3.2061242860592643e-07\n",
      "\n",
      "\n",
      "Number of objective function evaluations             = 24\n",
      "Number of objective gradient evaluations             = 24\n",
      "Number of equality constraint evaluations            = 24\n",
      "Number of inequality constraint evaluations          = 24\n",
      "Number of equality constraint Jacobian evaluations   = 24\n",
      "Number of inequality constraint Jacobian evaluations = 24\n",
      "Number of Lagrangian Hessian evaluations             = 23\n",
      "Total CPU secs in IPOPT (w/o function evaluations)   =      0.109\n",
      "Total CPU secs in NLP function evaluations           =      0.236\n",
      "\n",
      "EXIT: Optimal Solution Found.\n",
      " \n",
      " The solution was found.\n",
      " \n",
      " The final value of the objective function is   0.138579860454582     \n",
      " \n",
      " ---------------------------------------------------\n",
      " Solver         :  IPOPT (v3.12)\n",
      " Solution time  :   0.366099999984726      sec\n",
      " Objective      :   0.138579860454582     \n",
      " Successful solution\n",
      " ---------------------------------------------------\n",
      " \n"
     ]
    }
   ],
   "source": [
    "import numpy as np\n",
    "from gekko import GEKKO\n",
    "\n",
    "m = GEKKO()\n",
    "m.time = np.linspace(0,1,101)\n",
    "x1 = m.Var(value=0)\n",
    "x2 = m.Var(-1)\n",
    "x3 = m.Var(-np.sqrt(5))\n",
    "x4 = m.Var(0)\n",
    "u = m.MV(7, lb = -4, ub = 10)\n",
    "u.STATUS = 1 #use for optimization\n",
    "t = m.Var(0)\n",
    "\n",
    "mask = np.zeros(101)\n",
    "mask[-1] = 1\n",
    "final = m.Param(value=mask)\n",
    "\n",
    "m.Equation(t.dt() == 1) #why is this necessary?\n",
    "m.Equation(x1.dt() == x2)\n",
    "m.Equation(x2.dt() == -x3*u + 16*t - 8)\n",
    "m.Equation(x3.dt() == u)\n",
    "m.Equation(x4.dt() == x1**2 + x2**2 + .0005*(x2 + 16*t - 8 - 0.1*x3*u**2)**2)\n",
    "\n",
    "m.Minimize(x4 * final)\n",
    "\n",
    "m.options.IMODE = 6 #simultaneous control\n",
    "# m.options.MV_TYPE=1\n",
    "\n",
    "m.solve()\n",
    "\n"
   ]
  },
  {
   "cell_type": "code",
   "execution_count": 21,
   "metadata": {},
   "outputs": [
    {
     "data": {
      "text/plain": [
       "[<matplotlib.lines.Line2D at 0x16f6aab0850>,\n",
       " <matplotlib.lines.Line2D at 0x16f6aab0820>,\n",
       " <matplotlib.lines.Line2D at 0x16f6aab08b0>,\n",
       " <matplotlib.lines.Line2D at 0x16f6aab0ac0>]"
      ]
     },
     "execution_count": 21,
     "metadata": {},
     "output_type": "execute_result"
    },
    {
     "data": {
      "image/png": "[encoded data removed]",
      "text/plain": [
       "<Figure size 432x288 with 1 Axes>"
      ]
     },
     "metadata": {
      "needs_background": "light"
     },
     "output_type": "display_data"
    },
    {
     "data": {
      "image/png": "[encoded data removed]",
      "text/plain": [
       "<Figure size 432x288 with 1 Axes>"
      ]
     },
     "metadata": {
      "needs_background": "light"
     },
     "output_type": "display_data"
    }
   ],
   "source": [
    "import matplotlib.pyplot as plt\n",
    "\n",
    "plt.figure()\n",
    "plt.plot(m.time, u)\n",
    "\n",
    "plt.figure()\n",
    "plt.plot(m.time,x1, m.time,x2, m.time,x3, m.time,x4)"
   ]
  },
  {
   "cell_type": "markdown",
   "metadata": {},
   "source": [
    "# Problem 3"
   ]
  },
  {
   "cell_type": "markdown",
   "metadata": {},
   "source": [
    "$$\n",
    "\\begin{gathered}\n",
    "\\max _{u(t)} x_{2}\\left(t_{f}\\right) \\\\\n",
    "\\text { subject to } \\\\\n",
    "\\frac{d x_{1}}{d t}=-\\left(u+0.5 u^{2}\\right) x_{1} \\\\\n",
    "\\frac{d x_{2}}{d t}=u x_{1} \\\\\n",
    "x(0)=\\left[\\begin{array}{ll}\n",
    "1 & 0\n",
    "\\end{array}\\right]^{T} \\\\\n",
    "0 \\leq u \\leq 5 \\\\\n",
    "t_{f}=1\n",
    "\\end{gathered}\n",
    "$$"
   ]
  },
  {
   "cell_type": "code",
   "execution_count": 23,
   "metadata": {},
   "outputs": [
    {
     "name": "stdout",
     "output_type": "stream",
     "text": [
      "apm 66.219.236.170_gk_model14 <br><pre> ----------------------------------------------------------------\n",
      " APMonitor, Version 1.0.1\n",
      " APMonitor Optimization Suite\n",
      " ----------------------------------------------------------------\n",
      " \n",
      " \n",
      " --------- APM Model Size ------------\n",
      " Each time step contains\n",
      "   Objects      :            0\n",
      "   Constants    :            0\n",
      "   Variables    :            4\n",
      "   Intermediates:            0\n",
      "   Connections  :            0\n",
      "   Equations    :            3\n",
      "   Residuals    :            3\n",
      " \n",
      " Number of state variables:            900\n",
      " Number of total equations: -          800\n",
      " Number of slack variables: -            0\n",
      " ---------------------------------------\n",
      " Degrees of freedom       :            100\n",
      " \n",
      " **********************************************\n",
      " Dynamic Control with Interior Point Solver\n",
      " **********************************************\n",
      "  \n",
      "  \n",
      " Info: Exact Hessian\n",
      "\n",
      "******************************************************************************\n",
      "This program contains Ipopt, a library for large-scale nonlinear optimization.\n",
      " Ipopt is released as open source code under the Eclipse Public License (EPL).\n",
      "         For more information visit http://projects.coin-or.org/Ipopt\n",
      "******************************************************************************\n",
      "\n",
      "This is Ipopt version 3.12.10, running with linear solver ma57.\n",
      "\n",
      "Number of nonzeros in equality constraint Jacobian...:     1697\n",
      "Number of nonzeros in inequality constraint Jacobian.:      400\n",
      "Number of nonzeros in Lagrangian Hessian.............:      200\n",
      "\n",
      "Total number of variables............................:      900\n",
      "                     variables with only lower bounds:      200\n",
      "                variables with lower and upper bounds:      100\n",
      "                     variables with only upper bounds:        0\n",
      "Total number of equality constraints.................:      600\n",
      "Total number of inequality constraints...............:      200\n",
      "        inequality constraints with only lower bounds:      200\n",
      "   inequality constraints with lower and upper bounds:        0\n",
      "        inequality constraints with only upper bounds:        0\n",
      "\n",
      "iter    objective    inf_pr   inf_du lg(mu)  ||d||  lg(rg) alpha_du alpha_pr  ls\n",
      "   0  1.1899988e-04 5.62e+00 1.00e+00   0.0 0.00e+00    -  0.00e+00 0.00e+00   0\n",
      "   1 -4.4374476e-01 1.37e-02 3.57e-02  -6.5 5.32e+00    -  9.65e-01 1.00e+00h  1\n",
      "   2 -4.5823530e-01 2.21e-02 1.32e-02  -3.2 5.58e+00    -  7.74e-01 1.00e+00h  1\n",
      "   3 -5.1851370e-01 2.65e-01 1.31e-02  -8.5 5.06e+01    -  1.33e-01 1.00e+00h  1\n",
      "   4 -5.5293654e-01 1.70e-01 2.55e-03  -4.3 6.40e+01    -  8.23e-01 1.00e+00h  1\n",
      "   5 -5.7778770e-01 3.42e-01 1.75e-03  -4.5 4.50e+01    -  7.13e-01 1.00e+00h  1\n",
      "   6 -5.6969924e-01 9.82e-02 2.24e-03  -4.7 1.65e+01    -  7.65e-01 1.00e+00h  1\n",
      "   7 -5.6943362e-01 1.14e-02 9.25e-05  -5.6 8.35e+00    -  9.72e-01 1.00e+00h  1\n",
      "   8 -5.7013029e-01 1.53e-03 6.96e-05  -6.0 1.40e+01    -  1.00e+00 1.00e+00h  1\n",
      "   9 -5.7039638e-01 2.30e-04 1.33e-05  -6.6 7.03e+00    -  1.00e+00 1.00e+00h  1\n",
      "iter    objective    inf_pr   inf_du lg(mu)  ||d||  lg(rg) alpha_du alpha_pr  ls\n",
      "  10 -5.7044683e-01 4.48e-05 2.73e-06  -7.2 4.73e+00    -  1.00e+00 1.00e+00h  1\n",
      "  11 -5.7045298e-01 3.41e-06 1.58e-07  -7.8 1.26e+00    -  1.00e+00 1.00e+00h  1\n",
      "  12 -5.7045513e-01 2.76e-07 2.40e-09  -8.5 1.42e-01    -  1.00e+00 1.00e+00h  1\n",
      "\n",
      "Number of Iterations....: 12\n",
      "\n",
      "                                   (scaled)                 (unscaled)\n",
      "Objective...............:  -5.7045512963946143e-01   -5.7045512963946143e-01\n",
      "Dual infeasibility......:   2.3962063999682925e-09    2.3962063999682925e-09\n",
      "Constraint violation....:   2.7583782324924755e-07    2.7583782324924755e-07\n",
      "Complementarity.........:   6.6338741269746489e-09    6.6338741269746489e-09\n",
      "Overall NLP error.......:   2.7583782324924755e-07    2.7583782324924755e-07\n",
      "\n",
      "\n",
      "Number of objective function evaluations             = 13\n",
      "Number of objective gradient evaluations             = 13\n",
      "Number of equality constraint evaluations            = 13\n",
      "Number of inequality constraint evaluations          = 13\n",
      "Number of equality constraint Jacobian evaluations   = 13\n",
      "Number of inequality constraint Jacobian evaluations = 13\n",
      "Number of Lagrangian Hessian evaluations             = 12\n",
      "Total CPU secs in IPOPT (w/o function evaluations)   =      0.031\n",
      "Total CPU secs in NLP function evaluations           =      0.061\n",
      "\n",
      "EXIT: Optimal Solution Found.\n",
      " \n",
      " The solution was found.\n",
      " \n",
      " The final value of the objective function is  -0.570455129639461     \n",
      " \n",
      " ---------------------------------------------------\n",
      " Solver         :  IPOPT (v3.12)\n",
      " Solution time  :   0.109500000020489      sec\n",
      " Objective      :  -0.570455129639461     \n",
      " Successful solution\n",
      " ---------------------------------------------------\n",
      " \n"
     ]
    },
    {
     "data": {
      "text/plain": [
       "[<matplotlib.lines.Line2D at 0x16f6ac2d310>,\n",
       " <matplotlib.lines.Line2D at 0x16f6ac2d370>]"
      ]
     },
     "execution_count": 23,
     "metadata": {},
     "output_type": "execute_result"
    },
    {
     "data": {
      "image/png": "[encoded data removed]",
      "text/plain": [
       "<Figure size 432x288 with 1 Axes>"
      ]
     },
     "metadata": {
      "needs_background": "light"
     },
     "output_type": "display_data"
    },
    {
     "data": {
      "image/png": "[encoded data removed]",
      "text/plain": [
       "<Figure size 432x288 with 1 Axes>"
      ]
     },
     "metadata": {
      "needs_background": "light"
     },
     "output_type": "display_data"
    }
   ],
   "source": [
    "m = GEKKO()\n",
    "m.time = np.linspace(0,1,101)\n",
    "\n",
    "x1 = m.Var(1)\n",
    "x2 = m.Var(0)\n",
    "u = m.MV(2.5, lb=0, ub=5)\n",
    "u.STATUS = 1\n",
    "\n",
    "mask = np.zeros(101)\n",
    "mask[-1] = 1\n",
    "final = m.Param(mask)\n",
    "\n",
    "m.Equation(x1.dt() == -(u + 0.5*u**2)*x1)\n",
    "m.Equation(x2.dt() == u*x1)\n",
    "\n",
    "m.Maximize(x2 * final)\n",
    "\n",
    "m.options.IMODE = 6\n",
    "\n",
    "m.solve()\n",
    "\n",
    "plt.plot(m.time, u)\n",
    "\n",
    "plt.figure()\n",
    "plt.plot(m.time, x1, m.time, x2)\n",
    "\n"
   ]
  },
  {
   "cell_type": "code",
   "execution_count": null,
   "metadata": {},
   "outputs": [],
   "source": []
  }
 ],
 "metadata": {
  "interpreter": {
   "hash": "fd6cc589118c798e0b589fb8b724d1cf92b575c49a2352931103f466384d1cf6"
  },
  "kernelspec": {
   "display_name": "Python 3.9.10 64-bit",
   "language": "python",
   "name": "python3"
  },
  "language_info": {
   "codemirror_mode": {
    "name": "ipython",
    "version": 3
   },
   "file_extension": ".py",
   "mimetype": "text/x-python",
   "name": "python",
   "nbconvert_exporter": "python",
   "pygments_lexer": "ipython3",
   "version": "3.9.10"
  },
  "orig_nbformat": 4
 },
 "nbformat": 4,
 "nbformat_minor": 2
}
