{
 "cells": [
  {
   "cell_type": "markdown",
   "metadata": {},
   "source": [
    "The TCLab is a hands-on application of machine learning and advanced temperature control with two heaters and two temperature sensors. The labs reinforce principles of model development, estimation, and advanced control methods. This is the seventh exercise and it involves nonlinear model predictive control with an energy balance model that is augmented with empirical elements. The predictions were previously aligned to the measured values through an estimator. This model predictive controller uses those parameters and a nonlinear MIMO (Multiple Input, Multiple Output) model of the TCLab input to output response to control temperatures to a set point.\n",
    "\n",
    "[Link](https://apmonitor.com/do/index.php/Main/TCLabG)\n"
   ]
  },
  {
   "cell_type": "markdown",
   "metadata": {},
   "source": [
    "## Implement an MPC controller\n",
    "\n",
    " Need to follow set point changes for both temperatures. Use a 10 minute test period where each set point changes 2-3 times. "
   ]
  },
  {
   "cell_type": "markdown",
   "metadata": {},
   "source": [
    "## Plots\n",
    "\n",
    "Plot setpoint changes, measured temperatures, and heater values."
   ]
  },
  {
   "cell_type": "markdown",
   "metadata": {},
   "source": [
    "### Questions\n",
    "\n",
    "1. What is the difference in performance between the nonlinear MPC (this lab) and linear MPC\n",
    "(previous lab)? Do the nonlinear correlations significantly improve performance over the linear\n",
    "model? What is the difference in computational cost (solve time) for each cycle of the controller?\n",
    "2. Some very complicated nonlinear models may fail to converge or intermittently require a larger\n",
    "number of iterations to solve. What backup measures would you suggest for an application that\n",
    "may intermittently fail to provide a solution?\n",
    "3. One possible way to deal with nonlinear systems in control is to locally approximate the\n",
    "nonlinear system with a linear model. What may be the advantages or disadvantages of\n",
    "linearizing a nonlinear model versus solving the nonlinear model directly in a control application?"
   ]
  }
 ],
 "metadata": {
  "language_info": {
   "name": "python"
  },
  "orig_nbformat": 4
 },
 "nbformat": 4,
 "nbformat_minor": 2
}
