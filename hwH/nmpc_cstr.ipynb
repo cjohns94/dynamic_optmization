{
 "cells": [
  {
   "cell_type": "markdown",
   "metadata": {},
   "source": [
    "Objective: Design a controller to maintain temperature of a chemical reactor. Develop 3 separate controllers (PID, Linear MPC, Nonlinear MPC) in Python, MATLAB, or Simulink. Demonstrate controller performance with steps in the set point and disturbance changes. Estimated time: 3 hours.\n",
    "\n",
    "[link](https://apmonitor.com/do/index.php/Main/NonlinearControl)\n",
    "\n",
    "I need to control jacket temperature to maintain a reactor temperature that minimizes the concentration of a hazardous chemical. I can never let the reactor get above 400 K. The control range that I have is 250-350 K on the jacket. "
   ]
  },
  {
   "cell_type": "code",
   "execution_count": null,
   "metadata": {},
   "outputs": [],
   "source": []
  }
 ],
 "metadata": {
  "language_info": {
   "name": "python"
  },
  "orig_nbformat": 4
 },
 "nbformat": 4,
 "nbformat_minor": 2
}
